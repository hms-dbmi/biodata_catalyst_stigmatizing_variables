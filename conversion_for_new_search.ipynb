{
 "cells": [
  {
   "cell_type": "markdown",
   "id": "1d4d8949",
   "metadata": {},
   "source": [
    "# Conversion for new search\n",
    "The purpose of this notebook is to convert the old concept paths of stigmatizing variables to the new concept paths used in the revamped PIC-SURE search. \n",
    "\n",
    "March 2022"
   ]
  },
  {
   "cell_type": "code",
   "execution_count": 1,
   "id": "7129bde5",
   "metadata": {},
   "outputs": [],
   "source": [
    "# Do imports\n",
    "import pandas as pd\n",
    "import tarfile as tar"
   ]
  },
  {
   "cell_type": "code",
   "execution_count": 2,
   "id": "98f9f4cd",
   "metadata": {},
   "outputs": [],
   "source": [
    "trial = \"/home/ec2-user/studies/ALL-avillach-73-bdcatalyst-etl/hct_for_scd/mappings/phs002385/mapping_conversion_files.tar.gz\"\n",
    "test = tar.open(trial)\n",
    "#df = pd.read_csv(trial, compression='gzip', header=0, sep=',', quotechar='\"')#, error_bad_lines=False)"
   ]
  },
  {
   "cell_type": "code",
   "execution_count": 3,
   "id": "96bd5759",
   "metadata": {},
   "outputs": [
    {
     "data": {
      "text/plain": [
       "<tarfile.TarFile at 0x7f762cbd7588>"
      ]
     },
     "execution_count": 3,
     "metadata": {},
     "output_type": "execute_result"
    }
   ],
   "source": [
    "test"
   ]
  },
  {
   "cell_type": "code",
   "execution_count": 4,
   "id": "8ea738b6",
   "metadata": {},
   "outputs": [],
   "source": [
    "other_test = test.getmembers()"
   ]
  },
  {
   "cell_type": "code",
   "execution_count": 5,
   "id": "5b18215b",
   "metadata": {},
   "outputs": [
    {
     "name": "stdout",
     "output_type": "stream",
     "text": [
      "[<TarInfo 'old_to_new_mapping_with_filename.csv' at 0x7f762cbe6110>, <TarInfo 'old_to_new_mapping.csv' at 0x7f762cbe61d8>]\n"
     ]
    }
   ],
   "source": [
    "print(other_test)"
   ]
  },
  {
   "cell_type": "code",
   "execution_count": 6,
   "id": "bd45cd13",
   "metadata": {},
   "outputs": [],
   "source": [
    "csv_contents = test.extract(other_test[0])"
   ]
  },
  {
   "cell_type": "code",
   "execution_count": 7,
   "id": "7f72f0ed",
   "metadata": {},
   "outputs": [],
   "source": [
    "csv_contents"
   ]
  },
  {
   "cell_type": "code",
   "execution_count": 17,
   "id": "7bcefbcf",
   "metadata": {},
   "outputs": [],
   "source": [
    "!cp /home/ec2-user/studies/ALL-avillach-73-bdcatalyst-etl/whi/mappings/phs000200/mapping_conversion_files.tar.gz ."
   ]
  },
  {
   "cell_type": "code",
   "execution_count": 18,
   "id": "a5185c01",
   "metadata": {},
   "outputs": [
    {
     "name": "stdout",
     "output_type": "stream",
     "text": [
      "old_to_new_mapping_with_filename.csv\r\n",
      "old_to_new_mapping.csv\r\n"
     ]
    }
   ],
   "source": [
    "!tar -xvzf mapping_conversion_files.tar.gz"
   ]
  },
  {
   "cell_type": "code",
   "execution_count": 19,
   "id": "b2e2f5ce",
   "metadata": {},
   "outputs": [
    {
     "name": "stdout",
     "output_type": "stream",
     "text": [
      "conversion_for_new_search.ipynb        python_lib\r\n",
      "identify_stigmatizing_variables.ipynb  README.md\r\n",
      "LICENSE\t\t\t\t       stigmatizing_terms\r\n",
      "mapping_conversion_files.tar.gz        stigmatizing_variable_results\r\n",
      "old_to_new_mapping.csv\t\t       stigmatizing_variables_validation.ipynb\r\n",
      "old_to_new_mapping_with_filename.csv\r\n"
     ]
    }
   ],
   "source": [
    "!ls"
   ]
  },
  {
   "cell_type": "code",
   "execution_count": 22,
   "id": "4f4aecf7",
   "metadata": {},
   "outputs": [],
   "source": [
    "test = pd.read_csv(\"old_to_new_mapping.csv\")"
   ]
  },
  {
   "cell_type": "code",
   "execution_count": 23,
   "id": "9dfdae87",
   "metadata": {},
   "outputs": [
    {
     "data": {
      "text/html": [
       "<div>\n",
       "<style scoped>\n",
       "    .dataframe tbody tr th:only-of-type {\n",
       "        vertical-align: middle;\n",
       "    }\n",
       "\n",
       "    .dataframe tbody tr th {\n",
       "        vertical-align: top;\n",
       "    }\n",
       "\n",
       "    .dataframe thead th {\n",
       "        text-align: right;\n",
       "    }\n",
       "</style>\n",
       "<table border=\"1\" class=\"dataframe\">\n",
       "  <thead>\n",
       "    <tr style=\"text-align: right;\">\n",
       "      <th></th>\n",
       "      <th>old_concept</th>\n",
       "      <th>new_concept</th>\n",
       "    </tr>\n",
       "  </thead>\n",
       "  <tbody>\n",
       "    <tr>\n",
       "      <th>0</th>\n",
       "      <td>\\Women's Health Initiative Clinical Trial and ...</td>\n",
       "      <td>\\phs000200\\pht000982\\phv00077314\\SUBJID\\</td>\n",
       "    </tr>\n",
       "    <tr>\n",
       "      <th>1</th>\n",
       "      <td>\\Women's Health Initiative Clinical Trial and ...</td>\n",
       "      <td>\\phs000200\\pht000982\\phv00077315\\CONSENT\\</td>\n",
       "    </tr>\n",
       "    <tr>\n",
       "      <th>2</th>\n",
       "      <td>\\Women's Health Initiative Clinical Trial and ...</td>\n",
       "      <td>\\phs000200\\pht000982\\phv00080742\\SUBJECT_SOURCE\\</td>\n",
       "    </tr>\n",
       "    <tr>\n",
       "      <th>3</th>\n",
       "      <td>\\Women's Health Initiative Clinical Trial and ...</td>\n",
       "      <td>\\phs000200\\pht000982\\phv00080743\\SOURCE_SUBJEC...</td>\n",
       "    </tr>\n",
       "    <tr>\n",
       "      <th>4</th>\n",
       "      <td>\\Women's Health Initiative Clinical Trial and ...</td>\n",
       "      <td>\\phs000200\\pht000983\\phv00077316\\SUBJID\\</td>\n",
       "    </tr>\n",
       "  </tbody>\n",
       "</table>\n",
       "</div>"
      ],
      "text/plain": [
       "                                         old_concept  \\\n",
       "0  \\Women's Health Initiative Clinical Trial and ...   \n",
       "1  \\Women's Health Initiative Clinical Trial and ...   \n",
       "2  \\Women's Health Initiative Clinical Trial and ...   \n",
       "3  \\Women's Health Initiative Clinical Trial and ...   \n",
       "4  \\Women's Health Initiative Clinical Trial and ...   \n",
       "\n",
       "                                         new_concept  \n",
       "0           \\phs000200\\pht000982\\phv00077314\\SUBJID\\  \n",
       "1          \\phs000200\\pht000982\\phv00077315\\CONSENT\\  \n",
       "2   \\phs000200\\pht000982\\phv00080742\\SUBJECT_SOURCE\\  \n",
       "3  \\phs000200\\pht000982\\phv00080743\\SOURCE_SUBJEC...  \n",
       "4           \\phs000200\\pht000983\\phv00077316\\SUBJID\\  "
      ]
     },
     "execution_count": 23,
     "metadata": {},
     "output_type": "execute_result"
    }
   ],
   "source": [
    "test.head()"
   ]
  },
  {
   "cell_type": "code",
   "execution_count": null,
   "id": "b3d4cab6",
   "metadata": {},
   "outputs": [],
   "source": []
  }
 ],
 "metadata": {
  "kernelspec": {
   "display_name": "conda_python3",
   "language": "python",
   "name": "conda_python3"
  },
  "language_info": {
   "codemirror_mode": {
    "name": "ipython",
    "version": 3
   },
   "file_extension": ".py",
   "mimetype": "text/x-python",
   "name": "python",
   "nbconvert_exporter": "python",
   "pygments_lexer": "ipython3",
   "version": "3.6.13"
  }
 },
 "nbformat": 4,
 "nbformat_minor": 5
}
