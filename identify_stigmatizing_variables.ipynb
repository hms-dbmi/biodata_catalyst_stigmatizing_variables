{
 "cells": [
  {
   "cell_type": "markdown",
   "id": "8d6fb585",
   "metadata": {},
   "source": [
    "# BioData Catalyst Powered by PIC-SURE: Identify stigmatizing variables\n",
    "\n",
    "The purpose of this notebook is to identify stigmatizing variables in [BioData Catalyst Powered by PIC-SURE](https://picsure.biodatacatalyst.nhlbi.nih.gov/). Specifically, stigmatizing variables will be identified in PIC-SURE Authorized Access and removed for PIC-SURE Open Access.\n",
    "\n",
    "For more information about stigmatizing variables, please view the [README.md](https://github.com/hms-dbmi/biodata_catalyst_stigmatizing_variables#biodata_catalyst_stigmatizing_variables).\n",
    "\n",
    "---"
   ]
  },
  {
   "cell_type": "markdown",
   "id": "88a91777",
   "metadata": {},
   "source": [
    "### Prerequisites\n",
    "\n",
    "This notebook assumes knowledge of the BioData Catalyst Powered by PIC-SURE platform, data structure, and API. For more information about the API, please visit the [Access to Data using PIC-SURE GitHub repository](https://github.com/hms-dbmi/Access-to-Data-using-PIC-SURE-API).\n",
    "\n",
    "Developer login credentials or access to all data in PIC-SURE Authorized Access is also required to ensure all variables are reviewed. "
   ]
  },
  {
   "cell_type": "markdown",
   "id": "e3715e87",
   "metadata": {},
   "source": [
    "### Connect to PIC-SURE\n",
    "\n",
    "Be sure to save your user-specific token as `token.txt` prior to running the code."
   ]
  },
  {
   "cell_type": "code",
   "execution_count": null,
   "id": "05a062ac",
   "metadata": {
    "scrolled": true
   },
   "outputs": [],
   "source": [
    "import pandas as pd\n",
    "import sys\n",
    "!{sys.executable} -m pip install --upgrade --force-reinstall git+https://github.com/hms-dbmi/pic-sure-python-client.git\n",
    "!{sys.executable} -m pip install --upgrade --force-reinstall git+https://github.com/hms-dbmi/pic-sure-python-adapter-hpds.git\n",
    "!{sys.executable} -m pip install --upgrade --force-reinstall git+https://github.com/hms-dbmi/pic-sure-biodatacatalyst-python-adapter-hpds.git@new-search\n",
    "\n",
    "import PicSureBdcAdapter"
   ]
  },
  {
   "cell_type": "code",
   "execution_count": null,
   "id": "e8cf0923",
   "metadata": {},
   "outputs": [],
   "source": [
    "# Uncomment production URL below for production environment\n",
    "# PICSURE_network_URL = \"https://picsure.biodatacatalyst.nhlbi.nih.gov/picsure\"\n",
    "PICSURE_network_URL = \"https://biodatacatalyst.integration.hms.harvard.edu/picsure\"\n",
    "token_file = \"token.txt\"\n",
    "\n",
    "with open(token_file, \"r\") as f:\n",
    "    my_token = f.read()\n",
    "    \n",
    "bdc = PicSureBdcAdapter.Adapter(PICSURE_network_URL, my_token)"
   ]
  },
  {
   "cell_type": "markdown",
   "id": "80535fe5",
   "metadata": {},
   "source": [
    "\n",
    "### Save all variables in PIC-SURE Authorized Access to DataFrame"
   ]
  },
  {
   "cell_type": "code",
   "execution_count": null,
   "id": "959eab53",
   "metadata": {},
   "outputs": [],
   "source": [
    "dictionary = bdc.useDictionary().dictionary() # Set up the dictionary\n",
    "all_vars = dictionary.find()\n",
    "all_variables = all_vars.dataframe() # Retrieve all variables you have access to"
   ]
  },
  {
   "cell_type": "code",
   "execution_count": null,
   "id": "134f64e8",
   "metadata": {},
   "outputs": [],
   "source": [
    "#all_variables.head()"
   ]
  },
  {
   "cell_type": "code",
   "execution_count": null,
   "id": "e50145df",
   "metadata": {},
   "outputs": [],
   "source": [
    "#all_variables.columns"
   ]
  },
  {
   "cell_type": "code",
   "execution_count": null,
   "id": "0d093c18",
   "metadata": {},
   "outputs": [],
   "source": [
    "clean_df = all_variables[[\"HPDS_PATH\", \"variable\", \"name\", \"description\", \n",
    "                          \"var_report_description\", \"var_name\", \"var_report_comment\", \"values\",\n",
    "                         \"dataTableName\", \"dataTableDescription\"]]\n",
    "clean_df.head()"
   ]
  },
  {
   "cell_type": "code",
   "execution_count": null,
   "id": "4f90f867",
   "metadata": {},
   "outputs": [],
   "source": [
    "def is_same(term1, term2):\n",
    "    if term1 == term2:\n",
    "        return term1\n",
    "    else:\n",
    "        final = str(term1)+\" <<AND>> \"+str(term2)\n",
    "        return final"
   ]
  },
  {
   "cell_type": "code",
   "execution_count": null,
   "id": "87ff0730",
   "metadata": {},
   "outputs": [],
   "source": [
    "final_var_info = []\n",
    "final_dt_info = []\n",
    "for i, path in enumerate(clean_df.HPDS_PATH): # Change to full df when ready \n",
    "    cur_var_info = []\n",
    "    variable = clean_df.variable[i]\n",
    "    if variable != '':\n",
    "        cur_var_info.append(variable)\n",
    "    name = is_same(clean_df.name[i], clean_df.var_name[i])\n",
    "    if name != '':\n",
    "        cur_var_info.append(name)\n",
    "    description = is_same(clean_df.description[i], clean_df.var_report_description[i])\n",
    "    if description != '':\n",
    "        cur_var_info.append(description)\n",
    "    comment = clean_df.var_report_comment[i]\n",
    "    if comment != '':\n",
    "        cur_var_info.append(comment)\n",
    "    #print(cur_var_info)\n",
    "    if len(cur_var_info) == 0:\n",
    "        cur_var_info = \"<<NO INFO AVAILABLE>>\"\n",
    "    final_var_info.append(cur_var_info)\n",
    "    #clean_df.curated_var_info[i] = cur_var_info\n",
    "    \n",
    "    cur_dt_info = []\n",
    "    dt_name = clean_df.dataTableName[i]\n",
    "    if dt_name != '':\n",
    "        cur_dt_info.append(dt_name)\n",
    "    dt_desc = clean_df.dataTableDescription[i]\n",
    "    if dt_desc != '':\n",
    "        cur_dt_info.append(dt_desc)\n",
    "    if len(cur_dt_info) == 0:\n",
    "        cur_dt_info = \"<<NO INFO AVAILABLE>>\"\n",
    "    final_dt_info.append(cur_dt_info)\n",
    "#print(final_var_info)\n",
    "clean_df['curated_var_info'] = final_var_info\n",
    "clean_df['curated_dt_info'] = final_dt_info\n",
    "df = clean_df[['HPDS_PATH', 'curated_var_info', 'curated_dt_info', 'values']]"
   ]
  },
  {
   "cell_type": "code",
   "execution_count": null,
   "id": "c60c248b",
   "metadata": {},
   "outputs": [],
   "source": [
    "#df.head()"
   ]
  },
  {
   "cell_type": "code",
   "execution_count": null,
   "id": "01347faf",
   "metadata": {},
   "outputs": [],
   "source": [
    "stigmatizing_df = pd.read_csv(\"stigmatizing_terms/stigmatizing_keywords.tsv\", sep=\"\\t\")\n",
    "terms_included_df = pd.read_csv(\"stigmatizing_terms/inclusion_terms.tsv\", sep='\\t')\n",
    "terms_excluded_df = pd.read_csv(\"stigmatizing_terms/revamped_exclusion.tsv\", sep='\\t')"
   ]
  },
  {
   "cell_type": "code",
   "execution_count": null,
   "id": "16a93cf0",
   "metadata": {},
   "outputs": [],
   "source": [
    "import re\n",
    "def check_vars(varlist, df, exclude_vars=[]):\n",
    "    stig_var_list = []\n",
    "    #excluded_var_list = []\n",
    "    for i in range(0, len(df[\"curated_var_info\"])):\n",
    "        mini = \"N\"\n",
    "        for var in varlist:\n",
    "            if mini == \"N\":\n",
    "                if re.search(var, str(df['curated_var_info'][i]), re.IGNORECASE):\n",
    "                #for ex in exclude_vars:\n",
    "                #    if df['simplified_name'][i].lower() == ex:\n",
    "                #        if df['simplified_name'][i] not in excluded_var_list:\n",
    "                #            excluded_var_list.append(df['name'][i])\n",
    "                #if df['name'][i] not in excluded_var_list:\n",
    "                    #stig_var_list.append(\"Y\")\n",
    "                    mini = \"Y\"\n",
    "            else:\n",
    "                break\n",
    "        stig_var_list.append(mini)\n",
    "    df[\"need_review\"] = stig_var_list\n",
    "    return df[df.need_review == \"Y\"].reset_index(drop=True)\n",
    "#test = check_vars(stigmatizing_df['Search keyword'], df)"
   ]
  },
  {
   "cell_type": "code",
   "execution_count": null,
   "id": "24ff3086",
   "metadata": {},
   "outputs": [],
   "source": [
    "def automatic_inclusion(df, inclusion_terms):\n",
    "    df[\"stigmatizing\"] = \"NA\"\n",
    "    for i in range(0, len(df.HPDS_PATH)):\n",
    "        mini = \"N\"\n",
    "        for var in inclusion_terms:\n",
    "            if mini == \"N\":\n",
    "                if re.search(var, str(df['curated_var_info'][i]), re.IGNORECASE):\n",
    "                    mini = \"Y\"\n",
    "                    df[\"stigmatizing\"][i] = \"Y\"\n",
    "            else:\n",
    "                break\n",
    "    return(df)"
   ]
  },
  {
   "cell_type": "code",
   "execution_count": null,
   "id": "70dfce95",
   "metadata": {},
   "outputs": [],
   "source": [
    "#test2 = automatic_inclusion(test, terms_included_df[\"Terms to include\"])\n",
    "#test2.head()"
   ]
  },
  {
   "cell_type": "code",
   "execution_count": null,
   "id": "bf56145d",
   "metadata": {},
   "outputs": [],
   "source": [
    "def exclude_terms(df, var_list):\n",
    "    for i in range(0, len(df.HPDS_PATH)):\n",
    "        if df.stigmatizing[i] == \"NA\":\n",
    "            mini = \"NA\"\n",
    "            for var in var_list:\n",
    "                if mini == \"NA\":\n",
    "                    if re.search(var, str(df['curated_var_info'][i]), re.IGNORECASE):\n",
    "                        mini = \"N\"\n",
    "                        df['stigmatizing'][i] = \"N\"\n",
    "                else:\n",
    "                    break\n",
    "    return df\n",
    "#test3 = exclude_terms(test2, terms_excluded_df[\"TERMS TO EXCLUDE\"])"
   ]
  },
  {
   "cell_type": "code",
   "execution_count": null,
   "id": "651a514f",
   "metadata": {},
   "outputs": [],
   "source": [
    "from ast import literal_eval\n",
    "def decide(df):\n",
    "    stig_vars = []\n",
    "    non_stig_vars = []\n",
    "    for i in range(0, len(df.HPDS_PATH)):\n",
    "        print(i)\n",
    "        test = df.curated_var_info[i].replace(\" nan]\", \" 'nan']\")\n",
    "        var_info = literal_eval(test)\n",
    "        if df.stigmatizing[i] == \"Y\" and var_info[1].lower() not in stig_vars:\n",
    "            newstring = ''.join([j for j in var_info[1].lower() if not j.isdigit()])\n",
    "            stig_vars.append(newstring.lower())\n",
    "            print(\"Adding\", newstring, \"to stig vars\")\n",
    "            #continue\n",
    "        if df.stigmatizing[i] == \"N\" and var_info[1].lower() not in non_stig_vars:\n",
    "            newstring = ''.join([j for j in var_info[1].lower() if not j.isdigit()])\n",
    "            non_stig_vars.append(newstring.lower())\n",
    "            print(\"Adding\", newstring, \"to non stig vars\")\n",
    "            #continue\n",
    "        #if df.stigmatizing[i] == \"NA\":\n",
    "        else:\n",
    "            newstring = ''.join([j for j in var_info[1].lower() if not j.isdigit()])\n",
    "            if newstring in stig_vars:\n",
    "                result = \"Y\"\n",
    "                print(\"Recording result \", i, \"of\", len(df.HPDS_PATH))\n",
    "                df.stigmatizing[i] = result\n",
    "                continue\n",
    "            elif newstring in non_stig_vars:\n",
    "                result = \"N\"\n",
    "                print(\"Recording result\", i, \"of\", len(df.HPDS_PATH))\n",
    "                df.stigmatizing[i] = result\n",
    "                continue\n",
    "            else:\n",
    "                print(\"Variable\", i, \"of\", len(df.HPDS_PATH))\n",
    "                print(var_info)\n",
    "                result = input(\"Stigmatizing? Y/N/more: \")\n",
    "                if result == \"more\":\n",
    "                    print(df.curated_dt_info[i])\n",
    "                    result = input(\"Table info. Stigmatizing? Y/N: \")\n",
    "                if result == \"pause\":\n",
    "                    print(\"Pausing stigmatizing variable identification\")\n",
    "                    return(df)\n",
    "                if result == \"Y\":\n",
    "                    #newstring = ''.join([j for j in var_info[1].lower() if not j.isdigit()])\n",
    "                    stig_vars.append(newstring.lower())\n",
    "                if result == \"N\":\n",
    "                    #newstring = ''.join([j for j in var_info[1].lower() if not j.isdigit()])\n",
    "                    non_stig_vars.append(newstring.lower())\n",
    "                df.stigmatizing[i] = result\n",
    "            #return(stig_vars)\n",
    "        #else:\n",
    "        #    continue\n",
    "    print(\"Stigmatizing variables complete.\")\n",
    "    return(df)"
   ]
  },
  {
   "cell_type": "code",
   "execution_count": null,
   "id": "30656ea5",
   "metadata": {},
   "outputs": [],
   "source": []
  },
  {
   "cell_type": "code",
   "execution_count": null,
   "id": "c4988bfa",
   "metadata": {},
   "outputs": [],
   "source": [
    "def checkpoint(df, include, exclude):\n",
    "    for i in range(0, len(df.HPDS_PATH)):\n",
    "        if df.stigmatizing[i] == \"NA\":\n",
    "            mini = \"NA\"\n",
    "            for var in include:\n",
    "                if mini == \"NA\":\n",
    "                    if re.search(var.lower(), str(df['curated_var_info'][i]), re.IGNORECASE):\n",
    "                        mini = \"N\"\n",
    "                        df['stigmatizing'][i] = \"Y\"\n",
    "                else:\n",
    "                    break\n",
    "            if mini == \"NA\":\n",
    "                for var in exclude:\n",
    "                    if mini == \"NA\":\n",
    "                        if re.search(var.lower(), str(df[\"curated_var_info\"][i]), re.IGNORECASE):\n",
    "                            mini = \"N\"\n",
    "                            df['stigmatizing'][i] = \"N\"\n",
    "                    else:\n",
    "                        break\n",
    "    return df"
   ]
  },
  {
   "cell_type": "code",
   "execution_count": null,
   "id": "1886ae92",
   "metadata": {},
   "outputs": [],
   "source": [
    "final_output = 'stigmatizing_variable_results/REVAMP_stigmatizing_variables_decisions.txt'\n",
    "df_inc_exc = pd.read_csv(final_output, sep='\\t')\n",
    "df_inc_exc.fillna('NA', inplace=True)"
   ]
  },
  {
   "cell_type": "code",
   "execution_count": null,
   "id": "03f307bb",
   "metadata": {},
   "outputs": [],
   "source": [
    "#df_inc_exc = checkpoint(df_inc_exc, terms_included_df[\"Terms to include\"], terms_excluded_df[\"TERMS TO EXCLUDE\"])\n",
    "#df_inc_exc = checkpoint(df_inc_exc, [\"LOW EDUCATION\", \"ILLITERACY\", 'bcp', 'hrt', 'hormone replacement therapy'], \n",
    "#                        ['macular', 'cholesterol', 'hypopnea', 'mitral', 'gallbladder', 'cheese', 'z-score', \n",
    "#                         'x-ray', 'blood processing', 'migraine', 'antigout','antiulcer'])\n",
    "df_inc_exc = checkpoint(df_inc_exc, ['birth control pill', 'Anti-depressants', 'Antidepressants', 'liquor'], \n",
    "                        [\"orthopnea\", 'carotid', 'extremit', 'limb',\n",
    "                                        'ventricular', 'Hachinski', 'cortex', 'cuneus',\n",
    "                                        'Reader-trend-adjusted ultrasound',\n",
    "                                        'Ultrasound Imputed Values', 'heart failure',\n",
    "                                        'chlamydia pneumoniae', 'Citrated plasma', 'both lungs', 'st segment', \n",
    "                                        'electrophoresis', 'pressed for time', 'form version', 'gall bladder',\n",
    "                                        'glucose', 'glaucoma', 'Indicator for presence of form',\n",
    "                                        'Intrisicoid'])"
   ]
  },
  {
   "cell_type": "code",
   "execution_count": null,
   "id": "342e89bc",
   "metadata": {},
   "outputs": [],
   "source": [
    "sum(df_inc_exc.stigmatizing == \"NA\") #26233"
   ]
  },
  {
   "cell_type": "code",
   "execution_count": null,
   "id": "6f41fb32",
   "metadata": {},
   "outputs": [],
   "source": [
    "df_final = decide(df_inc_exc)"
   ]
  },
  {
   "cell_type": "code",
   "execution_count": null,
   "id": "3beea26b",
   "metadata": {},
   "outputs": [],
   "source": [
    "final_output = 'stigmatizing_variable_results/REVAMP_stigmatizing_variables_decisions.txt'\n",
    "df_final.to_csv(final_output, sep='\\t', header=True, index=False)"
   ]
  },
  {
   "cell_type": "markdown",
   "id": "87a7ffac",
   "metadata": {},
   "source": [
    "## Export stig vars"
   ]
  },
  {
   "cell_type": "code",
   "execution_count": 1,
   "id": "279e82f7",
   "metadata": {},
   "outputs": [
    {
     "name": "stderr",
     "output_type": "stream",
     "text": [
      "/home/ec2-user/anaconda3/envs/python3/lib/python3.6/site-packages/IPython/core/interactiveshell.py:3072: DtypeWarning: Columns (5) have mixed types.Specify dtype option on import or set low_memory=False.\n",
      "  interactivity=interactivity, compiler=compiler, result=result)\n"
     ]
    }
   ],
   "source": [
    "import pandas as pd\n",
    "final_output = 'stigmatizing_variable_results/REVAMP_stigmatizing_variables_decisions_reviewed.xlsx - REVAMP_stigmatizing_variables_d.tsv'\n",
    "df = pd.read_csv(final_output, sep='\\t')"
   ]
  },
  {
   "cell_type": "code",
   "execution_count": 2,
   "id": "5480f052",
   "metadata": {},
   "outputs": [
    {
     "data": {
      "text/html": [
       "<div>\n",
       "<style scoped>\n",
       "    .dataframe tbody tr th:only-of-type {\n",
       "        vertical-align: middle;\n",
       "    }\n",
       "\n",
       "    .dataframe tbody tr th {\n",
       "        vertical-align: top;\n",
       "    }\n",
       "\n",
       "    .dataframe thead th {\n",
       "        text-align: right;\n",
       "    }\n",
       "</style>\n",
       "<table border=\"1\" class=\"dataframe\">\n",
       "  <thead>\n",
       "    <tr style=\"text-align: right;\">\n",
       "      <th></th>\n",
       "      <th>HPDS_PATH</th>\n",
       "      <th>curated_var_info</th>\n",
       "      <th>curated_dt_info</th>\n",
       "      <th>values</th>\n",
       "      <th>stigmatizing</th>\n",
       "      <th>to review</th>\n",
       "    </tr>\n",
       "  </thead>\n",
       "  <tbody>\n",
       "    <tr>\n",
       "      <th>0</th>\n",
       "      <td>\\phs000200\\pht003400\\phv00192428\\ICDCODE\\</td>\n",
       "      <td>['ICDCODE', 'ICD-O-2 site code', \"All centrall...</td>\n",
       "      <td>['outc_bc_cad_rel4']</td>\n",
       "      <td>{'07.9': 'Parotid gland', '71.1': 'Frontal lob...</td>\n",
       "      <td>N</td>\n",
       "      <td>NaN</td>\n",
       "    </tr>\n",
       "    <tr>\n",
       "      <th>1</th>\n",
       "      <td>\\phs000200\\pht003401\\phv00192454\\ICDCODE\\</td>\n",
       "      <td>['ICDCODE', 'ICD-O-2 site code', \"All centrall...</td>\n",
       "      <td>['outc_bc_rel4']</td>\n",
       "      <td>{'07.9': 'Parotid gland', '71.1': 'Frontal lob...</td>\n",
       "      <td>N</td>\n",
       "      <td>NaN</td>\n",
       "    </tr>\n",
       "    <tr>\n",
       "      <th>2</th>\n",
       "      <td>\\phs000200\\pht003403\\phv00192894\\ICDCODE\\</td>\n",
       "      <td>['ICDCODE', 'ICD-O-2 site code', \"All centrall...</td>\n",
       "      <td>['outc_cancer_cad_rel4']</td>\n",
       "      <td>{'07.9': 'Parotid gland', '71.1': 'Frontal lob...</td>\n",
       "      <td>N</td>\n",
       "      <td>NaN</td>\n",
       "    </tr>\n",
       "    <tr>\n",
       "      <th>3</th>\n",
       "      <td>\\phs000007\\pht002350\\phv00162315\\OTHER1\\</td>\n",
       "      <td>['OTHER1', 'FFQ: OTHER FOOD 1', 'Use spreadshe...</td>\n",
       "      <td>['vr_ffreq_ex08_1_0615s', \"Food Frequency Ques...</td>\n",
       "      <td>{'88': 'High Protein Diet Supplement, HP Hot C...</td>\n",
       "      <td>N</td>\n",
       "      <td>NaN</td>\n",
       "    </tr>\n",
       "    <tr>\n",
       "      <th>4</th>\n",
       "      <td>\\phs000007\\pht000680\\phv00070037\\OTHER1\\</td>\n",
       "      <td>['OTHER1', 'FFQ: OTHER FOOD 1', nan]</td>\n",
       "      <td>['ffreq1_5s', 'Food Frequency Questionnaire Da...</td>\n",
       "      <td>{'88': 'High Protein Diet Supplement, HP Hot C...</td>\n",
       "      <td>N</td>\n",
       "      <td>NaN</td>\n",
       "    </tr>\n",
       "  </tbody>\n",
       "</table>\n",
       "</div>"
      ],
      "text/plain": [
       "                                   HPDS_PATH  \\\n",
       "0  \\phs000200\\pht003400\\phv00192428\\ICDCODE\\   \n",
       "1  \\phs000200\\pht003401\\phv00192454\\ICDCODE\\   \n",
       "2  \\phs000200\\pht003403\\phv00192894\\ICDCODE\\   \n",
       "3   \\phs000007\\pht002350\\phv00162315\\OTHER1\\   \n",
       "4   \\phs000007\\pht000680\\phv00070037\\OTHER1\\   \n",
       "\n",
       "                                    curated_var_info  \\\n",
       "0  ['ICDCODE', 'ICD-O-2 site code', \"All centrall...   \n",
       "1  ['ICDCODE', 'ICD-O-2 site code', \"All centrall...   \n",
       "2  ['ICDCODE', 'ICD-O-2 site code', \"All centrall...   \n",
       "3  ['OTHER1', 'FFQ: OTHER FOOD 1', 'Use spreadshe...   \n",
       "4               ['OTHER1', 'FFQ: OTHER FOOD 1', nan]   \n",
       "\n",
       "                                     curated_dt_info  \\\n",
       "0                               ['outc_bc_cad_rel4']   \n",
       "1                                   ['outc_bc_rel4']   \n",
       "2                           ['outc_cancer_cad_rel4']   \n",
       "3  ['vr_ffreq_ex08_1_0615s', \"Food Frequency Ques...   \n",
       "4  ['ffreq1_5s', 'Food Frequency Questionnaire Da...   \n",
       "\n",
       "                                              values stigmatizing to review  \n",
       "0  {'07.9': 'Parotid gland', '71.1': 'Frontal lob...            N       NaN  \n",
       "1  {'07.9': 'Parotid gland', '71.1': 'Frontal lob...            N       NaN  \n",
       "2  {'07.9': 'Parotid gland', '71.1': 'Frontal lob...            N       NaN  \n",
       "3  {'88': 'High Protein Diet Supplement, HP Hot C...            N       NaN  \n",
       "4  {'88': 'High Protein Diet Supplement, HP Hot C...            N       NaN  "
      ]
     },
     "execution_count": 2,
     "metadata": {},
     "output_type": "execute_result"
    }
   ],
   "source": [
    "df.head()"
   ]
  },
  {
   "cell_type": "code",
   "execution_count": 9,
   "id": "90fc4323",
   "metadata": {},
   "outputs": [],
   "source": [
    "# FIlter to stig vars\n",
    "stigvars = df[df.stigmatizing == \"Y\"].HPDS_PATH.reset_index(drop=True)"
   ]
  },
  {
   "cell_type": "code",
   "execution_count": 10,
   "id": "d3285251",
   "metadata": {},
   "outputs": [
    {
     "data": {
      "text/plain": [
       "0    \\phs000007\\pht003094\\phv00177292\\g3b0073\\\n",
       "1       \\phs000007\\pht005140\\phv00254551\\j901\\\n",
       "2       \\phs000007\\pht005140\\phv00254546\\j895\\\n",
       "3    \\phs000007\\pht003094\\phv00177640\\g3b0650\\\n",
       "4    \\phs000007\\pht003094\\phv00177646\\g3b0656\\\n",
       "Name: HPDS_PATH, dtype: object"
      ]
     },
     "execution_count": 10,
     "metadata": {},
     "output_type": "execute_result"
    }
   ],
   "source": [
    "stigvars.head()"
   ]
  },
  {
   "cell_type": "code",
   "execution_count": null,
   "id": "c1631dcb",
   "metadata": {},
   "outputs": [],
   "source": [
    "out = \"stigmatizing_variable_results/REVAMP_stigmatizing_variables.txt\"\n",
    "df_final.to_csv(out, sep='\\t', header=False, index=False)"
   ]
  }
 ],
 "metadata": {
  "kernelspec": {
   "display_name": "conda_python3",
   "language": "python",
   "name": "conda_python3"
  },
  "language_info": {
   "codemirror_mode": {
    "name": "ipython",
    "version": 3
   },
   "file_extension": ".py",
   "mimetype": "text/x-python",
   "name": "python",
   "nbconvert_exporter": "python",
   "pygments_lexer": "ipython3",
   "version": "3.6.13"
  }
 },
 "nbformat": 4,
 "nbformat_minor": 5
}
