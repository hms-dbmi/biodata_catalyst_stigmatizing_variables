{
 "cells": [
  {
   "cell_type": "markdown",
   "id": "44fe7a01",
   "metadata": {},
   "source": [
    "# BioData Catalyst Powered by PIC-SURE: Identify stigmatizing variables\n",
    "\n",
    "The purpose of this notebook is to identify stigmatizing variables in [BioData Catalyst Powered by PIC-SURE](https://picsure.biodatacatalyst.nhlbi.nih.gov/). Specifically, stigmatizing variables will be identified in PIC-SURE Authorized Access and removed for PIC-SURE Open Access.\n",
    "\n",
    "For more information about stigmatizing variables, please view the [README.md](https://github.com/hms-dbmi/biodata_catalyst_stigmatizing_variables#biodata_catalyst_stigmatizing_variables)."
   ]
  },
  {
   "cell_type": "markdown",
   "id": "2de1024c",
   "metadata": {},
   "source": [
    "### Prerequisites\n",
    "This notebook assumes knowledge of the BioData Catalyst Powered by PIC-SURE platform and API. For more information about the API, please visit the [Access to Data using PIC-SURE GitHub repository](https://github.com/hms-dbmi/Access-to-Data-using-PIC-SURE-API).\n",
    "\n",
    "Developer login credentials or access to all data in PIC-SURE Authorized Access is also required to ensure all variables are reviewed. "
   ]
  },
  {
   "cell_type": "markdown",
   "id": "bb36ad23",
   "metadata": {},
   "source": [
    "### Install packages"
   ]
  },
  {
   "cell_type": "code",
   "execution_count": null,
   "id": "c7f52ae5",
   "metadata": {},
   "outputs": [],
   "source": [
    "import pandas as pd\n",
    "import matplotlib.pyplot as plt\n",
    "import numpy as np\n",
    "import re\n",
    "from collections import Counter\n",
    "from pprint import pprint\n",
    "import json"
   ]
  },
  {
   "cell_type": "code",
   "execution_count": null,
   "id": "ca0f1a10",
   "metadata": {
    "scrolled": true
   },
   "outputs": [],
   "source": [
    "import sys\n",
    "!{sys.executable} -m pip install --upgrade --force-reinstall git+https://github.com/hms-dbmi/pic-sure-python-client.git\n",
    "!{sys.executable} -m pip install --upgrade --force-reinstall git+https://github.com/hms-dbmi/pic-sure-python-adapter-hpds.git\n",
    "!{sys.executable} -m pip install --upgrade --force-reinstall git+https://github.com/hms-dbmi/pic-sure-biodatacatalyst-python-adapter-hpds.git"
   ]
  },
  {
   "cell_type": "code",
   "execution_count": null,
   "id": "cea2f840",
   "metadata": {},
   "outputs": [],
   "source": [
    "import PicSureClient\n",
    "import PicSureBdcAdapter\n",
    "from python_lib.utils import get_multiIndex_variablesDict, joining_variablesDict_onCol\n",
    "from python_lib.stig_utils import check_simplified_name, regex_filter_out, manual_check"
   ]
  },
  {
   "cell_type": "markdown",
   "id": "f86b9f5e",
   "metadata": {},
   "source": [
    "### Connect to PIC-SURE"
   ]
  },
  {
   "cell_type": "code",
   "execution_count": null,
   "id": "b4ef962f",
   "metadata": {},
   "outputs": [],
   "source": [
    "PICSURE_network_URL = \"https://picsure.biodatacatalyst.nhlbi.nih.gov/picsure\"\n",
    "resource_id = \"02e23f52-f354-4e8b-992c-d37c8b9ba140\" # Be sure to use Authorized Access resource ID\n",
    "token_file = \"token.txt\" # Be sure to use developer token to get all variables"
   ]
  },
  {
   "cell_type": "code",
   "execution_count": null,
   "id": "9e296103",
   "metadata": {},
   "outputs": [],
   "source": [
    "with open(token_file, \"r\") as f:\n",
    "    my_token = f.read()"
   ]
  },
  {
   "cell_type": "code",
   "execution_count": null,
   "id": "d2e1f20f",
   "metadata": {},
   "outputs": [],
   "source": [
    "client = PicSureClient.Client()\n",
    "connection = client.connect(PICSURE_network_URL, my_token, True)\n",
    "adapter = PicSureBdcAdapter.Adapter(connection)\n",
    "resource = adapter.useResource(resource_id)"
   ]
  },
  {
   "cell_type": "markdown",
   "id": "4e506c2a",
   "metadata": {},
   "source": [
    "### Save all variables in PIC-SURE Authorized Access to DataFrame"
   ]
  },
  {
   "cell_type": "code",
   "execution_count": null,
   "id": "37c9ac43",
   "metadata": {},
   "outputs": [],
   "source": [
    "fullVariableDict = resource.dictionary().find().DataFrame()\n",
    "#fullVariableDict\n",
    "multiindex = get_multiIndex_variablesDict(fullVariableDict)"
   ]
  },
  {
   "cell_type": "markdown",
   "id": "d2c38666",
   "metadata": {},
   "source": [
    "### Identify stigmatizing variables using `simplified_name`\n",
    "\n",
    "There are two functions to identify stigmatizing variables: `check_simplified_name` and `regex_filter_out`. "
   ]
  },
  {
   "cell_type": "markdown",
   "id": "b6e3e870",
   "metadata": {},
   "source": [
    "`check_simplified_name` selects all variables from the `multiindex` dataframe where the `simplified_name` contains any of the terms in the given list. It also takes an optional argument `exclude_vars` that removes variable with specified `simplified_name` variables.\n",
    "\n",
    "For example, \n",
    "\n",
    "`check_simplified_name(['bio', 'data', 'catalyst'], multiindex, ['biology variable'])`\n",
    "\n",
    "would find all variables where the `simplified_name` contains 'bio', 'data', and/or 'catalyst' but excludes `simplified_name`s equal to 'biology variable' (ignoring capitalization)."
   ]
  },
  {
   "cell_type": "markdown",
   "id": "b3726de4",
   "metadata": {},
   "source": [
    "`regex_filter_out` uses the list of potentially stigmatizing variables and filters out any `simplified_name` variables containing the given list of terms. Unlike `check_simplified_name` where excluded variables must match the `simplified_name` completely, this function excludes the variable if the term is *contained* by the `simplified_name`. \n",
    "\n",
    "For example,\n",
    "\n",
    "`regex_filter_out(['biodata catalyst', 'terra', 'heliobacter pylori'], ['ter'])`\n",
    "\n",
    "would exclude all variables containing '*ter*'. In this case, '*ter*ra' and 'heliobac*ter* pylori' would be removed."
   ]
  },
  {
   "cell_type": "markdown",
   "id": "b2917928",
   "metadata": {},
   "source": [
    "| Function | Arguments / Input | Output|\n",
    "|--------|-------------------|-------|\n",
    "| `check_simplified_name()` | (1) list of search terms, (2) multiindex dataframe, (3) optional: variables to exclude | (1) list of potentially stigmatizing variables, (2) variables excluded using provided criteria|\n",
    "| `regex_filter_out()` | (1) list of stigmatizing variables, (2) list of terms to filter | list of stigmatizing variables that do not contain any of terms to filter |"
   ]
  },
  {
   "cell_type": "markdown",
   "id": "d8b515b4",
   "metadata": {},
   "source": [
    "### Load stigmatizing terms, simplified variables to exclude, and terms to filter out\n",
    "\n",
    "The following files provide information about terms used to select and filter stigmatizing variables.\n",
    "\n",
    "| File | Information |\n",
    "|--------|-------------------|\n",
    "| `stigmatizing_keywords.tsv` | List of terms used to filter out potentially stigmatizing variables from PIC-SURE Authorized Access and associated reasons for selection |\n",
    "| `simplified_vars_excluded.tsv` | List of `simplified_name` variables that will be filtered out of the list of potentially stigmatizing variables and associated reasons for exclusion |\n",
    "| `terms_excluded.tsv` |  List of terms that will be used to filter out non-stigmatizing variables and the associated reasons for exclusion |"
   ]
  },
  {
   "cell_type": "code",
   "execution_count": null,
   "id": "302bbb0e",
   "metadata": {},
   "outputs": [],
   "source": [
    "stigmatizing_df = pd.read_csv(\"stigmatizing_keywords.tsv\", sep=\"\\t\")\n",
    "exclude_vars_df = pd.read_csv(\"simplified_vars_excluded.tsv\", sep=\"\\t\")\n",
    "terms_excluded_df = pd.read_csv(\"terms_excluded.tsv\", sep=\"\\t\")"
   ]
  },
  {
   "cell_type": "code",
   "execution_count": null,
   "id": "5618b49c",
   "metadata": {},
   "outputs": [],
   "source": [
    "stig_terms = list(stigmatizing_df[\"Search keyword\"])\n",
    "print(\"Search keywords:\\n\\n\", stig_terms)"
   ]
  },
  {
   "cell_type": "code",
   "execution_count": null,
   "id": "2ef99a3c",
   "metadata": {},
   "outputs": [],
   "source": [
    "exclude_vars = list(exclude_vars_df[\"Variables to exclude\"])\n",
    "print(\"Variables to exclude:\\n\\n\", exclude_vars)"
   ]
  },
  {
   "cell_type": "code",
   "execution_count": null,
   "id": "2ddbdd8e",
   "metadata": {},
   "outputs": [],
   "source": [
    "terms_excluded = list(terms_excluded_df[\"Terms to exclude\"])\n",
    "print(\"Terms to exclude:\\n\\n\", terms_excluded)"
   ]
  },
  {
   "cell_type": "markdown",
   "id": "9671e37c",
   "metadata": {},
   "source": [
    "### Run functions to find potentially stigmatizing variables"
   ]
  },
  {
   "cell_type": "code",
   "execution_count": null,
   "id": "daf62dd1",
   "metadata": {},
   "outputs": [],
   "source": [
    "# Takes a while\n",
    "stig_vars, ex_vars = check_simplified_name(stig_terms, multiindex, exclude_vars)"
   ]
  },
  {
   "cell_type": "code",
   "execution_count": null,
   "id": "bfb3a7c6",
   "metadata": {},
   "outputs": [],
   "source": [
    "final_vars = regex_filter_out(stig_vars, terms_excluded)"
   ]
  },
  {
   "cell_type": "code",
   "execution_count": null,
   "id": "26e74fc4",
   "metadata": {},
   "outputs": [],
   "source": [
    "print(\"Total number of vars\", len(stig_vars))\n",
    "print(\"After filtering\", len(final_vars))"
   ]
  },
  {
   "cell_type": "markdown",
   "id": "efbea6f0",
   "metadata": {},
   "source": [
    "### Manual review of potentially stigmatizing variables"
   ]
  },
  {
   "cell_type": "markdown",
   "id": "4e604b3a",
   "metadata": {},
   "source": [
    "`manual_check` provides an interactive way to record whether filtered variables are indeed stigmatizing. It uses the list of stigmatizing variables and also takes an optional argument `ex_vars` that provides a manual review of the excluded terms. A dataframe of the stigmatizing variables with recorded responses and (if applicable) a dataframe of excluded variables and recorded responses are returned.\n",
    "\n",
    "To use this function, simply call it on the list of filtered variables (and excluded variables if needed) and follow the interactive instructions."
   ]
  },
  {
   "cell_type": "code",
   "execution_count": null,
   "id": "cd56d3f2",
   "metadata": {
    "scrolled": true
   },
   "outputs": [],
   "source": [
    "stigmatizing_variables, excluded_stigmatizing_variables = manual_check(final_vars, \"stigmatizing_variable_decisions_28may2021.txt\")"
   ]
  },
  {
   "cell_type": "code",
   "execution_count": null,
   "id": "c23063cf",
   "metadata": {},
   "outputs": [],
   "source": []
  }
 ],
 "metadata": {
  "kernelspec": {
   "display_name": "conda_python3",
   "language": "python",
   "name": "conda_python3"
  },
  "language_info": {
   "codemirror_mode": {
    "name": "ipython",
    "version": 3
   },
   "file_extension": ".py",
   "mimetype": "text/x-python",
   "name": "python",
   "nbconvert_exporter": "python",
   "pygments_lexer": "ipython3",
   "version": "3.6.13"
  }
 },
 "nbformat": 4,
 "nbformat_minor": 5
}
