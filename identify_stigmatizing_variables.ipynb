{
 "cells": [
  {
   "cell_type": "markdown",
   "id": "4d125a28",
   "metadata": {},
   "source": [
    "# BioData Catalyst Powered by PIC-SURE: Identify stigmatizing variables\n",
    "\n",
    "The purpose of this notebook is to identify stigmatizing variables in [BioData Catalyst Powered by PIC-SURE](https://picsure.biodatacatalyst.nhlbi.nih.gov/). Specifically, stigmatizing variables will be identified in PIC-SURE Authorized Access and removed for PIC-SURE Open Access.\n",
    "\n",
    "For more information about stigmatizing variables, please view the [README.md](https://github.com/hms-dbmi/biodata_catalyst_stigmatizing_variables#biodata_catalyst_stigmatizing_variables)."
   ]
  },
  {
   "cell_type": "markdown",
   "id": "eb77f084",
   "metadata": {},
   "source": [
    "### Install packages"
   ]
  },
  {
   "cell_type": "code",
   "execution_count": null,
   "id": "831ed286",
   "metadata": {},
   "outputs": [],
   "source": [
    "import pandas as pd\n",
    "import matplotlib.pyplot as plt\n",
    "import numpy as np\n",
    "import re\n",
    "from collections import Counter\n",
    "from pprint import pprint\n",
    "import json"
   ]
  },
  {
   "cell_type": "code",
   "execution_count": null,
   "id": "a4607084",
   "metadata": {
    "scrolled": true
   },
   "outputs": [],
   "source": [
    "import sys\n",
    "!{sys.executable} -m pip install --upgrade --force-reinstall git+https://github.com/hms-dbmi/pic-sure-python-client.git\n",
    "!{sys.executable} -m pip install --upgrade --force-reinstall git+https://github.com/hms-dbmi/pic-sure-python-adapter-hpds.git\n",
    "!{sys.executable} -m pip install --upgrade --force-reinstall git+https://github.com/hms-dbmi/pic-sure-biodatacatalyst-python-adapter-hpds.git"
   ]
  },
  {
   "cell_type": "code",
   "execution_count": null,
   "id": "563ee3a0",
   "metadata": {},
   "outputs": [],
   "source": [
    "import PicSureClient\n",
    "import PicSureBdcAdapter\n",
    "from python_lib.utils import get_multiIndex_variablesDict, joining_variablesDict_onCol"
   ]
  },
  {
   "cell_type": "markdown",
   "id": "89b076ed",
   "metadata": {},
   "source": [
    "### Connect to PIC-SURE"
   ]
  },
  {
   "cell_type": "code",
   "execution_count": null,
   "id": "709e8fdc",
   "metadata": {},
   "outputs": [],
   "source": [
    "PICSURE_network_URL = \"https://picsure.biodatacatalyst.nhlbi.nih.gov/picsure\"\n",
    "resource_id = \"02e23f52-f354-4e8b-992c-d37c8b9ba140\" # Be sure to use Authorized Access resource ID\n",
    "token_file = \"token.txt\" # Be sure to use developer token to get all variables"
   ]
  },
  {
   "cell_type": "code",
   "execution_count": null,
   "id": "6430d33d",
   "metadata": {},
   "outputs": [],
   "source": [
    "with open(token_file, \"r\") as f:\n",
    "    my_token = f.read()"
   ]
  },
  {
   "cell_type": "code",
   "execution_count": null,
   "id": "f77675b3",
   "metadata": {},
   "outputs": [],
   "source": [
    "client = PicSureClient.Client()\n",
    "connection = client.connect(PICSURE_network_URL, my_token, True)\n",
    "adapter = PicSureBdcAdapter.Adapter(connection)\n",
    "resource = adapter.useResource(resource_id)"
   ]
  },
  {
   "cell_type": "markdown",
   "id": "c14390c3",
   "metadata": {},
   "source": [
    "### Save all variables in PIC-SURE Authorized Access to DataFrame"
   ]
  },
  {
   "cell_type": "code",
   "execution_count": null,
   "id": "dc9b234c",
   "metadata": {},
   "outputs": [],
   "source": [
    "fullVariableDict = resource.dictionary().find().DataFrame()\n",
    "multiindex = get_multiIndex_variablesDict(fullVariableDict)"
   ]
  },
  {
   "cell_type": "code",
   "execution_count": null,
   "id": "a256f015",
   "metadata": {},
   "outputs": [],
   "source": [
    "multiindex # potentially explore categoryValues"
   ]
  },
  {
   "cell_type": "markdown",
   "id": "abb54fa1",
   "metadata": {},
   "source": [
    "### Begin finding stigmatizing variables"
   ]
  },
  {
   "cell_type": "code",
   "execution_count": null,
   "id": "f2d1eab4",
   "metadata": {},
   "outputs": [],
   "source": [
    "def check_simplified_name(varlist, multiindex_df):\n",
    "    stig_var_list = []\n",
    "    for i in range(1, len(multiindex_df[\"simplified_name\"])):\n",
    "        for var in varlist:\n",
    "            if re.search(var, multiindex_df['simplified_name'][i], re.IGNORECASE):\n",
    "                if multiindex_df['name'][i] not in stig_var_list:\n",
    "                    stig_var_list.append(multiindex_df['name'][i])\n",
    "    return stig_var_list"
   ]
  },
  {
   "cell_type": "markdown",
   "id": "711669ce",
   "metadata": {},
   "source": [
    "#### Sex history filtering\n",
    "The following terms are used to filter out sex history variables:\n",
    "- sex\n",
    "- sex history\n",
    "- sexual\n",
    "- sexually\n",
    "- intercourse\n",
    "- coitus\n",
    "- copulation\n",
    "- pareunia\n",
    "- futunio\n",
    "- venery"
   ]
  },
  {
   "cell_type": "code",
   "execution_count": null,
   "id": "e07903f7",
   "metadata": {},
   "outputs": [],
   "source": [
    "sex_history_terms = ['sex', 'sex history', 'sexual', 'sexually', 'intercourse', \n",
    "                     'coitus', 'copulation', 'pareunia', 'futunio', 'venery']"
   ]
  },
  {
   "cell_type": "code",
   "execution_count": null,
   "id": "d85d24a7",
   "metadata": {},
   "outputs": [],
   "source": [
    "sex_stig_vars = check_simplified_name(sex_history_terms, multiindex)"
   ]
  },
  {
   "cell_type": "markdown",
   "id": "7b266bdf",
   "metadata": {},
   "source": [
    "#### Sexually transmitted disease diagnosis/history/treatment filtering\n",
    "The following terms are used to filter out variables related to sexually transmitted disease:\n",
    "- chlamydia\n",
    "- genital\n",
    "- herpes\n",
    "- gonorrhea\n",
    "- HIV\n",
    "- AIDS\n",
    "- HPV\n",
    "- pubic lice\n",
    "- syphilis\n",
    "- trichomoniasis"
   ]
  },
  {
   "cell_type": "code",
   "execution_count": null,
   "id": "50dee959",
   "metadata": {},
   "outputs": [],
   "source": [
    "sex_disease_terms = ['chlamydia', 'genital', 'herpes', 'gonorrhea', 'hiv', \n",
    "                     'aids', 'hpv', 'pubic lice', 'syphilis', 'trichomoniasis']"
   ]
  },
  {
   "cell_type": "code",
   "execution_count": null,
   "id": "3264642d",
   "metadata": {},
   "outputs": [],
   "source": [
    "sex_disease_stig_vars = check_simplified_name(sex_disease_terms, multiindex)"
   ]
  },
  {
   "cell_type": "markdown",
   "id": "26f816e4",
   "metadata": {},
   "source": [
    "#### Mental health diagnoses/history/treatment filtering\n",
    "The following terms are used to filter out variables related to mental health:\n",
    "- depression\n",
    "- depressive\n",
    "- anxiety\n",
    "- panic\n",
    "- phobia\n",
    "- schizophrenia\n",
    "- mental (and NOT supplemental/instrumental/environmental etc)\n",
    "- mental health\n",
    "- psycho\n",
    "- psychological\n",
    "- emotional health"
   ]
  },
  {
   "cell_type": "code",
   "execution_count": null,
   "id": "c5ee891c",
   "metadata": {},
   "outputs": [],
   "source": [
    "mental_disease_terms = ['depression', 'depressive', 'anxiety', 'panic', 'phobias', 'schizophrenia',\n",
    "                       r'(\\s|\\W)mental', 'mental health', 'psycho', 'psychological', 'emotional health']"
   ]
  },
  {
   "cell_type": "code",
   "execution_count": null,
   "id": "4939f0bb",
   "metadata": {},
   "outputs": [],
   "source": [
    "metal_disease_stig_vars = check_simplified_name(mental_disease_terms, multiindex)"
   ]
  },
  {
   "cell_type": "markdown",
   "id": "4fca971a",
   "metadata": {},
   "source": [
    "#### Illicit drug use history filtering\n",
    "The following terms are used to filter out variables related to illicit drug use:\n",
    "- illicit\n",
    "- street drug\n",
    "- abuse\n",
    "- illegal\n",
    "- fentanyl\n",
    "- cocaine\n",
    "- ecstasy\n",
    "- LSD\n",
    "- methamphetamine\n",
    "- heroin\n",
    "- phencyclidine\n",
    "- angel dust\n",
    "- rohypnol\n",
    "- roofies\n",
    "- ketamine hydrochloride\n",
    "- psilocybin\n",
    "- mushroom\n",
    "- krokodil\n",
    "- marijuana\n",
    "- salvia\n",
    "- bath salts\n",
    "- flakka\n",
    "- ayahuasca\n",
    "- DMT\n",
    "- central nervous system depressant\n",
    "- hallucinogen\n",
    "- inhalant\n",
    "- khat\n",
    "- kratom\n",
    "- mescaline\n",
    "- loperamide\n",
    "- dextromethorphan\n",
    "- opioid\n",
    "- stimulant\n",
    "- cannabinoid\n",
    "- gamma hydroxybutyrate\n",
    "- MAYBE\n",
    "- alcohol\n",
    "- steroid\n",
    "- tobacco\n",
    "- nicotine"
   ]
  },
  {
   "cell_type": "code",
   "execution_count": null,
   "id": "e2b97925",
   "metadata": {},
   "outputs": [],
   "source": [
    "illicit_drug_terms = ['illicit', 'street drug', 'abuse', 'illegal', 'fentanyl', \n",
    "                      'cocaine', 'ecstasy', 'lsd', 'methamphetamine', 'heroin', \n",
    "                      'phencyclidine', 'angel dust', 'rohypnol', 'roofies', \n",
    "                      'ketamine hydrochloride', 'psilocybin', 'mushroom', 'krokodil', \n",
    "                      'marijuana', 'salvia','bath salts', 'flakka', 'ayahuasca', 'dmt', \n",
    "                      'central nervous system depressant', 'hallucinogen', 'inhalant', 'khat', \n",
    "                      'kratom', 'mescaline', 'loperamide', 'dextromethorphan','opioid', \n",
    "                      'stimulant', 'cannabinoid', 'gamma hydroxybutyrate']"
   ]
  },
  {
   "cell_type": "code",
   "execution_count": null,
   "id": "659972ef",
   "metadata": {},
   "outputs": [],
   "source": [
    "illicit_drug_terms = ['depressants']??\n",
    "illicit_drug_stig_vars = check_simplified_name(illicit_drug_terms, multiindex)\n",
    "illicit_drug_stig_vars"
   ]
  },
  {
   "cell_type": "markdown",
   "id": "7cd0a6a4",
   "metadata": {},
   "source": [
    "#### Intellectual achievement/ability/educational attainment filtering\n",
    "The following terms are used to filter out variables related to intellectual achievement:\n",
    "(Note from Rui: no genetics IQ outcomes)\n",
    "- bachelor\n",
    "- master\n",
    "- phd\n",
    "- quotient\n",
    "- intellectual\n",
    "- intelligence\n",
    "- achievement\n",
    "- disability\n",
    "- ability - maybe\n",
    "- attainment\n",
    "- education\n",
    "- genetic iq\n",
    "- school"
   ]
  },
  {
   "cell_type": "code",
   "execution_count": null,
   "id": "049b8a34",
   "metadata": {},
   "outputs": [],
   "source": [
    "intell_ability_terms = ['bachelor', 'master', 'phd', 'quotient', 'intellectual', 'intelligence',\n",
    "                        'achievement', 'disability', 'ability', 'attainment', 'education', 'genetic iq', 'school']"
   ]
  },
  {
   "cell_type": "code",
   "execution_count": null,
   "id": "ef01086a",
   "metadata": {},
   "outputs": [],
   "source": [
    "intell_ability_stig_vars = check_simplified_name(intell_ability_terms, multiindex)"
   ]
  },
  {
   "cell_type": "markdown",
   "id": "819fdd46",
   "metadata": {},
   "source": [
    "#### Direct or surrogate identifiers of legal status filtering\n",
    "The following terms are used to filter out variables related to legal status:\n",
    "- villainage\n",
    "- villeinage\n",
    "- citizenship\n",
    "- marital\n",
    "- married\n",
    "- unmarried\n",
    "- single\n",
    "- divorced\n",
    "- widowed\n",
    "- minority\n",
    "- nonage\n",
    "- marriage\n",
    "- matrimony\n",
    "- spousal\n",
    "- civil union\n",
    "- wedlock\n",
    "- bachelorhood\n",
    "- spinsterhood\n",
    "- widowhood\n",
    "- MAYBE\n",
    "- ethnicity\n",
    "- nationality\n",
    "- race\n",
    "- death"
   ]
  },
  {
   "cell_type": "code",
   "execution_count": null,
   "id": "1e7d3a3b",
   "metadata": {},
   "outputs": [],
   "source": [
    "legal_status_terms = ['villainage', 'villeinage', 'citizenship', 'marital', \n",
    "                      'married', 'unmarried', 'single', 'divorced', 'widowed', \n",
    "                      'minority', 'nonage', 'marriage', 'matrimony', 'spousal',  \n",
    "                      'civil union', 'wedlock', 'bachelorhood', 'spinsterhood',\n",
    "                      'widowhood', 'ethnicity', 'nationality', 'race', 'death', \n",
    "                      'identifier', 'identity', ' no.', 'surrogate', 'legal status']"
   ]
  },
  {
   "cell_type": "code",
   "execution_count": null,
   "id": "42159bff",
   "metadata": {},
   "outputs": [],
   "source": [
    "legal_status_stig_vars = check_simplified_name(legal_status_terms, multiindex)"
   ]
  }
 ],
 "metadata": {
  "kernelspec": {
   "display_name": "conda_python3",
   "language": "python",
   "name": "conda_python3"
  },
  "language_info": {
   "codemirror_mode": {
    "name": "ipython",
    "version": 3
   },
   "file_extension": ".py",
   "mimetype": "text/x-python",
   "name": "python",
   "nbconvert_exporter": "python",
   "pygments_lexer": "ipython3",
   "version": "3.6.13"
  }
 },
 "nbformat": 4,
 "nbformat_minor": 5
}
