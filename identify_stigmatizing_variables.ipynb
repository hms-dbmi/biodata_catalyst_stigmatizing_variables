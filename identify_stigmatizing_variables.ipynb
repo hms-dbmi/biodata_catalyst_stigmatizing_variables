{
 "cells": [
  {
   "cell_type": "markdown",
   "id": "159f1750",
   "metadata": {},
   "source": [
    "# BioData Catalyst Powered by PIC-SURE: Identify stigmatizing variables\n",
    "\n",
    "The purpose of this notebook is to identify stigmatizing variables in [BioData Catalyst Powered by PIC-SURE](https://picsure.biodatacatalyst.nhlbi.nih.gov/). Specifically, stigmatizing variables will be identified in PIC-SURE Authorized Access and removed for PIC-SURE Open Access.\n",
    "\n",
    "For more information about stigmatizing variables, please view the [README.md](https://github.com/hms-dbmi/biodata_catalyst_stigmatizing_variables#biodata_catalyst_stigmatizing_variables)."
   ]
  },
  {
   "cell_type": "markdown",
   "id": "54f6af76",
   "metadata": {},
   "source": [
    "### Install packages"
   ]
  },
  {
   "cell_type": "code",
   "execution_count": null,
   "id": "6b2f6b4d",
   "metadata": {},
   "outputs": [],
   "source": [
    "import pandas as pd\n",
    "import matplotlib.pyplot as plt\n",
    "import numpy as np\n",
    "import re\n",
    "from collections import Counter\n",
    "from pprint import pprint\n",
    "import json"
   ]
  },
  {
   "cell_type": "code",
   "execution_count": null,
   "id": "18af7a14",
   "metadata": {
    "scrolled": true
   },
   "outputs": [],
   "source": [
    "import sys\n",
    "!{sys.executable} -m pip install --upgrade --force-reinstall git+https://github.com/hms-dbmi/pic-sure-python-client.git\n",
    "!{sys.executable} -m pip install --upgrade --force-reinstall git+https://github.com/hms-dbmi/pic-sure-python-adapter-hpds.git\n",
    "!{sys.executable} -m pip install --upgrade --force-reinstall git+https://github.com/hms-dbmi/pic-sure-biodatacatalyst-python-adapter-hpds.git"
   ]
  },
  {
   "cell_type": "code",
   "execution_count": null,
   "id": "6818dda1",
   "metadata": {},
   "outputs": [],
   "source": [
    "import PicSureClient\n",
    "import PicSureBdcAdapter\n",
    "from python_lib.utils import get_multiIndex_variablesDict, joining_variablesDict_onCol\n",
    "from python_lib.stig_utils import *"
   ]
  },
  {
   "cell_type": "markdown",
   "id": "39c21e64",
   "metadata": {},
   "source": [
    "### Connect to PIC-SURE"
   ]
  },
  {
   "cell_type": "code",
   "execution_count": null,
   "id": "10d473fb",
   "metadata": {},
   "outputs": [],
   "source": [
    "PICSURE_network_URL = \"https://picsure.biodatacatalyst.nhlbi.nih.gov/picsure\"\n",
    "resource_id = \"02e23f52-f354-4e8b-992c-d37c8b9ba140\" # Be sure to use Authorized Access resource ID\n",
    "token_file = \"token.txt\" # Be sure to use developer token to get all variables"
   ]
  },
  {
   "cell_type": "code",
   "execution_count": null,
   "id": "4a0f7d73",
   "metadata": {},
   "outputs": [],
   "source": [
    "with open(token_file, \"r\") as f:\n",
    "    my_token = f.read()"
   ]
  },
  {
   "cell_type": "code",
   "execution_count": null,
   "id": "27f3bd94",
   "metadata": {},
   "outputs": [],
   "source": [
    "client = PicSureClient.Client()\n",
    "connection = client.connect(PICSURE_network_URL, my_token, True)\n",
    "adapter = PicSureBdcAdapter.Adapter(connection)\n",
    "resource = adapter.useResource(resource_id)"
   ]
  },
  {
   "cell_type": "markdown",
   "id": "ea315fca",
   "metadata": {},
   "source": [
    "### Save all variables in PIC-SURE Authorized Access to DataFrame"
   ]
  },
  {
   "cell_type": "code",
   "execution_count": null,
   "id": "a8c97f31",
   "metadata": {},
   "outputs": [],
   "source": [
    "fullVariableDict = resource.dictionary().find().DataFrame()\n",
    "#fullVariableDict\n",
    "multiindex = get_multiIndex_variablesDict(fullVariableDict)"
   ]
  },
  {
   "cell_type": "code",
   "execution_count": null,
   "id": "d5306b1a",
   "metadata": {},
   "outputs": [],
   "source": [
    "multiindex # potentially explore categoryValues"
   ]
  },
  {
   "cell_type": "markdown",
   "id": "39896769",
   "metadata": {},
   "source": [
    "### Stigmatizing variables using `simplified_name`"
   ]
  },
  {
   "cell_type": "markdown",
   "id": "be72b803",
   "metadata": {},
   "source": [
    "#### Sex history filtering\n",
    "The following terms are used to filter out sex history variables:\n",
    "- sex\n",
    "- sex history\n",
    "- sexual\n",
    "- sexually\n",
    "- intercourse\n",
    "- coitus\n",
    "- copulation\n",
    "- pareunia\n",
    "- futunio\n",
    "- venery"
   ]
  },
  {
   "cell_type": "code",
   "execution_count": null,
   "id": "03a06240",
   "metadata": {},
   "outputs": [],
   "source": [
    "sex_history_terms = ['sex', 'sex history', 'sexual', 'sexually', 'intercourse', \n",
    "                     'coitus', 'copulation', 'pareunia', 'futunio', 'venery']\n",
    "sex_remove = ['sex', 'sex of participant']\n",
    "terms_to_filter = ['race and sex adjusted']"
   ]
  },
  {
   "cell_type": "code",
   "execution_count": null,
   "id": "2672edf3",
   "metadata": {},
   "outputs": [],
   "source": [
    "sex_stig_vars, ex_sex_vars = check_simplified_name(sex_history_terms, multiindex, exclude_vars=sex_remove)"
   ]
  },
  {
   "cell_type": "code",
   "execution_count": null,
   "id": "b8665efe",
   "metadata": {},
   "outputs": [],
   "source": [
    "final_sex_vars = regex_filter_out(sex_stig_vars, terms_to_filter)"
   ]
  },
  {
   "cell_type": "code",
   "execution_count": null,
   "id": "1a2d86a3",
   "metadata": {},
   "outputs": [],
   "source": [
    "print(len(sex_stig_vars))\n",
    "print(len(final_sex_vars))"
   ]
  },
  {
   "cell_type": "markdown",
   "id": "0bd364d5",
   "metadata": {},
   "source": [
    "#### Sexually transmitted disease diagnosis/history/treatment filtering\n",
    "The following terms are used to filter out variables related to sexually transmitted disease:\n",
    "- chlamydia\n",
    "- genital\n",
    "- herpes\n",
    "- gonorrhea\n",
    "- HIV\n",
    "- AIDS\n",
    "- HPV\n",
    "- pubic lice\n",
    "- syphilis\n",
    "- trichomoniasis\n",
    "- estrogens\n",
    "- vagina\n",
    "- progesterone\n",
    "\n",
    "Should estrogen and progesterone be on here?"
   ]
  },
  {
   "cell_type": "code",
   "execution_count": null,
   "id": "ba1975c9",
   "metadata": {},
   "outputs": [],
   "source": [
    "sex_disease_terms = ['chlamydia', 'genital', 'herpes', 'gonorrhea', 'hiv', \n",
    "                     'aids', 'hpv', 'pubic lice', 'syphilis', 'trichomoniasis', \n",
    "                     'estrogens', 'vagina', 'progesterone', \"venereal\", \"penis\", \n",
    "                     \"vagina\", \"antiviral\"]\n",
    "terms_to_filter = ['hives', 'health aids', 'nsaids', 'herpes zoster', 'chlamydia pneumoniae', 'heart disease']"
   ]
  },
  {
   "cell_type": "code",
   "execution_count": null,
   "id": "b52abe6f",
   "metadata": {},
   "outputs": [],
   "source": [
    "sex_disease_stig_vars, ex_sex_disease_vars = check_simplified_name(sex_disease_terms, multiindex)"
   ]
  },
  {
   "cell_type": "code",
   "execution_count": null,
   "id": "2b90b91c",
   "metadata": {},
   "outputs": [],
   "source": [
    "final_sex_disease_vars = regex_filter_out(sex_disease_stig_vars, terms_to_filter)"
   ]
  },
  {
   "cell_type": "code",
   "execution_count": null,
   "id": "5d006839",
   "metadata": {},
   "outputs": [],
   "source": [
    "print(len(sex_disease_stig_vars))\n",
    "print(len(final_sex_disease_vars))"
   ]
  },
  {
   "cell_type": "markdown",
   "id": "efb31452",
   "metadata": {},
   "source": [
    "#### Mental health diagnoses/history/treatment filtering\n",
    "The following terms are used to filter out variables related to mental health:\n",
    "- depression\n",
    "- depressive\n",
    "- anxiety\n",
    "- panic\n",
    "- phobia\n",
    "- schizophrenia\n",
    "- mental (and NOT supplemental/instrumental/environmental etc)\n",
    "- mental health\n",
    "- psycho\n",
    "- psychological\n",
    "- emotional health"
   ]
  },
  {
   "cell_type": "code",
   "execution_count": null,
   "id": "bc4725f5",
   "metadata": {},
   "outputs": [],
   "source": [
    "mental_health_terms = ['depression', 'depressive', 'anxiety', 'panic', 'phobias', 'schizophrenia',\n",
    "                       'mental', 'mental health', 'psycho', 'psychological', 'emotional health']\n",
    "terms_to_filter = ['hispanic', 'electrocardiograph', 'minn code', 'minnesota code', \n",
    "                   'ecg', 'environmental', 'instrumental', 'mini-mental state exam']"
   ]
  },
  {
   "cell_type": "code",
   "execution_count": null,
   "id": "ccae0b39",
   "metadata": {},
   "outputs": [],
   "source": [
    "mental_health_stig_vars, ex_mental_health_vars = check_simplified_name(mental_health_terms, multiindex)"
   ]
  },
  {
   "cell_type": "code",
   "execution_count": null,
   "id": "1d002c49",
   "metadata": {},
   "outputs": [],
   "source": [
    "final_mental_health_vars = regex_filter_out(mental_health_stig_vars, terms_to_filter)"
   ]
  },
  {
   "cell_type": "code",
   "execution_count": null,
   "id": "5df5e370",
   "metadata": {},
   "outputs": [],
   "source": [
    "print(len(mental_health_stig_vars))\n",
    "print(len(final_mental_health_vars))"
   ]
  },
  {
   "cell_type": "markdown",
   "id": "955d914e",
   "metadata": {},
   "source": [
    "#### Illicit drug use history filtering\n",
    "The following terms are used to filter out variables related to illicit drug use:\n",
    "- illicit\n",
    "- street drug\n",
    "- abuse\n",
    "- illegal\n",
    "- fentanyl\n",
    "- cocaine\n",
    "- ecstasy\n",
    "- LSD\n",
    "- methamphetamine\n",
    "- heroin\n",
    "- phencyclidine\n",
    "- angel dust\n",
    "- rohypnol\n",
    "- roofies\n",
    "- ketamine hydrochloride\n",
    "- psilocybin\n",
    "- mushroom\n",
    "- krokodil\n",
    "- marijuana\n",
    "- salvia\n",
    "- bath salts\n",
    "- flakka\n",
    "- ayahuasca\n",
    "- DMT\n",
    "- central nervous system depressant\n",
    "- hallucinogen\n",
    "- inhalant\n",
    "- khat\n",
    "- kratom\n",
    "- mescaline\n",
    "- loperamide\n",
    "- dextromethorphan\n",
    "- opioid\n",
    "- stimulant\n",
    "- cannabinoid\n",
    "- gamma hydroxybutyrate\n",
    "- alcohol\n",
    "- steroid\n",
    "- tobacco\n",
    "- nicotine"
   ]
  },
  {
   "cell_type": "code",
   "execution_count": null,
   "id": "e2ed67c6",
   "metadata": {},
   "outputs": [],
   "source": [
    "illicit_drug_terms = ['illicit', 'street drug', 'abuse', 'illegal', 'fentanyl', \n",
    "                      'cocaine', 'ecstasy', 'lsd', 'methamphetamine', 'heroin', \n",
    "                      'phencyclidine', 'angel dust', 'rohypnol', 'roofies', \n",
    "                      'ketamine hydrochloride', 'psilocybin', 'mushroom', 'krokodil', \n",
    "                      'marijuana', 'salvia','bath salts', 'flakka', 'ayahuasca', 'dmt', \n",
    "                      'central nervous system depressant', 'hallucinogen', 'inhalant', 'khat', \n",
    "                      'kratom', 'mescaline', 'loperamide', 'dextromethorphan','opioid', \n",
    "                      'stimulant', 'cannabinoid', 'gamma hydroxybutyrate', 'depressants']#, \n",
    "                      #'alcohol', 'steroid', 'tobacco', 'nicotine']\n",
    "terms_to_filter = ['coffee or tea']"
   ]
  },
  {
   "cell_type": "code",
   "execution_count": null,
   "id": "50797f6e",
   "metadata": {},
   "outputs": [],
   "source": [
    "illicit_drug_stig_vars, ex_illicit_drug_vars = check_simplified_name(illicit_drug_terms, multiindex)"
   ]
  },
  {
   "cell_type": "code",
   "execution_count": null,
   "id": "26a71b50",
   "metadata": {},
   "outputs": [],
   "source": [
    "final_illicit_drug_vars = regex_filter_out(illicit_drug_stig_vars, terms_to_filter)"
   ]
  },
  {
   "cell_type": "code",
   "execution_count": null,
   "id": "fa4a80f7",
   "metadata": {},
   "outputs": [],
   "source": [
    "print(len(illicit_drug_stig_vars))\n",
    "print(len(final_illicit_drug_vars))"
   ]
  },
  {
   "cell_type": "markdown",
   "id": "489f4cd3",
   "metadata": {},
   "source": [
    "#### Intellectual achievement/ability/educational attainment filtering\n",
    "The following terms are used to filter out variables related to intellectual achievement:\n",
    "(Note from Rui: no genetics IQ outcomes)\n",
    "- bachelor\n",
    "- master\n",
    "- phd\n",
    "- quotient\n",
    "- intellectual\n",
    "- intelligence\n",
    "- achievement\n",
    "- disability\n",
    "- ability - maybe\n",
    "- attainment\n",
    "- education\n",
    "- genetic iq\n",
    "- school"
   ]
  },
  {
   "cell_type": "code",
   "execution_count": null,
   "id": "c5a86ec9",
   "metadata": {},
   "outputs": [],
   "source": [
    "intell_ability_terms = ['bachelor', 'master', 'phd', 'quotient', 'intellectual', 'intelligence',\n",
    "                        'achievement', 'disability', 'ability', 'attainment', 'education', 'genetic iq', 'school']\n",
    "terms_to_filter = ['change in ability to', 'how ability to', 'ability to', \n",
    "                   'variability', 'gradability', 'reliability', 'acceptability', \n",
    "                   'irritability', 'leg ability', 'physical ability']"
   ]
  },
  {
   "cell_type": "code",
   "execution_count": null,
   "id": "da23af1d",
   "metadata": {},
   "outputs": [],
   "source": [
    "intell_ability_stig_vars, ex_intell_ability_vars = check_simplified_name(intell_ability_terms, multiindex)"
   ]
  },
  {
   "cell_type": "code",
   "execution_count": null,
   "id": "937cf893",
   "metadata": {},
   "outputs": [],
   "source": [
    "final_intell_ability_vars = regex_filter_out(intell_ability_stig_vars, terms_to_filter)"
   ]
  },
  {
   "cell_type": "code",
   "execution_count": null,
   "id": "de701b31",
   "metadata": {},
   "outputs": [],
   "source": [
    "print(len(intell_ability_stig_vars))\n",
    "print(len(final_intell_ability_vars))"
   ]
  },
  {
   "cell_type": "code",
   "execution_count": null,
   "id": "32a4c193",
   "metadata": {},
   "outputs": [],
   "source": [
    "final_intell_ability_vars"
   ]
  },
  {
   "cell_type": "markdown",
   "id": "2d5ce78b",
   "metadata": {},
   "source": [
    "#### Direct or surrogate identifiers of legal status filtering\n",
    "The following terms are used to filter out variables related to legal status:\n",
    "- villainage\n",
    "- villeinage\n",
    "- citizenship\n",
    "- marital\n",
    "- married\n",
    "- unmarried\n",
    "- single\n",
    "- divorced\n",
    "- widowed\n",
    "- minority\n",
    "- nonage\n",
    "- marriage\n",
    "- matrimony\n",
    "- spousal\n",
    "- civil union\n",
    "- wedlock\n",
    "- bachelorhood\n",
    "- spinsterhood\n",
    "- widowhood\n",
    "- ethnicity\n",
    "- nationality\n",
    "- race\n",
    "- death"
   ]
  },
  {
   "cell_type": "code",
   "execution_count": null,
   "id": "08dfa4f9",
   "metadata": {},
   "outputs": [],
   "source": [
    "legal_status_terms = ['villainage', 'villeinage', 'citizenship', 'marital', \n",
    "                      'married', 'unmarried', 'single', 'divorced', 'widowed', \n",
    "                      'minority', 'nonage', 'marriage', 'matrimony', 'spousal',  \n",
    "                      'civil union', 'wedlock', 'bachelorhood', 'spinsterhood',\n",
    "                      'widowhood', 'ethnicity', 'nationality', 'race', 'death', \n",
    "                      'identifier', 'identity', 'surrogate', 'legal status']#, \n",
    "                      #'ethnicity', 'race', 'nationality', 'death']\n",
    "#legal_status_remove = ['subject identifier']\n",
    "terms_to_filter = ['single tennis', 'single ventricular', 'single nodule', \n",
    "                   'urinalysis: albumin', 'brace', 'contraceptive', \n",
    "                   'race and sex adjusted', 'single sup']"
   ]
  },
  {
   "cell_type": "code",
   "execution_count": null,
   "id": "7674a9b8",
   "metadata": {},
   "outputs": [],
   "source": [
    "legal_status_stig_vars, ex_legal_status_vars = check_simplified_name(legal_status_terms, multiindex)"
   ]
  },
  {
   "cell_type": "code",
   "execution_count": null,
   "id": "0c44564d",
   "metadata": {},
   "outputs": [],
   "source": [
    "final_legal_status_vars = regex_filter_out(legal_status_stig_vars, terms_to_filter)"
   ]
  },
  {
   "cell_type": "code",
   "execution_count": null,
   "id": "6f9fc11a",
   "metadata": {},
   "outputs": [],
   "source": [
    "print(len(legal_status_stig_vars))\n",
    "print(len(final_legal_status_vars))"
   ]
  },
  {
   "cell_type": "markdown",
   "id": "52a1c127",
   "metadata": {},
   "source": [
    "### Manual review of potentially stigmatizing variables"
   ]
  },
  {
   "cell_type": "code",
   "execution_count": null,
   "id": "16af5980",
   "metadata": {},
   "outputs": [],
   "source": [
    "test_list = [\"\\\\Women's Health Initiative Clinical Trial and Observational Study ( phs000200 )\\\\The subject sample mapping data table includes a mapping of subject IDs to sample IDs. Included are samples from WHI SHARe, GO-ESP, GARNET, CARe, PAGE, Imputation, WHIMS+, and BA23 CHD. Samples are the final preps submitted for genotyping, sequencing, or expression data. For example, if one patient (subject ID) gave one sample, and that sample was processed differently to generate 2 sequencing runs, there would be two rows, both using the same subject ID, but having 2 unique sample IDs. The data table also includes a mapping of sample IDs to other sample ID aliases, the substudy (phs accession) that the sample belongs to, and sample use.\\\\Sample use. Array_DNA_Methylation: Genome-wide DNA methylation profiling using methylation arrays, quantitative methylation measurements at the single-CpG-site level; Array_SNP: SNP genotypes obtained using standard or custom microarrays; Array_miRNA_Expression: Expression data for microRNA samples (array data); Imputation_SNP: Imputed SNP genotypes; PCR_DNA_SNP: SNP genotypes obtained using PCR amplified DNA; Seq_DNA_SNP: SNP genotypes derived from sequence data; Seq_DNA_WholeExome: Whole exome sequencing; Seq_DNA_WholeGenome: Whole genome sequencing\\\\\",\n",
    " \"\\\\Women's Health Initiative Clinical Trial and Observational Study ( phs000200 )\\\\UNC Heart Failure Details (Main, Ext1, Ext2)\\\\F136 Thoracentesis\\\\\"]\n",
    "test_ex = ['\\\\NHLBI Cleveland Family Study (CFS) Candidate Gene Association Resource (CARe) ( phs000284 )\\\\CARe_CFS (Cleveland Family Study) - Sleep and Health Phenotype (Adults/Children)\\\\Cause of death 1\\\\',\n",
    " '\\\\NHLBI Cleveland Family Study (CFS) Candidate Gene Association Resource (CARe) ( phs000284 )\\\\CARe_CFS (Cleveland Family Study) - Sleep and Health Phenotype (Adults/Children)\\\\Cause of death 2\\\\']"
   ]
  },
  {
   "cell_type": "code",
   "execution_count": null,
   "id": "eae99573",
   "metadata": {},
   "outputs": [],
   "source": [
    "stigs, exs = manual_check(test_list)#, test_ex)"
   ]
  },
  {
   "cell_type": "code",
   "execution_count": null,
   "id": "606f2ed9",
   "metadata": {},
   "outputs": [],
   "source": [
    "stigs"
   ]
  },
  {
   "cell_type": "markdown",
   "id": "f0388556",
   "metadata": {},
   "source": [
    "### Export potentially stigmatizing variables"
   ]
  },
  {
   "cell_type": "code",
   "execution_count": null,
   "id": "d4e2b31b",
   "metadata": {},
   "outputs": [],
   "source": [
    "def final_export(sex, sex_disease, mental_disease, illicit_drug, intell_ability, legal_status):\n",
    "    labels = {'***SEX STIG VARS***': sex, '***SEX DISEASE STIG VARS***': sex_disease, \n",
    "              '***MENTAL STIG VARS***': mental_disease, '***ILLICIT DRUG STIG VARS***': illicit_drug, \n",
    "              '***INTELL ABILITY STIG VARS***': illicit_drug, '***LEGAL STATUS STIG VARS***': legal_status}\n",
    "    final = []\n",
    "    for i in labels:\n",
    "        final.append(i)\n",
    "        for j in labels[i]:\n",
    "            if j not in final:\n",
    "                final.append(j)\n",
    "    pd.DataFrame(final).to_csv(\"stig_vars.tsv\", sep='\\t')\n",
    "    return(\"Finished.\")"
   ]
  },
  {
   "cell_type": "code",
   "execution_count": null,
   "id": "5f001ebc",
   "metadata": {},
   "outputs": [],
   "source": [
    "final_export(sex_stig_vars, sex_disease_stig_vars, mental_disease_stig_vars, \n",
    "             illicit_drug_stig_vars, intell_ability_stig_vars, legal_status_stig_vars)"
   ]
  },
  {
   "cell_type": "code",
   "execution_count": null,
   "id": "8274cb73",
   "metadata": {},
   "outputs": [],
   "source": [
    "test[67]"
   ]
  },
  {
   "cell_type": "code",
   "execution_count": null,
   "id": "4109e43b",
   "metadata": {},
   "outputs": [],
   "source": [
    "sex_stig_vars[67]"
   ]
  },
  {
   "cell_type": "code",
   "execution_count": null,
   "id": "2828fe5d",
   "metadata": {},
   "outputs": [],
   "source": []
  }
 ],
 "metadata": {
  "kernelspec": {
   "display_name": "conda_python3",
   "language": "python",
   "name": "conda_python3"
  },
  "language_info": {
   "codemirror_mode": {
    "name": "ipython",
    "version": 3
   },
   "file_extension": ".py",
   "mimetype": "text/x-python",
   "name": "python",
   "nbconvert_exporter": "python",
   "pygments_lexer": "ipython3",
   "version": "3.6.13"
  }
 },
 "nbformat": 4,
 "nbformat_minor": 5
}
