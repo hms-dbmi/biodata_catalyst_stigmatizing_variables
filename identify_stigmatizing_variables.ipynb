{
 "cells": [
  {
   "cell_type": "markdown",
   "id": "6dfb42ad",
   "metadata": {},
   "source": [
    "# BioData Catalyst Powered by PIC-SURE: Identify stigmatizing variables\n",
    "\n",
    "The purpose of this notebook is to identify stigmatizing variables in [BioData Catalyst Powered by PIC-SURE](https://picsure.biodatacatalyst.nhlbi.nih.gov/). Specifically, stigmatizing variables will be identified in PIC-SURE Authorized Access and removed for PIC-SURE Open Access.\n",
    "\n",
    "For more information about stigmatizing variables, please view the [README.md](https://github.com/hms-dbmi/biodata_catalyst_stigmatizing_variables#biodata_catalyst_stigmatizing_variables).\n",
    "\n",
    "---"
   ]
  },
  {
   "cell_type": "markdown",
   "id": "87ff66b7",
   "metadata": {},
   "source": [
    "### Prerequisites\n",
    "\n",
    "This notebook assumes knowledge of the BioData Catalyst Powered by PIC-SURE platform, data structure, and API. For more information about the API, please visit the [Access to Data using PIC-SURE GitHub repository](https://github.com/hms-dbmi/Access-to-Data-using-PIC-SURE-API).\n",
    "\n",
    "Developer login credentials or access to all data in PIC-SURE Authorized Access is also required to ensure all variables are reviewed. "
   ]
  },
  {
   "cell_type": "markdown",
   "id": "ab640abb",
   "metadata": {},
   "source": [
    "### Connect to PIC-SURE\n",
    "\n",
    "Be sure to save your user-specific token as `token.txt` prior to running the code."
   ]
  },
  {
   "cell_type": "code",
   "execution_count": null,
   "id": "f823e034",
   "metadata": {
    "scrolled": true
   },
   "outputs": [],
   "source": [
    "import pandas as pd\n",
    "import sys\n",
    "!{sys.executable} -m pip install --upgrade --force-reinstall git+https://github.com/hms-dbmi/pic-sure-python-client.git\n",
    "!{sys.executable} -m pip install --upgrade --force-reinstall git+https://github.com/hms-dbmi/pic-sure-python-adapter-hpds.git\n",
    "!{sys.executable} -m pip install --upgrade --force-reinstall git+https://github.com/hms-dbmi/pic-sure-biodatacatalyst-python-adapter-hpds.git@new-search\n",
    "\n",
    "import PicSureBdcAdapter"
   ]
  },
  {
   "cell_type": "code",
   "execution_count": null,
   "id": "dafb94ca",
   "metadata": {},
   "outputs": [],
   "source": [
    "# Uncomment production URL below for production environment\n",
    "# PICSURE_network_URL = \"https://picsure.biodatacatalyst.nhlbi.nih.gov/picsure\"\n",
    "PICSURE_network_URL = \"https://biodatacatalyst.integration.hms.harvard.edu/picsure\"\n",
    "token_file = \"token.txt\"\n",
    "\n",
    "with open(token_file, \"r\") as f:\n",
    "    my_token = f.read()\n",
    "    \n",
    "bdc = PicSureBdcAdapter.Adapter(PICSURE_network_URL, my_token)"
   ]
  },
  {
   "cell_type": "markdown",
   "id": "921a9023",
   "metadata": {},
   "source": [
    "\n",
    "### Save all variables of interest in PIC-SURE Authorized Access to DataFrame"
   ]
  },
  {
   "cell_type": "code",
   "execution_count": null,
   "id": "b70cb084",
   "metadata": {},
   "outputs": [],
   "source": [
    "dictionary = bdc.useDictionary().dictionary() # Set up the dictionary\n",
    "all_vars = dictionary.find() # Fill in with phs number of interest, phs002415\n",
    "all_variables = all_vars.dataframe() # Retrieve all variables you have access to"
   ]
  },
  {
   "cell_type": "code",
   "execution_count": null,
   "id": "a6ef3c73",
   "metadata": {},
   "outputs": [],
   "source": [
    "all_variables[all_variables.studyId == \"phs002415\"].columnmeta_is_stigmatized = 'false'"
   ]
  },
  {
   "cell_type": "code",
   "execution_count": null,
   "id": "943dbafe",
   "metadata": {},
   "outputs": [],
   "source": [
    "# Select only columns we are interested in\n",
    "clean_df = all_variables[['columnmeta_HPDS_PATH', 'columnmeta_name', 'columnmeta_description', \n",
    "                          'columnmeta_var_group_description', 'values', 'columnmeta_is_stigmatized']]"
   ]
  },
  {
   "cell_type": "markdown",
   "id": "6be1ca0b",
   "metadata": {},
   "source": [
    "### Load the stigmatizing terms and define functions"
   ]
  },
  {
   "cell_type": "code",
   "execution_count": null,
   "id": "a76097b8",
   "metadata": {},
   "outputs": [],
   "source": [
    "# Load the list of stigmatizing terms, inclusion terms, and exclusion terms\n",
    "stigmatizing_df = pd.read_csv(\"stigmatizing_terms/stigmatizing_keywords.tsv\", sep=\"\\t\")\n",
    "terms_included_df = pd.read_csv(\"stigmatizing_terms/inclusion_terms.tsv\", sep='\\t')\n",
    "terms_excluded_df = pd.read_csv(\"stigmatizing_terms/revamped_exclusion.tsv\", sep='\\t')"
   ]
  },
  {
   "cell_type": "code",
   "execution_count": null,
   "id": "8bcfe585",
   "metadata": {},
   "outputs": [],
   "source": [
    "import re\n",
    "def flag_potential_stigvars(stigvars, data_dict_df):\n",
    "    needs_review = data_dict_df[data_dict_df.columnmeta_is_stigmatized == 'false']\n",
    "    needs_review['flag'] = ''\n",
    "    for i in list(stigvars):\n",
    "        needs_review.flag[(needs_review.flag == '') & needs_review['columnmeta_description'].str.contains(i, case=False)] = 'columnmeta_description'\n",
    "        needs_review.flag[(needs_review.flag == '') & needs_review['values'].str.contains(i, case=False)] = 'values'\n",
    "    first_pass = needs_review[needs_review.flag != '']\n",
    "    return(first_pass)"
   ]
  },
  {
   "cell_type": "code",
   "execution_count": null,
   "id": "4178908e",
   "metadata": {},
   "outputs": [],
   "source": [
    "def include_exclude_pass(includevars, excludevars, first_pass):\n",
    "    first_pass['stigmatizing'] = ''\n",
    "    for i in list(includevars):\n",
    "        first_pass.stigmatizing[(first_pass.stigmatizing == '') & first_pass['columnmeta_description'].str.contains(i, case=False)] = 'Y'\n",
    "        first_pass.stigmatizing[(first_pass.stigmatizing == '') & first_pass['values'].str.contains(i, case=False)] = 'Y'\n",
    "    for i in list(excludevars):\n",
    "        first_pass.stigmatizing[(first_pass.stigmatizing == '') & first_pass['columnmeta_description'].str.contains(i, case=False)] = 'N'\n",
    "        first_pass.stigmatizing[(first_pass.stigmatizing == '') & first_pass['values'].str.contains(i, case=False)] = 'N'\n",
    "    return(first_pass)"
   ]
  },
  {
   "cell_type": "code",
   "execution_count": null,
   "id": "8f170229",
   "metadata": {},
   "outputs": [],
   "source": [
    "def decide(df):\n",
    "    stig_vars = []\n",
    "    non_stig_vars = []\n",
    "    for i in range(0, len(df.columnmeta_HPDS_PATH)):\n",
    "        description = df.columnmeta_description[i]\n",
    "        values = df['values'][i]\n",
    "        group_description = df.columnmeta_var_group_description[i]\n",
    "        newstring = ''.join([j for j in description.lower() if not j.isdigit()])\n",
    "        print(i)\n",
    "        if df.stigmatizing[i] == 'Y' and newstring not in stig_vars:\n",
    "            stig_vars.append(newstring.lower())\n",
    "            print(\"Adding\", newstring.lower(), \"to stig vars\")\n",
    "        if df.stigmatizing[i] == 'N' and newstring not in stig_vars:\n",
    "            non_stig_vars.append(newstring.lower())\n",
    "            print(\"Adding\", newstring.lower(), \"to stig vars\")\n",
    "        else:\n",
    "            if newstring in stig_vars:\n",
    "                result = \"Y\"\n",
    "                print(\"Recording result \", i, \"of\", len(df.columnmeta_HPDS_PATH))\n",
    "                df.stigmatizing[i] = result\n",
    "            elif newstring in non_stig_vars:\n",
    "                result = \"N\"\n",
    "                print(\"Recording result \", i, \"of\", len(df.columnmeta_HPDS_PATH))\n",
    "                df.stigmatizing[i] = result\n",
    "            else:\n",
    "                print(\"Variable\", i, 'of', len(df.columnmeta_HPDS_PATH))\n",
    "                print(description)\n",
    "                if df.flag[i] == 'values':\n",
    "                    print(\"Values deemed stigmatizing: \")\n",
    "                    print(values)\n",
    "                result = input(\"Stigmatizing? Y/N/more: \")\n",
    "                if result == \"more\":\n",
    "                    print(group_description)\n",
    "                    result = input(\"Group description. Stigmatizing? Y/N/more: \")\n",
    "                    if result == 'more':\n",
    "                        print(values)\n",
    "                        result = input(\"Values. Stigmatizing? Y/N: \")\n",
    "                if result == \"pause\":\n",
    "                    print(\"Pausing stigmatizing variable identification\")\n",
    "                    return(df)\n",
    "                if result == \"Y\":\n",
    "                    stig_vars.append(newstring.lower())\n",
    "                    df.stigmatizing[i] = result\n",
    "                elif result == \"N\":\n",
    "                    non_stig_vars.append(newstring.lower())\n",
    "                    df.stigmatizing[i] = result\n",
    "    print(\"Stigmatizing variables complete.\")\n",
    "    return(df)"
   ]
  },
  {
   "cell_type": "markdown",
   "id": "8dcb766a",
   "metadata": {},
   "source": [
    "### Perform stigmatizing variables process"
   ]
  },
  {
   "cell_type": "code",
   "execution_count": null,
   "id": "e377a698",
   "metadata": {},
   "outputs": [],
   "source": [
    "# Identify potentially stigmatizing variables\n",
    "first_pass = flag_potential_stigvars(stigmatizing_df['Search keyword'], clean_df)"
   ]
  },
  {
   "cell_type": "code",
   "execution_count": null,
   "id": "d3942e43",
   "metadata": {},
   "outputs": [],
   "source": [
    "# Identify stigmatizing variables based on inclusion terms and exclude non-stigmatizing variables based on exclusion terms\n",
    "second_pass = include_exclude_pass(terms_included_df['Terms to include'],\n",
    "                                   terms_excluded_df['TERMS TO EXCLUDE'],\n",
    "                                   first_pass)"
   ]
  },
  {
   "cell_type": "code",
   "execution_count": null,
   "id": "512bb86f",
   "metadata": {},
   "outputs": [],
   "source": [
    "# Remove non-stigmatizing terms\n",
    "filtered_df = second_pass[second_pass.stigmatizing != \"N\"].reset_index()"
   ]
  },
  {
   "cell_type": "code",
   "execution_count": null,
   "id": "fe553594",
   "metadata": {},
   "outputs": [],
   "source": [
    "# Decide on remaining stigmatizing variables\n",
    "reviewed_df = decide(filtered_df)"
   ]
  },
  {
   "cell_type": "code",
   "execution_count": null,
   "id": "79e5fd58",
   "metadata": {},
   "outputs": [],
   "source": [
    "reviewed_df"
   ]
  },
  {
   "cell_type": "code",
   "execution_count": null,
   "id": "42a0fa69",
   "metadata": {},
   "outputs": [],
   "source": [
    "# Helpful code to reduce file size for variables with many categories\n",
    "for i in range(0, reviewed_df.shape[0]):\n",
    "    value_list = reviewed_df['values'][i]\n",
    "    list_vals = value_list.strip('][').split(', ')\n",
    "    if len(list_vals) > 10:\n",
    "        mini_list = list_vals[0:9]\n",
    "        mini_list.append('...')\n",
    "        reviewed_df['values'][i] = mini_list\n",
    "reviewed_df"
   ]
  },
  {
   "cell_type": "code",
   "execution_count": null,
   "id": "b12e5993",
   "metadata": {},
   "outputs": [],
   "source": [
    "# Save decisions as export\n",
    "reviewed_df.to_csv(\"stigmatizing_variable_results/REVAMP_stigmatizing_variable_decisions_20june2022.csv\",\n",
    "                  index=False)"
   ]
  },
  {
   "cell_type": "markdown",
   "id": "95ef124c",
   "metadata": {},
   "source": [
    "## Export stig vars"
   ]
  },
  {
   "cell_type": "code",
   "execution_count": null,
   "id": "f96cfd09",
   "metadata": {},
   "outputs": [],
   "source": [
    "final_output = 'path_to_final_decision_file'\n",
    "df = pd.read_csv(final_output, sep='\\t')"
   ]
  },
  {
   "cell_type": "code",
   "execution_count": null,
   "id": "a10b83d6",
   "metadata": {},
   "outputs": [],
   "source": [
    "df.head()"
   ]
  },
  {
   "cell_type": "code",
   "execution_count": null,
   "id": "be165bf7",
   "metadata": {},
   "outputs": [],
   "source": [
    "# Filter to stig vars\n",
    "stigvars = df[df.stigmatizing == \"Y\"].columnmeta_HPDS_PATH.reset_index(drop=True)\n",
    "stigvars.head()"
   ]
  },
  {
   "cell_type": "code",
   "execution_count": null,
   "id": "6547e4cc",
   "metadata": {},
   "outputs": [],
   "source": [
    "out = \"stigmatizing_variable_results/REVAMP_stigmatizing_variables.txt\"\n",
    "df_final.to_csv(out, sep='\\t', header=False, index=False)"
   ]
  }
 ],
 "metadata": {
  "kernelspec": {
   "display_name": "conda_python3",
   "language": "python",
   "name": "conda_python3"
  },
  "language_info": {
   "codemirror_mode": {
    "name": "ipython",
    "version": 3
   },
   "file_extension": ".py",
   "mimetype": "text/x-python",
   "name": "python",
   "nbconvert_exporter": "python",
   "pygments_lexer": "ipython3",
   "version": "3.6.13"
  }
 },
 "nbformat": 4,
 "nbformat_minor": 5
}
