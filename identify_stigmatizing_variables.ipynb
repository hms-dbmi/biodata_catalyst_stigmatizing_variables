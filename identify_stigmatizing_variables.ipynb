{
 "cells": [
  {
   "cell_type": "markdown",
   "id": "b939a180",
   "metadata": {},
   "source": [
    "# BioData Catalyst Powered by PIC-SURE: Identify stigmatizing variables\n",
    "\n",
    "The purpose of this notebook is to identify stigmatizing variables in [BioData Catalyst Powered by PIC-SURE](https://picsure.biodatacatalyst.nhlbi.nih.gov/). Specifically, stigmatizing variables will be identified in PIC-SURE Authorized Access and removed for PIC-SURE Open Access.\n",
    "\n",
    "For more information about stigmatizing variables, please view the [README.md](https://github.com/hms-dbmi/biodata_catalyst_stigmatizing_variables#biodata_catalyst_stigmatizing_variables).\n",
    "\n",
    "---"
   ]
  },
  {
   "cell_type": "markdown",
   "id": "a4599881",
   "metadata": {},
   "source": [
    "### Prerequisites\n",
    "\n",
    "This notebook assumes knowledge of the BioData Catalyst Powered by PIC-SURE platform, data structure, and API. For more information about the API, please visit the [Access to Data using PIC-SURE GitHub repository](https://github.com/hms-dbmi/Access-to-Data-using-PIC-SURE-API).\n",
    "\n",
    "Developer login credentials or access to all data in PIC-SURE Authorized Access is also required to ensure all variables are reviewed. "
   ]
  },
  {
   "cell_type": "markdown",
   "id": "bcf56a23",
   "metadata": {},
   "source": [
    "### Connect to PIC-SURE\n",
    "\n",
    "Be sure to save your user-specific token as `token.txt` prior to running the code."
   ]
  },
  {
   "cell_type": "code",
   "execution_count": null,
   "id": "c4fec4a5",
   "metadata": {
    "scrolled": true
   },
   "outputs": [],
   "source": [
    "import pandas as pd\n",
    "import sys\n",
    "!{sys.executable} -m pip install --upgrade --force-reinstall git+https://github.com/hms-dbmi/pic-sure-python-client.git\n",
    "!{sys.executable} -m pip install --upgrade --force-reinstall git+https://github.com/hms-dbmi/pic-sure-python-adapter-hpds.git\n",
    "!{sys.executable} -m pip install --upgrade --force-reinstall git+https://github.com/hms-dbmi/pic-sure-biodatacatalyst-python-adapter-hpds.git@new-search\n",
    "\n",
    "import PicSureBdcAdapter"
   ]
  },
  {
   "cell_type": "code",
   "execution_count": null,
   "id": "6826191a",
   "metadata": {},
   "outputs": [],
   "source": [
    "# Uncomment production URL below for production environment\n",
    "# PICSURE_network_URL = \"https://picsure.biodatacatalyst.nhlbi.nih.gov/picsure\"\n",
    "PICSURE_network_URL = \"https://biodatacatalyst.integration.hms.harvard.edu/picsure\"\n",
    "token_file = \"token.txt\"\n",
    "\n",
    "with open(token_file, \"r\") as f:\n",
    "    my_token = f.read()\n",
    "    \n",
    "bdc = PicSureBdcAdapter.Adapter(PICSURE_network_URL, my_token)"
   ]
  },
  {
   "cell_type": "markdown",
   "id": "951f33ce",
   "metadata": {},
   "source": [
    "\n",
    "### Save all variables of interest in PIC-SURE Authorized Access to DataFrame"
   ]
  },
  {
   "cell_type": "code",
   "execution_count": null,
   "id": "2016c34c",
   "metadata": {},
   "outputs": [],
   "source": [
    "dictionary = bdc.useDictionary().dictionary() # Set up the dictionary\n",
    "all_vars = dictionary.find('phs002415') # Fill in with phs number of interest\n",
    "all_variables = all_vars.dataframe() # Retrieve all variables you have access to"
   ]
  },
  {
   "cell_type": "code",
   "execution_count": null,
   "id": "033fdacf",
   "metadata": {},
   "outputs": [],
   "source": [
    "all_variables"
   ]
  },
  {
   "cell_type": "code",
   "execution_count": null,
   "id": "bed842f8",
   "metadata": {},
   "outputs": [],
   "source": [
    "# Select only columns we are interested in\n",
    "clean_df = all_variables[['columnmeta_HPDS_PATH', 'columnmeta_name', 'columnmeta_description', \n",
    "                          'columnmeta_var_group_description', 'values', 'columnmeta_is_stigmatized']]"
   ]
  },
  {
   "cell_type": "markdown",
   "id": "c5415a21",
   "metadata": {},
   "source": [
    "### Load the stigmatizing terms and define functions"
   ]
  },
  {
   "cell_type": "code",
   "execution_count": null,
   "id": "ee260a6a",
   "metadata": {},
   "outputs": [],
   "source": [
    "# Load the list of stigmatizing terms, inclusion terms, and exclusion terms\n",
    "stigmatizing_df = pd.read_csv(\"stigmatizing_terms/stigmatizing_keywords.tsv\", sep=\"\\t\")\n",
    "terms_included_df = pd.read_csv(\"stigmatizing_terms/inclusion_terms.tsv\", sep='\\t')\n",
    "terms_excluded_df = pd.read_csv(\"stigmatizing_terms/revamped_exclusion.tsv\", sep='\\t')"
   ]
  },
  {
   "cell_type": "code",
   "execution_count": null,
   "id": "4ef51fe5",
   "metadata": {},
   "outputs": [],
   "source": [
    "import re\n",
    "def flag_potential_stigvars(stigvars, needs_review):\n",
    "    #needs_review = data_dict_df[data_dict_df.columnmeta_is_stigmatized == 'false']\n",
    "    #needs_review = data_dict_df\n",
    "    needs_review['flag'] = ''\n",
    "    for i in list(stigvars):\n",
    "        needs_review.flag[(needs_review.flag == '') & needs_review['columnmeta_description'].str.contains(i, case=False)] = 'columnmeta_description'\n",
    "        needs_review.flag[(needs_review.flag == '') & needs_review['values'].str.contains(i, case=False)] = 'values'\n",
    "    first_pass = needs_review[needs_review.flag != '']\n",
    "    return(first_pass)"
   ]
  },
  {
   "cell_type": "code",
   "execution_count": null,
   "id": "24b88741",
   "metadata": {},
   "outputs": [],
   "source": [
    "def include_exclude_pass(includevars, excludevars, first_pass):\n",
    "    first_pass['stigmatizing'] = ''\n",
    "    for i in list(includevars):\n",
    "        first_pass.stigmatizing[(first_pass.stigmatizing == '') & first_pass['columnmeta_description'].str.contains(i, case=False)] = 'Y'\n",
    "        first_pass.stigmatizing[(first_pass.stigmatizing == '') & first_pass['values'].str.contains(i, case=False)] = 'Y'\n",
    "    for i in list(excludevars):\n",
    "        first_pass.stigmatizing[(first_pass.stigmatizing == '') & first_pass['columnmeta_description'].str.contains(i, case=False)] = 'N'\n",
    "        first_pass.stigmatizing[(first_pass.stigmatizing == '') & first_pass['values'].str.contains(i, case=False)] = 'N'\n",
    "    return(first_pass)"
   ]
  },
  {
   "cell_type": "code",
   "execution_count": null,
   "id": "de4d1ebf",
   "metadata": {},
   "outputs": [],
   "source": [
    "def decide(df):\n",
    "    stig_vars = []\n",
    "    non_stig_vars = []\n",
    "    for i in range(0, len(df.columnmeta_HPDS_PATH)):\n",
    "        description = df.columnmeta_description[i]\n",
    "        values = df['values'][i]\n",
    "        group_description = df.columnmeta_var_group_description[i]\n",
    "        newstring = ''.join([j for j in description.lower() if not j.isdigit()])\n",
    "        print(i)\n",
    "        if df.stigmatizing[i] == 'Y' and newstring not in stig_vars:\n",
    "            stig_vars.append(newstring.lower())\n",
    "            print(\"Adding\", newstring.lower(), \"to stig vars\")\n",
    "        if df.stigmatizing[i] == 'N' and newstring not in stig_vars:\n",
    "            non_stig_vars.append(newstring.lower())\n",
    "            print(\"Adding\", newstring.lower(), \"to stig vars\")\n",
    "        else:\n",
    "            if newstring in stig_vars:\n",
    "                result = \"Y\"\n",
    "                print(\"Recording result \", i, \"of\", len(df.columnmeta_HPDS_PATH))\n",
    "                df.stigmatizing[i] = result\n",
    "            elif newstring in non_stig_vars:\n",
    "                result = \"N\"\n",
    "                print(\"Recording result \", i, \"of\", len(df.columnmeta_HPDS_PATH))\n",
    "                df.stigmatizing[i] = result\n",
    "            else:\n",
    "                print(\"Variable\", i, 'of', len(df.columnmeta_HPDS_PATH))\n",
    "                print(description)\n",
    "                if df.flag[i] == 'values':\n",
    "                    print(\"Values deemed stigmatizing: \")\n",
    "                    print(values)\n",
    "                result = input(\"Stigmatizing? Y/N/more: \")\n",
    "                if result == \"more\":\n",
    "                    print(group_description)\n",
    "                    result = input(\"Group description. Stigmatizing? Y/N/more: \")\n",
    "                    if result == 'more':\n",
    "                        print(values)\n",
    "                        result = input(\"Values. Stigmatizing? Y/N: \")\n",
    "                if result == \"pause\":\n",
    "                    print(\"Pausing stigmatizing variable identification\")\n",
    "                    return(df)\n",
    "                if result == \"Y\":\n",
    "                    stig_vars.append(newstring.lower())\n",
    "                    df.stigmatizing[i] = result\n",
    "                elif result == \"N\":\n",
    "                    non_stig_vars.append(newstring.lower())\n",
    "                    df.stigmatizing[i] = result\n",
    "    print(\"Stigmatizing variables complete.\")\n",
    "    return(df)"
   ]
  },
  {
   "cell_type": "markdown",
   "id": "6e284518",
   "metadata": {},
   "source": [
    "### Perform stigmatizing variables process"
   ]
  },
  {
   "cell_type": "code",
   "execution_count": null,
   "id": "5436bc99",
   "metadata": {},
   "outputs": [],
   "source": [
    "# Identify potentially stigmatizing variables\n",
    "first_pass = flag_potential_stigvars(stigmatizing_df['Search keyword'], clean_df)"
   ]
  },
  {
   "cell_type": "code",
   "execution_count": null,
   "id": "9a8d09ad",
   "metadata": {},
   "outputs": [],
   "source": [
    "# Identify stigmatizing variables based on inclusion terms and exclude non-stigmatizing variables based on exclusion terms\n",
    "second_pass = include_exclude_pass(terms_included_df['Terms to include'],\n",
    "                                   terms_excluded_df['TERMS TO EXCLUDE'],\n",
    "                                   first_pass)"
   ]
  },
  {
   "cell_type": "code",
   "execution_count": null,
   "id": "e0c7b997",
   "metadata": {},
   "outputs": [],
   "source": [
    "# Remove non-stigmatizing terms\n",
    "filtered_df = second_pass[second_pass.stigmatizing != \"N\"].reset_index()"
   ]
  },
  {
   "cell_type": "code",
   "execution_count": null,
   "id": "701f7702",
   "metadata": {},
   "outputs": [],
   "source": [
    "# Decide on remaining stigmatizing variables\n",
    "reviewed_df = decide(filtered_df)"
   ]
  },
  {
   "cell_type": "code",
   "execution_count": null,
   "id": "ba5a7470",
   "metadata": {},
   "outputs": [],
   "source": [
    "reviewed_df"
   ]
  },
  {
   "cell_type": "code",
   "execution_count": null,
   "id": "a218eddf",
   "metadata": {},
   "outputs": [],
   "source": [
    "# Helpful code to reduce file size for variables with many categories\n",
    "for i in range(0, reviewed_df.shape[0]):\n",
    "    value_list = reviewed_df['values'][i]\n",
    "    list_vals = value_list.strip('][').split(', ')\n",
    "    if len(list_vals) > 10:\n",
    "        mini_list = list_vals[0:9]\n",
    "        mini_list.append('...')\n",
    "        reviewed_df['values'][i] = mini_list\n",
    "reviewed_df"
   ]
  },
  {
   "cell_type": "code",
   "execution_count": null,
   "id": "f8e76a6a",
   "metadata": {},
   "outputs": [],
   "source": [
    "# Save decisions as export\n",
    "reviewed_df.to_csv(\"stigmatizing_variable_results/REVAMP_babyhug_stigmatizing_variable_decisions_20june2022.csv\",\n",
    "                  index=False)"
   ]
  },
  {
   "cell_type": "markdown",
   "id": "02a9c24d",
   "metadata": {},
   "source": [
    "## Export stig vars"
   ]
  },
  {
   "cell_type": "code",
   "execution_count": null,
   "id": "7127cdbf",
   "metadata": {},
   "outputs": [],
   "source": [
    "final_output = 'path_to_final_decision_file'\n",
    "df = pd.read_csv(final_output, sep='\\t')"
   ]
  },
  {
   "cell_type": "code",
   "execution_count": null,
   "id": "e46cf429",
   "metadata": {},
   "outputs": [],
   "source": [
    "df.head()"
   ]
  },
  {
   "cell_type": "code",
   "execution_count": null,
   "id": "bac2290e",
   "metadata": {},
   "outputs": [],
   "source": [
    "# Filter to stig vars\n",
    "stigvars = df[df.stigmatizing == \"Y\"].columnmeta_HPDS_PATH.reset_index(drop=True)\n",
    "stigvars.head()"
   ]
  },
  {
   "cell_type": "code",
   "execution_count": null,
   "id": "4ed8c217",
   "metadata": {},
   "outputs": [],
   "source": [
    "out = \"stigmatizing_variable_results/REVAMP_stigmatizing_variables.txt\"\n",
    "df_final.to_csv(out, sep='\\t', header=False, index=False)"
   ]
  }
 ],
 "metadata": {
  "kernelspec": {
   "display_name": "conda_python3",
   "language": "python",
   "name": "conda_python3"
  },
  "language_info": {
   "codemirror_mode": {
    "name": "ipython",
    "version": 3
   },
   "file_extension": ".py",
   "mimetype": "text/x-python",
   "name": "python",
   "nbconvert_exporter": "python",
   "pygments_lexer": "ipython3",
   "version": "3.6.13"
  }
 },
 "nbformat": 4,
 "nbformat_minor": 5
}
