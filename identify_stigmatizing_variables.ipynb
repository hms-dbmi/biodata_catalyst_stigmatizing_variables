{
 "cells": [
  {
   "cell_type": "markdown",
   "id": "0a64d824",
   "metadata": {},
   "source": [
    "# BioData Catalyst Powered by PIC-SURE: Identify stigmatizing variables\n",
    "\n",
    "The purpose of this notebook is to identify stigmatizing variables in [BioData Catalyst Powered by PIC-SURE](https://picsure.biodatacatalyst.nhlbi.nih.gov/). Specifically, stigmatizing variables will be identified in PIC-SURE Authorized Access and removed for PIC-SURE Open Access.\n",
    "\n",
    "For more information about stigmatizing variables, please view the [README.md](https://github.com/hms-dbmi/biodata_catalyst_stigmatizing_variables#biodata_catalyst_stigmatizing_variables)."
   ]
  },
  {
   "cell_type": "markdown",
   "id": "6a94fe12",
   "metadata": {},
   "source": [
    "### Install packages"
   ]
  },
  {
   "cell_type": "code",
   "execution_count": null,
   "id": "5f8ca064",
   "metadata": {},
   "outputs": [],
   "source": [
    "import pandas as pd\n",
    "import matplotlib.pyplot as plt\n",
    "import numpy as np\n",
    "import re\n",
    "from collections import Counter\n",
    "from pprint import pprint\n",
    "import json"
   ]
  },
  {
   "cell_type": "code",
   "execution_count": null,
   "id": "e5b9f3be",
   "metadata": {
    "scrolled": true
   },
   "outputs": [],
   "source": [
    "import sys\n",
    "!{sys.executable} -m pip install --upgrade --force-reinstall git+https://github.com/hms-dbmi/pic-sure-python-client.git\n",
    "!{sys.executable} -m pip install --upgrade --force-reinstall git+https://github.com/hms-dbmi/pic-sure-python-adapter-hpds.git\n",
    "!{sys.executable} -m pip install --upgrade --force-reinstall git+https://github.com/hms-dbmi/pic-sure-biodatacatalyst-python-adapter-hpds.git"
   ]
  },
  {
   "cell_type": "code",
   "execution_count": null,
   "id": "e72cdeaa",
   "metadata": {},
   "outputs": [],
   "source": [
    "import PicSureClient\n",
    "import PicSureBdcAdapter\n",
    "from python_lib.utils import get_multiIndex_variablesDict, joining_variablesDict_onCol"
   ]
  },
  {
   "cell_type": "markdown",
   "id": "6b88533c",
   "metadata": {},
   "source": [
    "### Connect to PIC-SURE"
   ]
  },
  {
   "cell_type": "code",
   "execution_count": null,
   "id": "0d4e7828",
   "metadata": {},
   "outputs": [],
   "source": [
    "PICSURE_network_URL = \"https://picsure.biodatacatalyst.nhlbi.nih.gov/picsure\"\n",
    "resource_id = \"02e23f52-f354-4e8b-992c-d37c8b9ba140\" # Be sure to use Authorized Access resource ID\n",
    "token_file = \"token.txt\" # Be sure to use developer token to get all variables"
   ]
  },
  {
   "cell_type": "code",
   "execution_count": null,
   "id": "6e110086",
   "metadata": {},
   "outputs": [],
   "source": [
    "with open(token_file, \"r\") as f:\n",
    "    my_token = f.read()"
   ]
  },
  {
   "cell_type": "code",
   "execution_count": null,
   "id": "335c8be2",
   "metadata": {},
   "outputs": [],
   "source": [
    "client = PicSureClient.Client()\n",
    "connection = client.connect(PICSURE_network_URL, my_token, True)\n",
    "adapter = PicSureBdcAdapter.Adapter(connection)\n",
    "resource = adapter.useResource(resource_id)"
   ]
  },
  {
   "cell_type": "markdown",
   "id": "3aa08772",
   "metadata": {},
   "source": [
    "### Save all variables in PIC-SURE Authorized Access to DataFrame"
   ]
  },
  {
   "cell_type": "code",
   "execution_count": null,
   "id": "073a4adc",
   "metadata": {},
   "outputs": [],
   "source": [
    "fullVariableDict = resource.dictionary().find().DataFrame()\n",
    "#fullVariableDict\n",
    "multiindex = get_multiIndex_variablesDict(fullVariableDict)"
   ]
  },
  {
   "cell_type": "code",
   "execution_count": null,
   "id": "24bf457e",
   "metadata": {},
   "outputs": [],
   "source": [
    "multiindex # potentially explore categoryValues"
   ]
  },
  {
   "cell_type": "markdown",
   "id": "98a1188c",
   "metadata": {},
   "source": [
    "### Stigmatizing variables using `simplified_name`"
   ]
  },
  {
   "cell_type": "code",
   "execution_count": null,
   "id": "280846a6",
   "metadata": {},
   "outputs": [],
   "source": [
    "def check_simplified_name(varlist, multiindex_df, exclude_vars=[]):\n",
    "    stig_var_list = []\n",
    "    excluded_var_list = []\n",
    "    for i in range(1, len(multiindex_df[\"simplified_name\"])):\n",
    "        for var in varlist:\n",
    "            if re.search(var, multiindex_df['simplified_name'][i], re.IGNORECASE):\n",
    "                for ex in exclude_vars:\n",
    "                    if multiindex_df['simplified_name'][i] == ex:\n",
    "                        if multiindex_df['simplified_name'][i] not in excluded_var_list:\n",
    "                            excluded_var_list.append(multiindex_df['name'][i])\n",
    "                    else:\n",
    "                        if multiindex_df['name'][i] not in stig_var_list:\n",
    "                            stig_var_list.append(multiindex_df['name'][i])\n",
    "    return stig_var_list, excluded_var_list"
   ]
  },
  {
   "cell_type": "markdown",
   "id": "8b8144eb",
   "metadata": {},
   "source": [
    "#### Sex history filtering\n",
    "The following terms are used to filter out sex history variables:\n",
    "- sex\n",
    "- sex history\n",
    "- sexual\n",
    "- sexually\n",
    "- intercourse\n",
    "- coitus\n",
    "- copulation\n",
    "- pareunia\n",
    "- futunio\n",
    "- venery"
   ]
  },
  {
   "cell_type": "code",
   "execution_count": null,
   "id": "6f091017",
   "metadata": {},
   "outputs": [],
   "source": [
    "sex_history_terms = ['sex', 'sex history', 'sexual', 'sexually', 'intercourse', \n",
    "                     'coitus', 'copulation', 'pareunia', 'futunio', 'venery']\n",
    "sex_remove = ['sex', 'sex of participant']"
   ]
  },
  {
   "cell_type": "code",
   "execution_count": null,
   "id": "a9efd0bb",
   "metadata": {},
   "outputs": [],
   "source": [
    "sex_stig_vars = check_simplified_name(sex_history_terms, multiindex)"
   ]
  },
  {
   "cell_type": "code",
   "execution_count": null,
   "id": "bae86f3a",
   "metadata": {},
   "outputs": [],
   "source": [
    "len(sex_stig_vars)"
   ]
  },
  {
   "cell_type": "code",
   "execution_count": null,
   "id": "51bd6696",
   "metadata": {},
   "outputs": [],
   "source": [
    "filter_stig_vars(sex_history_terms, multiindex, sex_remove)\n"
   ]
  },
  {
   "cell_type": "markdown",
   "id": "a2d6067c",
   "metadata": {},
   "source": [
    "#### Sexually transmitted disease diagnosis/history/treatment filtering\n",
    "The following terms are used to filter out variables related to sexually transmitted disease:\n",
    "- chlamydia\n",
    "- genital (NOT congenital)\n",
    "- herpes\n",
    "- gonorrhea\n",
    "- HIV\n",
    "- AIDS\n",
    "- HPV\n",
    "- pubic lice\n",
    "- syphilis\n",
    "- trichomoniasis\n",
    "- estrogens\n",
    "- vagina\n",
    "- progesterone"
   ]
  },
  {
   "cell_type": "code",
   "execution_count": null,
   "id": "30b1042d",
   "metadata": {},
   "outputs": [],
   "source": [
    "sex_disease_terms = ['chlamydia', 'genital', 'herpes', 'gonorrhea', 'hiv', \n",
    "                     'aids', 'hpv', 'pubic lice', 'syphilis', 'trichomoniasis', \n",
    "                     'estrogens', 'vagina', 'progesterone']"
   ]
  },
  {
   "cell_type": "code",
   "execution_count": null,
   "id": "a235bd45",
   "metadata": {},
   "outputs": [],
   "source": [
    "sex_disease_stig_vars = check_simplified_name(sex_disease_terms, multiindex)"
   ]
  },
  {
   "cell_type": "markdown",
   "id": "049bce62",
   "metadata": {},
   "source": [
    "#### Mental health diagnoses/history/treatment filtering\n",
    "The following terms are used to filter out variables related to mental health:\n",
    "- depression\n",
    "- depressive\n",
    "- anxiety\n",
    "- panic\n",
    "- phobia\n",
    "- schizophrenia\n",
    "- mental (and NOT supplemental/instrumental/environmental etc)\n",
    "- mental health\n",
    "- psycho\n",
    "- psychological\n",
    "- emotional health"
   ]
  },
  {
   "cell_type": "code",
   "execution_count": null,
   "id": "2d9a6421",
   "metadata": {},
   "outputs": [],
   "source": [
    "mental_disease_terms = ['depression', 'depressive', 'anxiety', 'panic', 'phobias', 'schizophrenia',\n",
    "                       r'(\\s|\\W)mental', 'mental health', 'psycho', 'psychological', 'emotional health']"
   ]
  },
  {
   "cell_type": "code",
   "execution_count": null,
   "id": "4f126ed4",
   "metadata": {},
   "outputs": [],
   "source": [
    "mental_disease_stig_vars = check_simplified_name(mental_disease_terms, multiindex)"
   ]
  },
  {
   "cell_type": "markdown",
   "id": "97c1ca4a",
   "metadata": {},
   "source": [
    "#### Illicit drug use history filtering\n",
    "The following terms are used to filter out variables related to illicit drug use:\n",
    "- illicit\n",
    "- street drug\n",
    "- abuse\n",
    "- illegal\n",
    "- fentanyl\n",
    "- cocaine\n",
    "- ecstasy\n",
    "- LSD\n",
    "- methamphetamine\n",
    "- heroin\n",
    "- phencyclidine\n",
    "- angel dust\n",
    "- rohypnol\n",
    "- roofies\n",
    "- ketamine hydrochloride\n",
    "- psilocybin\n",
    "- mushroom\n",
    "- krokodil\n",
    "- marijuana\n",
    "- salvia\n",
    "- bath salts\n",
    "- flakka\n",
    "- ayahuasca\n",
    "- DMT\n",
    "- central nervous system depressant\n",
    "- hallucinogen\n",
    "- inhalant\n",
    "- khat\n",
    "- kratom\n",
    "- mescaline\n",
    "- loperamide\n",
    "- dextromethorphan\n",
    "- opioid\n",
    "- stimulant\n",
    "- cannabinoid\n",
    "- gamma hydroxybutyrate\n",
    "- alcohol\n",
    "- steroid\n",
    "- tobacco\n",
    "- nicotine"
   ]
  },
  {
   "cell_type": "code",
   "execution_count": null,
   "id": "71b59c7e",
   "metadata": {},
   "outputs": [],
   "source": [
    "illicit_drug_terms = ['illicit', 'street drug', 'abuse', 'illegal', 'fentanyl', \n",
    "                      'cocaine', 'ecstasy', 'lsd', 'methamphetamine', 'heroin', \n",
    "                      'phencyclidine', 'angel dust', 'rohypnol', 'roofies', \n",
    "                      'ketamine hydrochloride', 'psilocybin', 'mushroom', 'krokodil', \n",
    "                      'marijuana', 'salvia','bath salts', 'flakka', 'ayahuasca', 'dmt', \n",
    "                      'central nervous system depressant', 'hallucinogen', 'inhalant', 'khat', \n",
    "                      'kratom', 'mescaline', 'loperamide', 'dextromethorphan','opioid', \n",
    "                      'stimulant', 'cannabinoid', 'gamma hydroxybutyrate', 'depressants']#, \n",
    "                      #'alcohol', 'steroid', 'tobacco', 'nicotine']"
   ]
  },
  {
   "cell_type": "code",
   "execution_count": null,
   "id": "84a3858d",
   "metadata": {},
   "outputs": [],
   "source": [
    "illicit_drug_stig_vars = check_simplified_name(illicit_drug_terms, multiindex)"
   ]
  },
  {
   "cell_type": "markdown",
   "id": "557e6644",
   "metadata": {},
   "source": [
    "#### Intellectual achievement/ability/educational attainment filtering\n",
    "The following terms are used to filter out variables related to intellectual achievement:\n",
    "(Note from Rui: no genetics IQ outcomes)\n",
    "- bachelor\n",
    "- master\n",
    "- phd\n",
    "- quotient\n",
    "- intellectual\n",
    "- intelligence\n",
    "- achievement\n",
    "- disability\n",
    "- ability - maybe\n",
    "- attainment\n",
    "- education\n",
    "- genetic iq\n",
    "- school"
   ]
  },
  {
   "cell_type": "code",
   "execution_count": null,
   "id": "bb908736",
   "metadata": {},
   "outputs": [],
   "source": [
    "intell_ability_terms = ['bachelor', 'master', 'phd', 'quotient', 'intellectual', 'intelligence',\n",
    "                        'achievement', 'disability', 'ability', 'attainment', 'education', 'genetic iq', 'school']"
   ]
  },
  {
   "cell_type": "code",
   "execution_count": null,
   "id": "08f8f03f",
   "metadata": {},
   "outputs": [],
   "source": [
    "intell_ability_stig_vars = check_simplified_name(intell_ability_terms, multiindex)"
   ]
  },
  {
   "cell_type": "markdown",
   "id": "1775366f",
   "metadata": {},
   "source": [
    "#### Direct or surrogate identifiers of legal status filtering\n",
    "The following terms are used to filter out variables related to legal status:\n",
    "- villainage\n",
    "- villeinage\n",
    "- citizenship\n",
    "- marital\n",
    "- married\n",
    "- unmarried\n",
    "- single\n",
    "- divorced\n",
    "- widowed\n",
    "- minority\n",
    "- nonage\n",
    "- marriage\n",
    "- matrimony\n",
    "- spousal\n",
    "- civil union\n",
    "- wedlock\n",
    "- bachelorhood\n",
    "- spinsterhood\n",
    "- widowhood\n",
    "- ethnicity\n",
    "- nationality\n",
    "- race\n",
    "- death"
   ]
  },
  {
   "cell_type": "code",
   "execution_count": null,
   "id": "ea903c44",
   "metadata": {},
   "outputs": [],
   "source": [
    "legal_status_terms = ['villainage', 'villeinage', 'citizenship', 'marital', \n",
    "                      'married', 'unmarried', 'single', 'divorced', 'widowed', \n",
    "                      'minority', 'nonage', 'marriage', 'matrimony', 'spousal',  \n",
    "                      'civil union', 'wedlock', 'bachelorhood', 'spinsterhood',\n",
    "                      'widowhood', 'ethnicity', 'nationality', 'race', 'death', \n",
    "                      'identifier', 'identity', ' no.', 'surrogate', 'legal status', \n",
    "                      'ethnicity', 'race', 'nationality', 'death']"
   ]
  },
  {
   "cell_type": "code",
   "execution_count": null,
   "id": "13cd98b9",
   "metadata": {},
   "outputs": [],
   "source": [
    "legal_status_stig_vars = check_simplified_name(legal_status_terms, multiindex)"
   ]
  },
  {
   "cell_type": "markdown",
   "id": "878fb3d0",
   "metadata": {},
   "source": [
    "### Export potentially stigmatizing variables"
   ]
  },
  {
   "cell_type": "code",
   "execution_count": null,
   "id": "066f3a1c",
   "metadata": {},
   "outputs": [],
   "source": [
    "def final_export(sex, sex_disease, mental_disease, illicit_drug, intell_ability, legal_status):\n",
    "    labels = {'***SEX STIG VARS***': sex, '***SEX DISEASE STIG VARS***': sex_disease, \n",
    "              '***MENTAL STIG VARS***': mental_disease, '***ILLICIT DRUG STIG VARS***': illicit_drug, \n",
    "              '***INTELL ABILITY STIG VARS***': illicit_drug, '***LEGAL STATUS STIG VARS***': legal_status}\n",
    "    final = []\n",
    "    for i in labels:\n",
    "        final.append(i)\n",
    "        for j in labels[i]:\n",
    "            if j not in final:\n",
    "                final.append(j)\n",
    "    pd.DataFrame(final).to_csv(\"stig_vars.tsv\", sep='\\t')\n",
    "    return(\"Finished.\")"
   ]
  },
  {
   "cell_type": "code",
   "execution_count": null,
   "id": "e1e88e02",
   "metadata": {},
   "outputs": [],
   "source": [
    "final_export(sex_stig_vars, sex_disease_stig_vars, mental_disease_stig_vars, \n",
    "             illicit_drug_stig_vars, intell_ability_stig_vars, legal_status_stig_vars)"
   ]
  },
  {
   "cell_type": "code",
   "execution_count": null,
   "id": "81805bee",
   "metadata": {},
   "outputs": [],
   "source": [
    "test[67]"
   ]
  },
  {
   "cell_type": "code",
   "execution_count": null,
   "id": "88d79891",
   "metadata": {},
   "outputs": [],
   "source": [
    "sex_stig_vars[67]"
   ]
  },
  {
   "cell_type": "code",
   "execution_count": null,
   "id": "6caec7e8",
   "metadata": {},
   "outputs": [],
   "source": []
  }
 ],
 "metadata": {
  "kernelspec": {
   "display_name": "conda_python3",
   "language": "python",
   "name": "conda_python3"
  },
  "language_info": {
   "codemirror_mode": {
    "name": "ipython",
    "version": 3
   },
   "file_extension": ".py",
   "mimetype": "text/x-python",
   "name": "python",
   "nbconvert_exporter": "python",
   "pygments_lexer": "ipython3",
   "version": "3.6.13"
  }
 },
 "nbformat": 4,
 "nbformat_minor": 5
}
