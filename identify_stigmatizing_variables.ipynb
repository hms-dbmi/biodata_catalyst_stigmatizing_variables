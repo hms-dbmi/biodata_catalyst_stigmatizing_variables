{
 "cells": [
  {
   "cell_type": "markdown",
   "id": "cb1b9eee",
   "metadata": {},
   "source": [
    "# BioData Catalyst Powered by PIC-SURE: Identify stigmatizing variables\n",
    "\n",
    "The purpose of this notebook is to identify stigmatizing variables in [BioData Catalyst Powered by PIC-SURE](https://picsure.biodatacatalyst.nhlbi.nih.gov/). Specifically, stigmatizing variables will be identified in PIC-SURE Authorized Access and removed for PIC-SURE Open Access.\n",
    "\n",
    "For more information about stigmatizing variables, please view the [README.md](https://github.com/hms-dbmi/biodata_catalyst_stigmatizing_variables#biodata_catalyst_stigmatizing_variables)."
   ]
  },
  {
   "cell_type": "markdown",
   "id": "d4076220",
   "metadata": {},
   "source": [
    "### Install packages"
   ]
  },
  {
   "cell_type": "code",
   "execution_count": null,
   "id": "47888fe0",
   "metadata": {},
   "outputs": [],
   "source": [
    "import pandas as pd\n",
    "import matplotlib.pyplot as plt\n",
    "import numpy as np\n",
    "import re\n",
    "from collections import Counter\n",
    "from pprint import pprint\n",
    "import json"
   ]
  },
  {
   "cell_type": "code",
   "execution_count": null,
   "id": "75e675bc",
   "metadata": {
    "scrolled": true
   },
   "outputs": [],
   "source": [
    "import sys\n",
    "!{sys.executable} -m pip install --upgrade --force-reinstall git+https://github.com/hms-dbmi/pic-sure-python-client.git\n",
    "!{sys.executable} -m pip install --upgrade --force-reinstall git+https://github.com/hms-dbmi/pic-sure-python-adapter-hpds.git\n",
    "!{sys.executable} -m pip install --upgrade --force-reinstall git+https://github.com/hms-dbmi/pic-sure-biodatacatalyst-python-adapter-hpds.git"
   ]
  },
  {
   "cell_type": "code",
   "execution_count": null,
   "id": "85b6370f",
   "metadata": {},
   "outputs": [],
   "source": [
    "import PicSureClient\n",
    "import PicSureBdcAdapter\n",
    "from python_lib.utils import get_multiIndex_variablesDict, joining_variablesDict_onCol\n",
    "from python_lib.stig_utils import check_simplified_name, regex_filter_out, manual_check"
   ]
  },
  {
   "cell_type": "markdown",
   "id": "2266fdb7",
   "metadata": {},
   "source": [
    "### Connect to PIC-SURE"
   ]
  },
  {
   "cell_type": "code",
   "execution_count": null,
   "id": "577eb548",
   "metadata": {},
   "outputs": [],
   "source": [
    "PICSURE_network_URL = \"https://picsure.biodatacatalyst.nhlbi.nih.gov/picsure\"\n",
    "resource_id = \"02e23f52-f354-4e8b-992c-d37c8b9ba140\" # Be sure to use Authorized Access resource ID\n",
    "token_file = \"token.txt\" # Be sure to use developer token to get all variables"
   ]
  },
  {
   "cell_type": "code",
   "execution_count": null,
   "id": "9f5b062a",
   "metadata": {},
   "outputs": [],
   "source": [
    "with open(token_file, \"r\") as f:\n",
    "    my_token = f.read()"
   ]
  },
  {
   "cell_type": "code",
   "execution_count": null,
   "id": "28abcc0a",
   "metadata": {},
   "outputs": [],
   "source": [
    "client = PicSureClient.Client()\n",
    "connection = client.connect(PICSURE_network_URL, my_token, True)\n",
    "adapter = PicSureBdcAdapter.Adapter(connection)\n",
    "resource = adapter.useResource(resource_id)"
   ]
  },
  {
   "cell_type": "markdown",
   "id": "c9d60356",
   "metadata": {},
   "source": [
    "### Save all variables in PIC-SURE Authorized Access to DataFrame"
   ]
  },
  {
   "cell_type": "code",
   "execution_count": null,
   "id": "577fd295",
   "metadata": {},
   "outputs": [],
   "source": [
    "fullVariableDict = resource.dictionary().find().DataFrame()\n",
    "#fullVariableDict\n",
    "multiindex = get_multiIndex_variablesDict(fullVariableDict)"
   ]
  },
  {
   "cell_type": "code",
   "execution_count": null,
   "id": "8317f283",
   "metadata": {},
   "outputs": [],
   "source": [
    "multiindex # potentially explore categoryValues"
   ]
  },
  {
   "cell_type": "markdown",
   "id": "b8d12352",
   "metadata": {},
   "source": [
    "### Identify stigmatizing variables using `simplified_name`\n",
    "\n",
    "There are two functions to identify stigmatizing variables: `check_simplified_name` and `regex_filter_out`. "
   ]
  },
  {
   "cell_type": "markdown",
   "id": "6be38d0b",
   "metadata": {},
   "source": [
    "`check_simplified_name` selects all variables from the `multiindex` dataframe where the `simplified_name` contains any of the terms in the given list. It also takes an optional argument `exclude_vars` that removes variable with specified `simplified_name` variables.\n",
    "\n",
    "For example, \n",
    "\n",
    "`check_simplified_name(['bio', 'data', 'catalyst'], multiindex, ['biology variable'])`\n",
    "\n",
    "would find all variables where the `simplified_name` contains 'bio', 'data', and/or 'catalyst' but excludes `simplified_name`s equal to 'biology variable' (ignoring capitalization)."
   ]
  },
  {
   "cell_type": "markdown",
   "id": "cebbab62",
   "metadata": {},
   "source": [
    "`regex_filter_out` uses the list of potentially stigmatizing variables and filters out any `simplified_name` variables containing the given list of terms. Unlike `check_simplified_name` where excluded variables must match the `simplified_name` completely, this function excludes the variable if the term is *contained* by the `simplified_name`. \n",
    "\n",
    "For example,\n",
    "\n",
    "`regex_filter_out(['biodata catalyst', 'terra', 'heliobacter pylori'], ['ter'])`\n",
    "\n",
    "would exclude all variables containing '*ter*'. In this case, '*ter*ra' and 'heliobac*ter* pylori' would be removed."
   ]
  },
  {
   "cell_type": "markdown",
   "id": "17d177d8",
   "metadata": {},
   "source": [
    "| Function | Arguments / Input | Output|\n",
    "|--------|-------------------|-------|\n",
    "| check_simplified_name() | (1) list of search terms, (2) multiindex dataframe, (3) optional: variables to exclude | (1) list of potentially stigmatizing variables, (2) variables excluded using provided criteria|\n",
    "| regex_filter_out() | (1) list of stigmatizing variables, (2) list of terms to filter | list of stigmatizing variables that do not contain any of terms to filter |"
   ]
  },
  {
   "cell_type": "markdown",
   "id": "07cb205c",
   "metadata": {},
   "source": [
    "#### Sex history filtering\n",
    "The following terms are used to filter out sex history variables:\n",
    "\n",
    "<table border=\"0\">\n",
    "    <tr>\n",
    "        <td>sex</td>\n",
    "        <td>sex history</td>\n",
    "    </tr>\n",
    "    <tr>\n",
    "        <td>sexual</td>\n",
    "        <td>sexually</td>\n",
    "    </tr>\n",
    "    <tr>\n",
    "        <td>intercourse</td>\n",
    "        <td>coitus</td>\n",
    "    </tr>\n",
    "    <tr>\n",
    "        <td>copulation</td>\n",
    "        <td>pareunia</td>\n",
    "    </tr>\n",
    "    <tr>\n",
    "        <td>futunio</td>\n",
    "        <td>venery</td>\n",
    "    </tr>\n",
    "</table>\n",
    "\n",
    "The following `simplified_name` variables are excluded:\n",
    "<table border=\"0\">\n",
    "    <tr>\n",
    "        <td>sex</td>\n",
    "    </tr>\n",
    "    <tr>\n",
    "        <td>sex of participant</td>\n",
    "    </tr>\n",
    "</table>\n",
    "\n",
    "`simplified_name` variables containing the following terms are excluded:\n",
    "<table border=\"0\">\n",
    "    <tr>\n",
    "        <td>race and sex adjusted</td>\n",
    "    </tr>\n",
    "</table>"
   ]
  },
  {
   "cell_type": "code",
   "execution_count": null,
   "id": "1f9ad5fb",
   "metadata": {},
   "outputs": [],
   "source": [
    "sex_history_terms = ['sex', 'sex history', 'sexual', 'sexually', 'intercourse', \n",
    "                     'coitus', 'copulation', 'pareunia', 'futunio', 'venery']\n",
    "sex_remove = ['sex', 'sex of participant']\n",
    "terms_to_filter = ['race and sex adjusted']"
   ]
  },
  {
   "cell_type": "code",
   "execution_count": null,
   "id": "6678fa86",
   "metadata": {},
   "outputs": [],
   "source": [
    "sex_stig_vars, ex_sex_vars = check_simplified_name(sex_history_terms, multiindex, exclude_vars=sex_remove)"
   ]
  },
  {
   "cell_type": "code",
   "execution_count": null,
   "id": "a9089d05",
   "metadata": {},
   "outputs": [],
   "source": [
    "final_sex_vars = regex_filter_out(sex_stig_vars, terms_to_filter)"
   ]
  },
  {
   "cell_type": "code",
   "execution_count": null,
   "id": "82dd97c0",
   "metadata": {},
   "outputs": [],
   "source": [
    "print(\"Total number of sex vars\", len(sex_stig_vars))\n",
    "print(\"After filtering\", len(final_sex_vars))"
   ]
  },
  {
   "cell_type": "markdown",
   "id": "076e7346",
   "metadata": {},
   "source": [
    "#### Sexually transmitted disease diagnosis/history/treatment filtering\n",
    "The following terms are used to filter out variables related to sexually transmitted disease:\n",
    "\n",
    "<table border=\"0\">\n",
    "    <tr>\n",
    "        <td>chlamydia</td>\n",
    "        <td>genital</td>\n",
    "    </tr>\n",
    "    <tr>\n",
    "        <td>herpes</td>\n",
    "        <td>gonorrhea</td>\n",
    "    </tr>\n",
    "    <tr>\n",
    "        <td>HIV</td>\n",
    "        <td>AIDS</td>\n",
    "    </tr>\n",
    "    <tr>\n",
    "        <td>pubic lice</td>\n",
    "        <td>syphilis</td>\n",
    "    </tr>\n",
    "    <tr>\n",
    "        <td>trichomoniasis</td>\n",
    "        <td>vagina</td>\n",
    "    </tr>\n",
    "    <tr>\n",
    "        <td>progesterone</td>\n",
    "        <td>estrogen</td>\n",
    "    </tr>\n",
    "</table>\n",
    "\n",
    "`simplified_name` variables containing the following terms are excluded:\n",
    "<table border=\"0\">\n",
    "    <tr>\n",
    "        <td>hives</td>\n",
    "        <td>health aids</td>\n",
    "    </tr>\n",
    "    <tr>\n",
    "        <td>nsaids</td>\n",
    "        <td>herpes zoster</td>\n",
    "    </tr>\n",
    "    <tr>\n",
    "        <td>chlamydia pneumoniae</td>\n",
    "        <td>heart disease</td>\n",
    "    </tr>\n",
    "    <tr>\n",
    "        <td>walking aid</td>\n",
    "        <td>archive</td>\n",
    "    </tr>\n",
    "    <tr>\n",
    "        <td>shiver</td>\n",
    "    </tr>\n",
    "</table>"
   ]
  },
  {
   "cell_type": "code",
   "execution_count": null,
   "id": "98fbfa93",
   "metadata": {},
   "outputs": [],
   "source": [
    "sex_disease_terms = ['chlamydia', 'genital', 'herpes', 'gonorrhea', 'hiv', \n",
    "                     'aids', 'hpv', 'pubic lice', 'syphilis', 'trichomoniasis', \n",
    "                     'estrogen', 'vagina', 'progesterone', \"venereal\", \"penis\", \n",
    "                     \"vagina\", \"antiviral\"]\n",
    "terms_to_filter = ['hives', 'health aids', 'nsaids', 'herpes zoster', 'chlamydia pneumoniae', \n",
    "                   'heart disease', 'walking aid', 'archive', 'shiver']"
   ]
  },
  {
   "cell_type": "code",
   "execution_count": null,
   "id": "fc2e46c0",
   "metadata": {},
   "outputs": [],
   "source": [
    "sex_disease_stig_vars, ex_sex_disease_vars = check_simplified_name(sex_disease_terms, multiindex)"
   ]
  },
  {
   "cell_type": "code",
   "execution_count": null,
   "id": "f0bcf3d6",
   "metadata": {},
   "outputs": [],
   "source": [
    "final_sex_disease_vars = regex_filter_out(sex_disease_stig_vars, terms_to_filter)"
   ]
  },
  {
   "cell_type": "code",
   "execution_count": null,
   "id": "ee800f8a",
   "metadata": {},
   "outputs": [],
   "source": [
    "print(\"Total number of sex disease vars\", len(sex_disease_stig_vars))\n",
    "print(\"After filtering\", len(final_sex_disease_vars))"
   ]
  },
  {
   "cell_type": "markdown",
   "id": "be7b33cd",
   "metadata": {},
   "source": [
    "#### Mental health diagnoses/history/treatment filtering\n",
    "The following terms are used to filter out variables related to mental health:\n",
    "\n",
    "<table border=\"0\">\n",
    "    <tr>\n",
    "        <td>depression</td>\n",
    "        <td>depressive</td>\n",
    "    </tr>\n",
    "    <tr>\n",
    "        <td>anxiety</td>\n",
    "        <td>panic</td>\n",
    "    </tr>\n",
    "    <tr>\n",
    "        <td>phobia</td>\n",
    "        <td>schizophrenia</td>\n",
    "    </tr>\n",
    "    <tr>\n",
    "        <td>mental</td>\n",
    "        <td>mental health</td>\n",
    "    </tr>\n",
    "    <tr>\n",
    "        <td>psycho</td>\n",
    "        <td>psychological</td>\n",
    "    </tr>\n",
    "    <tr>\n",
    "        <td>emotional health</td>\n",
    "        <td></td>\n",
    "    </tr>\n",
    "</table>\n",
    "\n",
    "`simplified_name` variables containing the following terms are excluded:\n",
    "<table border=\"0\">\n",
    "    <tr>\n",
    "        <td>hispanic</td>\n",
    "        <td>electrocardiograph</td>\n",
    "    </tr>\n",
    "    <tr>\n",
    "        <td>minn code</td>\n",
    "        <td>minnesota code</td>\n",
    "    </tr>\n",
    "    <tr>\n",
    "        <td>ecg</td>\n",
    "        <td>environmental</td>\n",
    "    </tr>\n",
    "    <tr>\n",
    "        <td>instrumental</td>\n",
    "        <td>mini-mental state exam</td>\n",
    "    </tr>\n",
    "    <tr><td>supplemental</td><td></td></tr>\n",
    "</table>"
   ]
  },
  {
   "cell_type": "code",
   "execution_count": null,
   "id": "4ba7b024",
   "metadata": {},
   "outputs": [],
   "source": [
    "mental_health_terms = ['depression', 'depressive', 'anxiety', 'panic', 'phobias', 'schizophrenia',\n",
    "                       'mental', 'mental health', 'psycho', 'psychological', 'emotional health']\n",
    "terms_to_filter = ['hispanic', 'electrocardiograph', 'minn code', 'minnesota code', \n",
    "                   'ecg', 'environmental', 'instrumental', 'supplemental', 'mini-mental state exam']"
   ]
  },
  {
   "cell_type": "code",
   "execution_count": null,
   "id": "95cc3bde",
   "metadata": {},
   "outputs": [],
   "source": [
    "mental_health_stig_vars, ex_mental_health_vars = check_simplified_name(mental_health_terms, multiindex)"
   ]
  },
  {
   "cell_type": "code",
   "execution_count": null,
   "id": "a9cccb8a",
   "metadata": {},
   "outputs": [],
   "source": [
    "final_mental_health_vars = regex_filter_out(mental_health_stig_vars, terms_to_filter)"
   ]
  },
  {
   "cell_type": "code",
   "execution_count": null,
   "id": "8efefe8e",
   "metadata": {},
   "outputs": [],
   "source": [
    "print(\"Total number of mental health vars\", len(mental_health_stig_vars))\n",
    "print(\"After filtering\", len(final_mental_health_vars))"
   ]
  },
  {
   "cell_type": "markdown",
   "id": "eeba46ad",
   "metadata": {},
   "source": [
    "#### Illicit drug use history filtering\n",
    "The following terms are used to filter out variables related to illicit drug use:\n",
    "\n",
    "<table border=\"0\">\n",
    "    <tr>\n",
    "        <td>illicit</td>\n",
    "        <td>street drug</td>\n",
    "        <td>rohypnol</td>\n",
    "    </tr>\n",
    "    <tr>\n",
    "        <td>abuse</td>\n",
    "        <td>illegal</td>\n",
    "        <td>roofies</td>\n",
    "    </tr>\n",
    "    <tr>\n",
    "        <td>fentanyl</td>\n",
    "        <td>cocaine</td>\n",
    "        <td>ketamine hydrochloride</td>\n",
    "    </tr>\n",
    "    <tr>\n",
    "        <td>ecstasy</td>\n",
    "        <td>LSD</td>\n",
    "        <td>psilocybin</td>\n",
    "    </tr>\n",
    "    <tr>\n",
    "        <td>methamphetamine</td>\n",
    "        <td>heroin</td>\n",
    "        <td>mushroom</td>\n",
    "    </tr>\n",
    "    <tr>\n",
    "        <td>phencyclidine</td>\n",
    "        <td>angel dust</td>\n",
    "        <td>krokodil</td>\n",
    "    </tr>\n",
    "    <tr>\n",
    "        <td>mushroom</td>\n",
    "        <td>salvia</td>\n",
    "        <td>bath salts</td>\n",
    "    </tr>\n",
    "    <tr>\n",
    "        <td>flakka</td>\n",
    "        <td>ayahuasca</td>\n",
    "        <td>DMT</td>\n",
    "    </tr>\n",
    "    <tr>\n",
    "        <td>central nervous system depressant</td>\n",
    "        <td>hallucinogen</td>\n",
    "        <td>inhalant</td>\n",
    "    </tr>\n",
    "    <tr>\n",
    "        <td>khat</td>\n",
    "        <td>kratom</td>\n",
    "        <td>mescaline</td>\n",
    "    </tr>\n",
    "    <tr>\n",
    "        <td>loperamide</td>\n",
    "        <td>dextromethorphan</td>\n",
    "        <td>opioid</td>\n",
    "    </tr>\n",
    "    <tr>\n",
    "        <td>stimulant</td>\n",
    "        <td>cannabinoid</td>\n",
    "        <td>gamma hydroxybutyrate</td>\n",
    "    </tr>\n",
    "</table>\n",
    "\n",
    "`simplified_name` variables containing the following terms are excluded:\n",
    "<table border=\"0\">\n",
    "    <tr>\n",
    "        <td>coffee or tea</td>\n",
    "    </tr>\n",
    "</table>"
   ]
  },
  {
   "cell_type": "code",
   "execution_count": null,
   "id": "45c16218",
   "metadata": {},
   "outputs": [],
   "source": [
    "illicit_drug_terms = ['illicit', 'street drug', 'abuse', 'illegal', 'fentanyl', \n",
    "                      'cocaine', 'ecstasy', 'lsd', 'methamphetamine', 'heroin', \n",
    "                      'phencyclidine', 'angel dust', 'rohypnol', 'roofies', \n",
    "                      'ketamine hydrochloride', 'psilocybin', 'mushroom', 'krokodil', \n",
    "                      'marijuana', 'salvia','bath salts', 'flakka', 'ayahuasca', 'dmt', \n",
    "                      'central nervous system depressant', 'hallucinogen', 'inhalant', 'khat', \n",
    "                      'kratom', 'mescaline', 'loperamide', 'dextromethorphan','opioid', \n",
    "                      'stimulant', 'cannabinoid', 'gamma hydroxybutyrate', 'depressants']\n",
    "terms_to_filter = ['coffee or tea']"
   ]
  },
  {
   "cell_type": "code",
   "execution_count": null,
   "id": "9369feba",
   "metadata": {},
   "outputs": [],
   "source": [
    "illicit_drug_stig_vars, ex_illicit_drug_vars = check_simplified_name(illicit_drug_terms, multiindex)"
   ]
  },
  {
   "cell_type": "code",
   "execution_count": null,
   "id": "65ad519a",
   "metadata": {},
   "outputs": [],
   "source": [
    "final_illicit_drug_vars = regex_filter_out(illicit_drug_stig_vars, terms_to_filter)"
   ]
  },
  {
   "cell_type": "code",
   "execution_count": null,
   "id": "bb102b3d",
   "metadata": {},
   "outputs": [],
   "source": [
    "print(\"Total number of illicit drug vars\", len(illicit_drug_stig_vars))\n",
    "print(\"After filtering\", len(final_illicit_drug_vars))"
   ]
  },
  {
   "cell_type": "markdown",
   "id": "c16636aa",
   "metadata": {},
   "source": [
    "#### Intellectual achievement/ability/educational attainment filtering\n",
    "The following terms are used to filter out variables related to intellectual achievement:\n",
    "(Note from Rui: no genetics IQ outcomes)\n",
    "\n",
    "<table border=\"0\">\n",
    "    <tr>\n",
    "        <td>bachelor</td>\n",
    "        <td>master</td>\n",
    "    </tr>\n",
    "    <tr>\n",
    "        <td>phd</td>\n",
    "        <td>quotient</td>\n",
    "    </tr>\n",
    "    <tr>\n",
    "        <td>intellectual</td>\n",
    "        <td>intelligence</td>\n",
    "    </tr>\n",
    "    <tr>\n",
    "        <td>acheivement</td>\n",
    "        <td>disability</td>\n",
    "    </tr>\n",
    "    <tr>\n",
    "        <td>ability</td>\n",
    "        <td>attainment</td>\n",
    "    </tr>\n",
    "    <tr>\n",
    "        <td>education</td>\n",
    "        <td>genetic iq</td>\n",
    "    </tr>\n",
    "    <tr>\n",
    "        <td>school</td>\n",
    "        <td></td>\n",
    "    </tr>\n",
    "</table>\n",
    "\n",
    "`simplified_name` variables containing the following terms are excluded:\n",
    "<table border=\"0\">\n",
    "    <tr>\n",
    "        <td>change in ability to</td>\n",
    "        <td>how ability to</td>\n",
    "    </tr>\n",
    "    <tr>\n",
    "        <td>ability to</td>\n",
    "        <td>variability</td>\n",
    "    </tr>\n",
    "    <tr>\n",
    "        <td>gradability</td>\n",
    "        <td>reliability</td>\n",
    "    </tr>\n",
    "    <tr>\n",
    "        <td>acceptability</td>\n",
    "        <td>irritability</td>\n",
    "    </tr>\n",
    "    <tr>\n",
    "        <td>leg ability</td>\n",
    "        <td>physical ability</td>\n",
    "    </tr>\n",
    "</table>"
   ]
  },
  {
   "cell_type": "code",
   "execution_count": null,
   "id": "848f7462",
   "metadata": {},
   "outputs": [],
   "source": [
    "intell_ability_terms = ['bachelor', 'master', 'phd', 'quotient', 'intellectual', 'intelligence',\n",
    "                        'achievement', 'disability', 'ability', 'attainment', 'education', 'genetic iq', 'school']\n",
    "terms_to_filter = ['change in ability to', 'how ability to', 'ability to', \n",
    "                   'variability', 'gradability', 'reliability', 'acceptability', \n",
    "                   'irritability', 'leg ability', 'physical ability']"
   ]
  },
  {
   "cell_type": "code",
   "execution_count": null,
   "id": "4465882a",
   "metadata": {},
   "outputs": [],
   "source": [
    "intell_ability_stig_vars, ex_intell_ability_vars = check_simplified_name(intell_ability_terms, multiindex)"
   ]
  },
  {
   "cell_type": "code",
   "execution_count": null,
   "id": "567aa92d",
   "metadata": {},
   "outputs": [],
   "source": [
    "final_intell_ability_vars = regex_filter_out(intell_ability_stig_vars, terms_to_filter)"
   ]
  },
  {
   "cell_type": "code",
   "execution_count": null,
   "id": "3dfb656e",
   "metadata": {},
   "outputs": [],
   "source": [
    "print(\"Total number of intellectual vars\", len(intell_ability_stig_vars))\n",
    "print(\"After filtering\", len(final_intell_ability_vars))"
   ]
  },
  {
   "cell_type": "markdown",
   "id": "4c3abd38",
   "metadata": {},
   "source": [
    "#### Direct or surrogate identifiers of legal status filtering\n",
    "The following terms are used to filter out variables related to legal status:\n",
    "\n",
    "<table border=\"0\">\n",
    "    <tr>\n",
    "        <td>villainage</td>\n",
    "        <td>villeinage</td>\n",
    "    </tr>\n",
    "    <tr>\n",
    "        <td>citizenship</td>\n",
    "        <td>marital</td>\n",
    "    </tr>\n",
    "    <tr>\n",
    "        <td>married</td>\n",
    "        <td>unmarried</td>\n",
    "    </tr>\n",
    "    <tr>\n",
    "        <td>single</td>\n",
    "        <td>divorces</td>\n",
    "    </tr>\n",
    "    <tr>\n",
    "        <td>widowed</td>\n",
    "        <td>minority</td>\n",
    "    </tr>\n",
    "    <tr>\n",
    "        <td>nonage</td>\n",
    "        <td>marriage</td>\n",
    "    </tr>\n",
    "    <tr>\n",
    "        <td>matrimony</td>\n",
    "        <td>spousal</td>\n",
    "    </tr>\n",
    "    <tr>\n",
    "        <td>civil union</td>\n",
    "        <td>wedlock</td>\n",
    "    </tr>\n",
    "    <tr>\n",
    "        <td>bachelorhood</td>\n",
    "        <td>spinsterhood</td>\n",
    "    </tr>\n",
    "    <tr>\n",
    "        <td>widowhood</td>\n",
    "        <td>ethnicity</td>\n",
    "    </tr>\n",
    "    <tr>\n",
    "        <td>nationality</td>\n",
    "        <td>race</td>\n",
    "    </tr>\n",
    "    <tr>\n",
    "        <td>death</td>\n",
    "        <td>identifier</td>\n",
    "    </tr>\n",
    "    <tr>\n",
    "        <td>identity</td>\n",
    "        <td>surrogate</td>\n",
    "    </tr>\n",
    "    <tr>\n",
    "        <td>legal status</td>\n",
    "        <td></td>\n",
    "    </tr>\n",
    "</table>\n",
    "\n",
    "`simplified_name` variables containing the following terms are excluded:\n",
    "<table border=\"0\">\n",
    "    <tr>\n",
    "        <td>single tennis</td>\n",
    "        <td>single ventricular</td>\n",
    "    </tr>\n",
    "    <tr>\n",
    "        <td>single nodule</td>\n",
    "        <td>urinalysis: albumin</td>\n",
    "    </tr>\n",
    "    <tr>\n",
    "        <td>brace</td>\n",
    "        <td>contraceptive</td>\n",
    "    </tr>\n",
    "    <tr>\n",
    "        <td>race and sex adjusted</td>\n",
    "        <td>single sup</td>\n",
    "    </tr>\n",
    "</table>"
   ]
  },
  {
   "cell_type": "code",
   "execution_count": null,
   "id": "42010bba",
   "metadata": {},
   "outputs": [],
   "source": [
    "legal_status_terms = ['villainage', 'villeinage', 'citizenship', 'marital', \n",
    "                      'married', 'unmarried', 'single', 'divorced', 'widowed', \n",
    "                      'minority', 'nonage', 'marriage', 'matrimony', 'spousal',  \n",
    "                      'civil union', 'wedlock', 'bachelorhood', 'spinsterhood',\n",
    "                      'widowhood', 'ethnicity', 'nationality', 'race', 'death', \n",
    "                      'identifier', 'identity', 'surrogate', 'legal status']\n",
    "#legal_status_remove = ['subject identifier']\n",
    "terms_to_filter = ['single tennis', 'single ventricular', 'single nodule', \n",
    "                   'urinalysis: albumin', 'brace', 'contraceptive', \n",
    "                   'race and sex adjusted', 'single sup']"
   ]
  },
  {
   "cell_type": "code",
   "execution_count": null,
   "id": "f1a948de",
   "metadata": {},
   "outputs": [],
   "source": [
    "legal_status_stig_vars, ex_legal_status_vars = check_simplified_name(legal_status_terms, multiindex)"
   ]
  },
  {
   "cell_type": "code",
   "execution_count": null,
   "id": "3b955819",
   "metadata": {},
   "outputs": [],
   "source": [
    "final_legal_status_vars = regex_filter_out(legal_status_stig_vars, terms_to_filter)"
   ]
  },
  {
   "cell_type": "code",
   "execution_count": null,
   "id": "4e2c4206",
   "metadata": {},
   "outputs": [],
   "source": [
    "print(\"Total number of legal status vars\", len(legal_status_stig_vars))\n",
    "print(\"After filtering\", len(final_legal_status_vars))"
   ]
  },
  {
   "cell_type": "markdown",
   "id": "7b7ff226",
   "metadata": {},
   "source": [
    "### Manual review of potentially stigmatizing variables"
   ]
  },
  {
   "cell_type": "markdown",
   "id": "657ac294",
   "metadata": {},
   "source": [
    "`manual_check` provides an interactive way to record whether filtered variables are indeed stigmatizing. It uses the list of stigmatizing variables and also takes an optional argument `ex_vars` that provides a manual review of the excluded terms. A dataframe of the stigmatizing variables with recorded responses and (if applicable) a dataframe of excluded variables and recorded responses are returned.\n",
    "\n",
    "To use this function, simply call it on the list of filtered variables (and excluded variables if needed) and follow the interactive instructions."
   ]
  },
  {
   "cell_type": "code",
   "execution_count": null,
   "id": "a027a578",
   "metadata": {
    "scrolled": true
   },
   "outputs": [],
   "source": [
    "sex_stigs, ex_sex_stigs = manual_check(final_sex_vars)"
   ]
  },
  {
   "cell_type": "code",
   "execution_count": null,
   "id": "07a04f42",
   "metadata": {
    "scrolled": true
   },
   "outputs": [],
   "source": [
    "sex_disease_stigs, ex_sex_disease_stigs = manual_check(final_sex_disease_vars)"
   ]
  },
  {
   "cell_type": "code",
   "execution_count": null,
   "id": "a2108a53",
   "metadata": {
    "scrolled": true
   },
   "outputs": [],
   "source": [
    "mental_health_stigs, ex_mental_health_stigs = manual_check(final_mental_health_vars)"
   ]
  },
  {
   "cell_type": "code",
   "execution_count": null,
   "id": "26e9f539",
   "metadata": {},
   "outputs": [],
   "source": [
    "illicit_drug_stigs, ex_illicit_drug_stigs = manual_check(final_illicit_drug_vars)"
   ]
  },
  {
   "cell_type": "code",
   "execution_count": null,
   "id": "094258a2",
   "metadata": {},
   "outputs": [],
   "source": [
    "intell_ability_drug_stigs, ex_intell_ability_stigs = manual_check(final_intell_ability_vars)"
   ]
  },
  {
   "cell_type": "code",
   "execution_count": null,
   "id": "a6d7db0e",
   "metadata": {},
   "outputs": [],
   "source": [
    "legal_status_stigs, ex_legal_status_stigs = manual_check(final_legal_status_vars)"
   ]
  },
  {
   "cell_type": "code",
   "execution_count": null,
   "id": "8c237f9d",
   "metadata": {},
   "outputs": [],
   "source": [
    "### Export potentially stigmatizing variables"
   ]
  },
  {
   "cell_type": "code",
   "execution_count": null,
   "id": "0da8d9e6",
   "metadata": {},
   "outputs": [],
   "source": [
    "sex_stigs.to_csv(\"sexual_health_stig_vars.tsv\", sep='\\t')"
   ]
  },
  {
   "cell_type": "code",
   "execution_count": null,
   "id": "f9b445e5",
   "metadata": {},
   "outputs": [],
   "source": [
    "sex_disease_stigs.to_csv(\"sexual_disease_stig_vars.tsv\", sep='\\t')"
   ]
  },
  {
   "cell_type": "code",
   "execution_count": null,
   "id": "1a0a1fb8",
   "metadata": {},
   "outputs": [],
   "source": [
    "mental_health_stigs.to_csv(\"mental_health_stig_vars.tsv\", sep='\\t')"
   ]
  },
  {
   "cell_type": "code",
   "execution_count": null,
   "id": "341dfdfd",
   "metadata": {},
   "outputs": [],
   "source": [
    "illicit_drug_stigs.to_csv(\"illicit_drug_stig_vars.tsv\", sep='\\t')"
   ]
  },
  {
   "cell_type": "code",
   "execution_count": null,
   "id": "bdbafd9e",
   "metadata": {},
   "outputs": [],
   "source": [
    "intell_ability_drug_stigs.to_csv(\"intell_ability_stig_vars.tsv\", sep='\\t')"
   ]
  },
  {
   "cell_type": "code",
   "execution_count": null,
   "id": "49ea0643",
   "metadata": {},
   "outputs": [],
   "source": [
    "legal_status_stigs.to_csv(\"legal_status_stig_vars.tsv\", sep='\\t')"
   ]
  },
  {
   "cell_type": "code",
   "execution_count": null,
   "id": "1f436eb0",
   "metadata": {},
   "outputs": [],
   "source": []
  }
 ],
 "metadata": {
  "kernelspec": {
   "display_name": "conda_python3",
   "language": "python",
   "name": "conda_python3"
  },
  "language_info": {
   "codemirror_mode": {
    "name": "ipython",
    "version": 3
   },
   "file_extension": ".py",
   "mimetype": "text/x-python",
   "name": "python",
   "nbconvert_exporter": "python",
   "pygments_lexer": "ipython3",
   "version": "3.6.13"
  }
 },
 "nbformat": 4,
 "nbformat_minor": 5
}
