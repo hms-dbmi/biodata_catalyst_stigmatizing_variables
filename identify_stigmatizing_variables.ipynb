{
 "cells": [
  {
   "cell_type": "markdown",
   "id": "547206ba",
   "metadata": {},
   "source": [
    "# BioData Catalyst Powered by PIC-SURE: Identify stigmatizing variables\n",
    "\n",
    "The purpose of this notebook is to identify stigmatizing variables in [BioData Catalyst Powered by PIC-SURE](https://picsure.biodatacatalyst.nhlbi.nih.gov/). Specifically, stigmatizing variables will be identified in PIC-SURE Authorized Access and removed for PIC-SURE Open Access.\n",
    "\n",
    "For more information about stigmatizing variables, please view the [README.md](https://github.com/hms-dbmi/biodata_catalyst_stigmatizing_variables#biodata_catalyst_stigmatizing_variables)."
   ]
  },
  {
   "cell_type": "markdown",
   "id": "6396e1c5",
   "metadata": {},
   "source": [
    "### Install packages"
   ]
  },
  {
   "cell_type": "code",
   "execution_count": null,
   "id": "a9a5e848",
   "metadata": {},
   "outputs": [],
   "source": [
    "import pandas as pd\n",
    "import matplotlib.pyplot as plt\n",
    "import numpy as np\n",
    "import re\n",
    "from collections import Counter\n",
    "from pprint import pprint\n",
    "import json"
   ]
  },
  {
   "cell_type": "code",
   "execution_count": null,
   "id": "37324a8d",
   "metadata": {
    "scrolled": true
   },
   "outputs": [],
   "source": [
    "import sys\n",
    "!{sys.executable} -m pip install --upgrade --force-reinstall git+https://github.com/hms-dbmi/pic-sure-python-client.git\n",
    "!{sys.executable} -m pip install --upgrade --force-reinstall git+https://github.com/hms-dbmi/pic-sure-python-adapter-hpds.git\n",
    "!{sys.executable} -m pip install --upgrade --force-reinstall git+https://github.com/hms-dbmi/pic-sure-biodatacatalyst-python-adapter-hpds.git"
   ]
  },
  {
   "cell_type": "code",
   "execution_count": null,
   "id": "f8e355f9",
   "metadata": {},
   "outputs": [],
   "source": [
    "import PicSureClient\n",
    "import PicSureBdcAdapter\n",
    "from python_lib.utils import get_multiIndex_variablesDict, joining_variablesDict_onCol\n",
    "from python_lib.stig_utils import check_simplified_name, regex_filter_out, manual_check, go_through_df"
   ]
  },
  {
   "cell_type": "markdown",
   "id": "be3ba189",
   "metadata": {},
   "source": [
    "### Connect to PIC-SURE"
   ]
  },
  {
   "cell_type": "code",
   "execution_count": null,
   "id": "c8de7863",
   "metadata": {},
   "outputs": [],
   "source": [
    "PICSURE_network_URL = \"https://picsure.biodatacatalyst.nhlbi.nih.gov/picsure\"\n",
    "resource_id = \"02e23f52-f354-4e8b-992c-d37c8b9ba140\" # Be sure to use Authorized Access resource ID\n",
    "token_file = \"token.txt\" # Be sure to use developer token to get all variables"
   ]
  },
  {
   "cell_type": "code",
   "execution_count": null,
   "id": "7decbf8c",
   "metadata": {},
   "outputs": [],
   "source": [
    "with open(token_file, \"r\") as f:\n",
    "    my_token = f.read()"
   ]
  },
  {
   "cell_type": "code",
   "execution_count": null,
   "id": "0c02f988",
   "metadata": {},
   "outputs": [],
   "source": [
    "client = PicSureClient.Client()\n",
    "connection = client.connect(PICSURE_network_URL, my_token, True)\n",
    "adapter = PicSureBdcAdapter.Adapter(connection)\n",
    "resource = adapter.useResource(resource_id)"
   ]
  },
  {
   "cell_type": "markdown",
   "id": "4bf68f92",
   "metadata": {},
   "source": [
    "### Save all variables in PIC-SURE Authorized Access to DataFrame"
   ]
  },
  {
   "cell_type": "code",
   "execution_count": null,
   "id": "73e661dc",
   "metadata": {},
   "outputs": [],
   "source": [
    "fullVariableDict = resource.dictionary().find().DataFrame()\n",
    "#fullVariableDict\n",
    "multiindex = get_multiIndex_variablesDict(fullVariableDict)"
   ]
  },
  {
   "cell_type": "code",
   "execution_count": null,
   "id": "8537d68a",
   "metadata": {},
   "outputs": [],
   "source": [
    "multiindex # potentially explore categoryValues"
   ]
  },
  {
   "cell_type": "markdown",
   "id": "f4ff065a",
   "metadata": {},
   "source": [
    "### Identify stigmatizing variables using `simplified_name`\n",
    "\n",
    "There are two functions to identify stigmatizing variables: `check_simplified_name` and `regex_filter_out`. "
   ]
  },
  {
   "cell_type": "markdown",
   "id": "ad870aab",
   "metadata": {},
   "source": [
    "`check_simplified_name` selects all variables from the `multiindex` dataframe where the `simplified_name` contains any of the terms in the given list. It also takes an optional argument `exclude_vars` that removes variable with specified `simplified_name` variables.\n",
    "\n",
    "For example, \n",
    "\n",
    "`check_simplified_name(['bio', 'data', 'catalyst'], multiindex, ['biology variable'])`\n",
    "\n",
    "would find all variables where the `simplified_name` contains 'bio', 'data', and/or 'catalyst' but excludes `simplified_name`s equal to 'biology variable' (ignoring capitalization)."
   ]
  },
  {
   "cell_type": "markdown",
   "id": "9911568a",
   "metadata": {},
   "source": [
    "`regex_filter_out` uses the list of potentially stigmatizing variables and filters out any `simplified_name` variables containing the given list of terms. Unlike `check_simplified_name` where excluded variables must match the `simplified_name` completely, this function excludes the variable if the term is *contained* by the `simplified_name`. \n",
    "\n",
    "For example,\n",
    "\n",
    "`regex_filter_out(['biodata catalyst', 'terra', 'heliobacter pylori'], ['ter'])`\n",
    "\n",
    "would exclude all variables containing '*ter*'. In this case, '*ter*ra' and 'heliobac*ter* pylori' would be removed."
   ]
  },
  {
   "cell_type": "markdown",
   "id": "6b370de3",
   "metadata": {},
   "source": [
    "| Function | Arguments / Input | Output|\n",
    "|--------|-------------------|-------|\n",
    "| check_simplified_name() | (1) list of search terms, (2) multiindex dataframe, (3) optional: variables to exclude | (1) list of potentially stigmatizing variables, (2) variables excluded using provided criteria|\n",
    "| regex_filter_out() | (1) list of stigmatizing variables, (2) list of terms to filter | list of stigmatizing variables that do not contain any of terms to filter |"
   ]
  },
  {
   "cell_type": "markdown",
   "id": "7047724c",
   "metadata": {},
   "source": [
    "#### Sex history filtering\n",
    "The following terms are used to filter out sex history variables:\n",
    "- sex\n",
    "- sex history\n",
    "- sexual\n",
    "- sexually\n",
    "- intercourse\n",
    "- coitus\n",
    "- copulation\n",
    "- pareunia\n",
    "- futunio\n",
    "- venery"
   ]
  },
  {
   "cell_type": "code",
   "execution_count": null,
   "id": "917c9e32",
   "metadata": {},
   "outputs": [],
   "source": [
    "sex_history_terms = ['sex', 'sex history', 'sexual', 'sexually', 'intercourse', \n",
    "                     'coitus', 'copulation', 'pareunia', 'futunio', 'venery']\n",
    "sex_remove = ['sex', 'sex of participant']\n",
    "terms_to_filter = ['race and sex adjusted']"
   ]
  },
  {
   "cell_type": "code",
   "execution_count": null,
   "id": "6a892dd9",
   "metadata": {},
   "outputs": [],
   "source": [
    "sex_stig_vars, ex_sex_vars = check_simplified_name(sex_history_terms, multiindex, exclude_vars=sex_remove)"
   ]
  },
  {
   "cell_type": "code",
   "execution_count": null,
   "id": "bd312528",
   "metadata": {},
   "outputs": [],
   "source": [
    "final_sex_vars = regex_filter_out(sex_stig_vars, terms_to_filter)"
   ]
  },
  {
   "cell_type": "code",
   "execution_count": null,
   "id": "733aa6b7",
   "metadata": {},
   "outputs": [],
   "source": [
    "print(len(sex_stig_vars))\n",
    "print(len(final_sex_vars))"
   ]
  },
  {
   "cell_type": "markdown",
   "id": "89a5cbfb",
   "metadata": {},
   "source": [
    "#### Sexually transmitted disease diagnosis/history/treatment filtering\n",
    "The following terms are used to filter out variables related to sexually transmitted disease:\n",
    "- chlamydia\n",
    "- genital\n",
    "- herpes\n",
    "- gonorrhea\n",
    "- HIV\n",
    "- AIDS\n",
    "- HPV\n",
    "- pubic lice\n",
    "- syphilis\n",
    "- trichomoniasis\n",
    "- estrogens\n",
    "- vagina\n",
    "- progesterone\n",
    "\n",
    "Should estrogen and progesterone be on here?"
   ]
  },
  {
   "cell_type": "code",
   "execution_count": null,
   "id": "ce00e690",
   "metadata": {},
   "outputs": [],
   "source": [
    "sex_disease_terms = ['chlamydia', 'genital', 'herpes', 'gonorrhea', 'hiv', \n",
    "                     'aids', 'hpv', 'pubic lice', 'syphilis', 'trichomoniasis', \n",
    "                     'estrogens', 'vagina', 'progesterone', \"venereal\", \"penis\", \n",
    "                     \"vagina\", \"antiviral\"]\n",
    "terms_to_filter = ['hives', 'health aids', 'nsaids', 'herpes zoster', 'chlamydia pneumoniae', 'heart disease']"
   ]
  },
  {
   "cell_type": "code",
   "execution_count": null,
   "id": "2b3597f2",
   "metadata": {},
   "outputs": [],
   "source": [
    "sex_disease_stig_vars, ex_sex_disease_vars = check_simplified_name(sex_disease_terms, multiindex)"
   ]
  },
  {
   "cell_type": "code",
   "execution_count": null,
   "id": "6040c8cf",
   "metadata": {},
   "outputs": [],
   "source": [
    "final_sex_disease_vars = regex_filter_out(sex_disease_stig_vars, terms_to_filter)"
   ]
  },
  {
   "cell_type": "code",
   "execution_count": null,
   "id": "2304192e",
   "metadata": {},
   "outputs": [],
   "source": [
    "print(len(sex_disease_stig_vars))\n",
    "print(len(final_sex_disease_vars))"
   ]
  },
  {
   "cell_type": "markdown",
   "id": "d745f560",
   "metadata": {},
   "source": [
    "#### Mental health diagnoses/history/treatment filtering\n",
    "The following terms are used to filter out variables related to mental health:\n",
    "- depression\n",
    "- depressive\n",
    "- anxiety\n",
    "- panic\n",
    "- phobia\n",
    "- schizophrenia\n",
    "- mental (and NOT supplemental/instrumental/environmental etc)\n",
    "- mental health\n",
    "- psycho\n",
    "- psychological\n",
    "- emotional health"
   ]
  },
  {
   "cell_type": "code",
   "execution_count": null,
   "id": "34c03114",
   "metadata": {},
   "outputs": [],
   "source": [
    "mental_health_terms = ['depression', 'depressive', 'anxiety', 'panic', 'phobias', 'schizophrenia',\n",
    "                       'mental', 'mental health', 'psycho', 'psychological', 'emotional health']\n",
    "terms_to_filter = ['hispanic', 'electrocardiograph', 'minn code', 'minnesota code', \n",
    "                   'ecg', 'environmental', 'instrumental', 'mini-mental state exam']"
   ]
  },
  {
   "cell_type": "code",
   "execution_count": null,
   "id": "8fc98dbd",
   "metadata": {},
   "outputs": [],
   "source": [
    "mental_health_stig_vars, ex_mental_health_vars = check_simplified_name(mental_health_terms, multiindex)"
   ]
  },
  {
   "cell_type": "code",
   "execution_count": null,
   "id": "6acf5a4e",
   "metadata": {},
   "outputs": [],
   "source": [
    "final_mental_health_vars = regex_filter_out(mental_health_stig_vars, terms_to_filter)"
   ]
  },
  {
   "cell_type": "code",
   "execution_count": null,
   "id": "cc206872",
   "metadata": {},
   "outputs": [],
   "source": [
    "print(len(mental_health_stig_vars))\n",
    "print(len(final_mental_health_vars))"
   ]
  },
  {
   "cell_type": "markdown",
   "id": "c5a44e4f",
   "metadata": {},
   "source": [
    "#### Illicit drug use history filtering\n",
    "The following terms are used to filter out variables related to illicit drug use:\n",
    "- illicit\n",
    "- street drug\n",
    "- abuse\n",
    "- illegal\n",
    "- fentanyl\n",
    "- cocaine\n",
    "- ecstasy\n",
    "- LSD\n",
    "- methamphetamine\n",
    "- heroin\n",
    "- phencyclidine\n",
    "- angel dust\n",
    "- rohypnol\n",
    "- roofies\n",
    "- ketamine hydrochloride\n",
    "- psilocybin\n",
    "- mushroom\n",
    "- krokodil\n",
    "- marijuana\n",
    "- salvia\n",
    "- bath salts\n",
    "- flakka\n",
    "- ayahuasca\n",
    "- DMT\n",
    "- central nervous system depressant\n",
    "- hallucinogen\n",
    "- inhalant\n",
    "- khat\n",
    "- kratom\n",
    "- mescaline\n",
    "- loperamide\n",
    "- dextromethorphan\n",
    "- opioid\n",
    "- stimulant\n",
    "- cannabinoid\n",
    "- gamma hydroxybutyrate\n",
    "- alcohol\n",
    "- steroid\n",
    "- tobacco\n",
    "- nicotine"
   ]
  },
  {
   "cell_type": "code",
   "execution_count": null,
   "id": "406be5ad",
   "metadata": {},
   "outputs": [],
   "source": [
    "illicit_drug_terms = ['illicit', 'street drug', 'abuse', 'illegal', 'fentanyl', \n",
    "                      'cocaine', 'ecstasy', 'lsd', 'methamphetamine', 'heroin', \n",
    "                      'phencyclidine', 'angel dust', 'rohypnol', 'roofies', \n",
    "                      'ketamine hydrochloride', 'psilocybin', 'mushroom', 'krokodil', \n",
    "                      'marijuana', 'salvia','bath salts', 'flakka', 'ayahuasca', 'dmt', \n",
    "                      'central nervous system depressant', 'hallucinogen', 'inhalant', 'khat', \n",
    "                      'kratom', 'mescaline', 'loperamide', 'dextromethorphan','opioid', \n",
    "                      'stimulant', 'cannabinoid', 'gamma hydroxybutyrate', 'depressants']#, \n",
    "                      #'alcohol', 'steroid', 'tobacco', 'nicotine']\n",
    "terms_to_filter = ['coffee or tea']"
   ]
  },
  {
   "cell_type": "code",
   "execution_count": null,
   "id": "6417ab5d",
   "metadata": {},
   "outputs": [],
   "source": [
    "illicit_drug_stig_vars, ex_illicit_drug_vars = check_simplified_name(illicit_drug_terms, multiindex)"
   ]
  },
  {
   "cell_type": "code",
   "execution_count": null,
   "id": "abf14ae7",
   "metadata": {},
   "outputs": [],
   "source": [
    "final_illicit_drug_vars = regex_filter_out(illicit_drug_stig_vars, terms_to_filter)"
   ]
  },
  {
   "cell_type": "code",
   "execution_count": null,
   "id": "385be9e8",
   "metadata": {},
   "outputs": [],
   "source": [
    "print(len(illicit_drug_stig_vars))\n",
    "print(len(final_illicit_drug_vars))"
   ]
  },
  {
   "cell_type": "markdown",
   "id": "c4e9b713",
   "metadata": {},
   "source": [
    "#### Intellectual achievement/ability/educational attainment filtering\n",
    "The following terms are used to filter out variables related to intellectual achievement:\n",
    "(Note from Rui: no genetics IQ outcomes)\n",
    "- bachelor\n",
    "- master\n",
    "- phd\n",
    "- quotient\n",
    "- intellectual\n",
    "- intelligence\n",
    "- achievement\n",
    "- disability\n",
    "- ability - maybe\n",
    "- attainment\n",
    "- education\n",
    "- genetic iq\n",
    "- school"
   ]
  },
  {
   "cell_type": "code",
   "execution_count": null,
   "id": "576f9b73",
   "metadata": {},
   "outputs": [],
   "source": [
    "intell_ability_terms = ['bachelor', 'master', 'phd', 'quotient', 'intellectual', 'intelligence',\n",
    "                        'achievement', 'disability', 'ability', 'attainment', 'education', 'genetic iq', 'school']\n",
    "terms_to_filter = ['change in ability to', 'how ability to', 'ability to', \n",
    "                   'variability', 'gradability', 'reliability', 'acceptability', \n",
    "                   'irritability', 'leg ability', 'physical ability']"
   ]
  },
  {
   "cell_type": "code",
   "execution_count": null,
   "id": "9e4dd6f6",
   "metadata": {},
   "outputs": [],
   "source": [
    "intell_ability_stig_vars, ex_intell_ability_vars = check_simplified_name(intell_ability_terms, multiindex)"
   ]
  },
  {
   "cell_type": "code",
   "execution_count": null,
   "id": "a9a4ed81",
   "metadata": {},
   "outputs": [],
   "source": [
    "final_intell_ability_vars = regex_filter_out(intell_ability_stig_vars, terms_to_filter)"
   ]
  },
  {
   "cell_type": "code",
   "execution_count": null,
   "id": "6c9b7a43",
   "metadata": {},
   "outputs": [],
   "source": [
    "print(len(intell_ability_stig_vars))\n",
    "print(len(final_intell_ability_vars))"
   ]
  },
  {
   "cell_type": "code",
   "execution_count": null,
   "id": "c0baaae7",
   "metadata": {},
   "outputs": [],
   "source": [
    "final_intell_ability_vars"
   ]
  },
  {
   "cell_type": "markdown",
   "id": "360d68bd",
   "metadata": {},
   "source": [
    "#### Direct or surrogate identifiers of legal status filtering\n",
    "The following terms are used to filter out variables related to legal status:\n",
    "- villainage\n",
    "- villeinage\n",
    "- citizenship\n",
    "- marital\n",
    "- married\n",
    "- unmarried\n",
    "- single\n",
    "- divorced\n",
    "- widowed\n",
    "- minority\n",
    "- nonage\n",
    "- marriage\n",
    "- matrimony\n",
    "- spousal\n",
    "- civil union\n",
    "- wedlock\n",
    "- bachelorhood\n",
    "- spinsterhood\n",
    "- widowhood\n",
    "- ethnicity\n",
    "- nationality\n",
    "- race\n",
    "- death"
   ]
  },
  {
   "cell_type": "code",
   "execution_count": null,
   "id": "596f1b0b",
   "metadata": {},
   "outputs": [],
   "source": [
    "legal_status_terms = ['villainage', 'villeinage', 'citizenship', 'marital', \n",
    "                      'married', 'unmarried', 'single', 'divorced', 'widowed', \n",
    "                      'minority', 'nonage', 'marriage', 'matrimony', 'spousal',  \n",
    "                      'civil union', 'wedlock', 'bachelorhood', 'spinsterhood',\n",
    "                      'widowhood', 'ethnicity', 'nationality', 'race', 'death', \n",
    "                      'identifier', 'identity', 'surrogate', 'legal status']#, \n",
    "                      #'ethnicity', 'race', 'nationality', 'death']\n",
    "#legal_status_remove = ['subject identifier']\n",
    "terms_to_filter = ['single tennis', 'single ventricular', 'single nodule', \n",
    "                   'urinalysis: albumin', 'brace', 'contraceptive', \n",
    "                   'race and sex adjusted', 'single sup']"
   ]
  },
  {
   "cell_type": "code",
   "execution_count": null,
   "id": "56297a6d",
   "metadata": {},
   "outputs": [],
   "source": [
    "legal_status_stig_vars, ex_legal_status_vars = check_simplified_name(legal_status_terms, multiindex)"
   ]
  },
  {
   "cell_type": "code",
   "execution_count": null,
   "id": "4197eacf",
   "metadata": {},
   "outputs": [],
   "source": [
    "final_legal_status_vars = regex_filter_out(legal_status_stig_vars, terms_to_filter)"
   ]
  },
  {
   "cell_type": "code",
   "execution_count": null,
   "id": "1888f0aa",
   "metadata": {},
   "outputs": [],
   "source": [
    "print(len(legal_status_stig_vars))\n",
    "print(len(final_legal_status_vars))"
   ]
  },
  {
   "cell_type": "markdown",
   "id": "1ba477ec",
   "metadata": {},
   "source": [
    "### Manual review of potentially stigmatizing variables"
   ]
  },
  {
   "cell_type": "code",
   "execution_count": null,
   "id": "46c5d208",
   "metadata": {},
   "outputs": [],
   "source": [
    "test_list = [\"\\\\Women's Health Initiative Clinical Trial and Observational Study ( phs000200 )\\\\The subject sample mapping data table includes a mapping of subject IDs to sample IDs. Included are samples from WHI SHARe, GO-ESP, GARNET, CARe, PAGE, Imputation, WHIMS+, and BA23 CHD. Samples are the final preps submitted for genotyping, sequencing, or expression data. For example, if one patient (subject ID) gave one sample, and that sample was processed differently to generate 2 sequencing runs, there would be two rows, both using the same subject ID, but having 2 unique sample IDs. The data table also includes a mapping of sample IDs to other sample ID aliases, the substudy (phs accession) that the sample belongs to, and sample use.\\\\Sample use. Array_DNA_Methylation: Genome-wide DNA methylation profiling using methylation arrays, quantitative methylation measurements at the single-CpG-site level; Array_SNP: SNP genotypes obtained using standard or custom microarrays; Array_miRNA_Expression: Expression data for microRNA samples (array data); Imputation_SNP: Imputed SNP genotypes; PCR_DNA_SNP: SNP genotypes obtained using PCR amplified DNA; Seq_DNA_SNP: SNP genotypes derived from sequence data; Seq_DNA_WholeExome: Whole exome sequencing; Seq_DNA_WholeGenome: Whole genome sequencing\\\\\",\n",
    " \"\\\\Women's Health Initiative Clinical Trial and Observational Study ( phs000200 )\\\\UNC Heart Failure Details (Main, Ext1, Ext2)\\\\F136 Thoracentesis\\\\\"]\n",
    "test_ex = ['\\\\NHLBI Cleveland Family Study (CFS) Candidate Gene Association Resource (CARe) ( phs000284 )\\\\CARe_CFS (Cleveland Family Study) - Sleep and Health Phenotype (Adults/Children)\\\\Cause of death 1\\\\',\n",
    " '\\\\NHLBI Cleveland Family Study (CFS) Candidate Gene Association Resource (CARe) ( phs000284 )\\\\CARe_CFS (Cleveland Family Study) - Sleep and Health Phenotype (Adults/Children)\\\\Cause of death 2\\\\']"
   ]
  },
  {
   "cell_type": "code",
   "execution_count": null,
   "id": "2f42d833",
   "metadata": {},
   "outputs": [],
   "source": [
    "stigs, exs = manual_check(test_list)#, test_ex)"
   ]
  },
  {
   "cell_type": "code",
   "execution_count": null,
   "id": "1237b089",
   "metadata": {},
   "outputs": [],
   "source": [
    "stigs"
   ]
  },
  {
   "cell_type": "markdown",
   "id": "6c3f19b2",
   "metadata": {},
   "source": [
    "### Export potentially stigmatizing variables"
   ]
  },
  {
   "cell_type": "code",
   "execution_count": null,
   "id": "390d5dd1",
   "metadata": {},
   "outputs": [],
   "source": [
    "def final_export(sex, sex_disease, mental_disease, illicit_drug, intell_ability, legal_status):\n",
    "    labels = {'***SEX STIG VARS***': sex, '***SEX DISEASE STIG VARS***': sex_disease, \n",
    "              '***MENTAL STIG VARS***': mental_disease, '***ILLICIT DRUG STIG VARS***': illicit_drug, \n",
    "              '***INTELL ABILITY STIG VARS***': illicit_drug, '***LEGAL STATUS STIG VARS***': legal_status}\n",
    "    final = []\n",
    "    for i in labels:\n",
    "        final.append(i)\n",
    "        for j in labels[i]:\n",
    "            if j not in final:\n",
    "                final.append(j)\n",
    "    pd.DataFrame(final).to_csv(\"stig_vars.tsv\", sep='\\t')\n",
    "    return(\"Finished.\")"
   ]
  },
  {
   "cell_type": "code",
   "execution_count": null,
   "id": "1514a491",
   "metadata": {},
   "outputs": [],
   "source": [
    "final_export(sex_stig_vars, sex_disease_stig_vars, mental_disease_stig_vars, \n",
    "             illicit_drug_stig_vars, intell_ability_stig_vars, legal_status_stig_vars)"
   ]
  },
  {
   "cell_type": "code",
   "execution_count": null,
   "id": "4b48c5f8",
   "metadata": {},
   "outputs": [],
   "source": [
    "test[67]"
   ]
  },
  {
   "cell_type": "code",
   "execution_count": null,
   "id": "277a3d5e",
   "metadata": {},
   "outputs": [],
   "source": [
    "sex_stig_vars[67]"
   ]
  },
  {
   "cell_type": "code",
   "execution_count": null,
   "id": "ee09ac7d",
   "metadata": {},
   "outputs": [],
   "source": []
  }
 ],
 "metadata": {
  "kernelspec": {
   "display_name": "conda_python3",
   "language": "python",
   "name": "conda_python3"
  },
  "language_info": {
   "codemirror_mode": {
    "name": "ipython",
    "version": 3
   },
   "file_extension": ".py",
   "mimetype": "text/x-python",
   "name": "python",
   "nbconvert_exporter": "python",
   "pygments_lexer": "ipython3",
   "version": "3.6.13"
  }
 },
 "nbformat": 4,
 "nbformat_minor": 5
}
