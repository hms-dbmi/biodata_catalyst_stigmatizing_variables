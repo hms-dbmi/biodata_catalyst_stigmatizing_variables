{
 "cells": [
  {
   "cell_type": "markdown",
   "id": "b6f3ec9a",
   "metadata": {},
   "source": [
    "# BioData Catalyst Powered by PIC-SURE: Identify stigmatizing variables\n",
    "\n",
    "The purpose of this notebook is to identify stigmatizing variables in [BioData Catalyst Powered by PIC-SURE](https://picsure.biodatacatalyst.nhlbi.nih.gov/). Specifically, stigmatizing variables will be identified in PIC-SURE Authorized Access and removed for PIC-SURE Open Access.\n",
    "\n",
    "For more information about stigmatizing variables, please view the [README.md](https://github.com/hms-dbmi/biodata_catalyst_stigmatizing_variables#biodata_catalyst_stigmatizing_variables)."
   ]
  },
  {
   "cell_type": "markdown",
   "id": "065ed7de",
   "metadata": {},
   "source": [
    "### Prerequisites\n",
    "This notebook assumes knowledge of the BioData Catalyst Powered by PIC-SURE platform and API. For more information about the API, please visit the Access to Data using PIC-SURE GitHub repository.\n",
    "\n",
    "Developer login credentials or access to all data in PIC-SURE Authorized Access is also required. "
   ]
  },
  {
   "cell_type": "markdown",
   "id": "410fa72c",
   "metadata": {},
   "source": [
    "### Install packages"
   ]
  },
  {
   "cell_type": "code",
   "execution_count": 1,
   "id": "46e33de2",
   "metadata": {},
   "outputs": [],
   "source": [
    "import pandas as pd\n",
    "import matplotlib.pyplot as plt\n",
    "import numpy as np\n",
    "import re\n",
    "from collections import Counter\n",
    "from pprint import pprint\n",
    "import json"
   ]
  },
  {
   "cell_type": "code",
   "execution_count": 2,
   "id": "cf06568b",
   "metadata": {
    "scrolled": true
   },
   "outputs": [
    {
     "name": "stdout",
     "output_type": "stream",
     "text": [
      "Collecting git+https://github.com/hms-dbmi/pic-sure-python-client.git\n",
      "  Cloning https://github.com/hms-dbmi/pic-sure-python-client.git to /tmp/pip-req-build-_6vfn49q\n",
      "  Running command git clone -q https://github.com/hms-dbmi/pic-sure-python-client.git /tmp/pip-req-build-_6vfn49q\n",
      "Building wheels for collected packages: PicSureClient\n",
      "  Building wheel for PicSureClient (setup.py) ... \u001b[?25ldone\n",
      "\u001b[?25h  Created wheel for PicSureClient: filename=PicSureClient-0.1.0-py2.py3-none-any.whl size=10300 sha256=dbb4eeb5f25a501f2c3b837382000cf6298dda957007c009514e95eaaa10c126\n",
      "  Stored in directory: /tmp/pip-ephem-wheel-cache-zi_umuz1/wheels/31/ef/21/e362bba8de04e0072fafec9f77bd1abdf7e166213d27e98729\n",
      "Successfully built PicSureClient\n",
      "Installing collected packages: PicSureClient\n",
      "Successfully installed PicSureClient-0.1.0\n",
      "Collecting git+https://github.com/hms-dbmi/pic-sure-python-adapter-hpds.git\n",
      "  Cloning https://github.com/hms-dbmi/pic-sure-python-adapter-hpds.git to /tmp/pip-req-build-rn1ldc9x\n",
      "  Running command git clone -q https://github.com/hms-dbmi/pic-sure-python-adapter-hpds.git /tmp/pip-req-build-rn1ldc9x\n",
      "Collecting httplib2\n",
      "  Downloading httplib2-0.19.1-py3-none-any.whl (95 kB)\n",
      "\u001b[K     |████████████████████████████████| 95 kB 893 kB/s  eta 0:00:01\n",
      "\u001b[?25hCollecting pyparsing<3,>=2.4.2\n",
      "  Downloading pyparsing-2.4.7-py2.py3-none-any.whl (67 kB)\n",
      "\u001b[K     |████████████████████████████████| 67 kB 6.5 MB/s  eta 0:00:01\n",
      "\u001b[?25hBuilding wheels for collected packages: PicSureHpdsLib\n",
      "  Building wheel for PicSureHpdsLib (setup.py) ... \u001b[?25ldone\n",
      "\u001b[?25h  Created wheel for PicSureHpdsLib: filename=PicSureHpdsLib-0.9.0-py2.py3-none-any.whl size=22051 sha256=7adebede45b8434bf1a1281e5d9547aa5e37122ae6f1c9271522c68f7ebd1bfe\n",
      "  Stored in directory: /tmp/pip-ephem-wheel-cache-mog8o77f/wheels/ae/d9/1a/c8c0ac8151b575c845efddc061fe014d86c51d1fd2c408907c\n",
      "Successfully built PicSureHpdsLib\n",
      "Installing collected packages: pyparsing, httplib2, PicSureHpdsLib\n",
      "  Attempting uninstall: pyparsing\n",
      "    Found existing installation: pyparsing 2.4.7\n",
      "    Uninstalling pyparsing-2.4.7:\n",
      "      Successfully uninstalled pyparsing-2.4.7\n",
      "Successfully installed PicSureHpdsLib-0.9.0 httplib2-0.19.1 pyparsing-2.4.7\n",
      "Collecting git+https://github.com/hms-dbmi/pic-sure-biodatacatalyst-python-adapter-hpds.git\n",
      "  Cloning https://github.com/hms-dbmi/pic-sure-biodatacatalyst-python-adapter-hpds.git to /tmp/pip-req-build-pp2o_73a\n",
      "  Running command git clone -q https://github.com/hms-dbmi/pic-sure-biodatacatalyst-python-adapter-hpds.git /tmp/pip-req-build-pp2o_73a\n",
      "Collecting httplib2\n",
      "  Using cached httplib2-0.19.1-py3-none-any.whl (95 kB)\n",
      "Collecting pyparsing<3,>=2.4.2\n",
      "  Using cached pyparsing-2.4.7-py2.py3-none-any.whl (67 kB)\n",
      "Building wheels for collected packages: PicSureBdcAdapter\n",
      "  Building wheel for PicSureBdcAdapter (setup.py) ... \u001b[?25ldone\n",
      "\u001b[?25h  Created wheel for PicSureBdcAdapter: filename=PicSureBdcAdapter-1.0.0-py3-none-any.whl size=8605 sha256=974e8ce7283d967331402458608cb9d670d256a672552fde1d6a6b3c4e70e424\n",
      "  Stored in directory: /tmp/pip-ephem-wheel-cache-yidc8ae4/wheels/20/c3/f6/72bb8b68322e9bb56152181e827c51c09df269e5f84ed7311b\n",
      "Successfully built PicSureBdcAdapter\n",
      "Installing collected packages: pyparsing, httplib2, PicSureBdcAdapter\n",
      "  Attempting uninstall: pyparsing\n",
      "    Found existing installation: pyparsing 2.4.7\n",
      "    Uninstalling pyparsing-2.4.7:\n",
      "      Successfully uninstalled pyparsing-2.4.7\n",
      "  Attempting uninstall: httplib2\n",
      "    Found existing installation: httplib2 0.19.1\n",
      "    Uninstalling httplib2-0.19.1:\n",
      "      Successfully uninstalled httplib2-0.19.1\n",
      "Successfully installed PicSureBdcAdapter-1.0.0 httplib2-0.19.1 pyparsing-2.4.7\n"
     ]
    }
   ],
   "source": [
    "import sys\n",
    "!{sys.executable} -m pip install --upgrade --force-reinstall git+https://github.com/hms-dbmi/pic-sure-python-client.git\n",
    "!{sys.executable} -m pip install --upgrade --force-reinstall git+https://github.com/hms-dbmi/pic-sure-python-adapter-hpds.git\n",
    "!{sys.executable} -m pip install --upgrade --force-reinstall git+https://github.com/hms-dbmi/pic-sure-biodatacatalyst-python-adapter-hpds.git"
   ]
  },
  {
   "cell_type": "code",
   "execution_count": 3,
   "id": "3b0172a0",
   "metadata": {},
   "outputs": [],
   "source": [
    "import PicSureClient\n",
    "import PicSureBdcAdapter\n",
    "from python_lib.utils import get_multiIndex_variablesDict, joining_variablesDict_onCol\n",
    "from python_lib.stig_utils import check_simplified_name, regex_filter_out, manual_check"
   ]
  },
  {
   "cell_type": "markdown",
   "id": "02e6e82b",
   "metadata": {},
   "source": [
    "### Connect to PIC-SURE"
   ]
  },
  {
   "cell_type": "code",
   "execution_count": 7,
   "id": "153f9024",
   "metadata": {},
   "outputs": [],
   "source": [
    "PICSURE_network_URL = \"https://picsure.biodatacatalyst.nhlbi.nih.gov/picsure\"\n",
    "resource_id = \"02e23f52-f354-4e8b-992c-d37c8b9ba140\" # Be sure to use Authorized Access resource ID\n",
    "token_file = \"token.txt\" # Be sure to use developer token to get all variables"
   ]
  },
  {
   "cell_type": "code",
   "execution_count": 8,
   "id": "55390dc9",
   "metadata": {},
   "outputs": [],
   "source": [
    "with open(token_file, \"r\") as f:\n",
    "    my_token = f.read()"
   ]
  },
  {
   "cell_type": "code",
   "execution_count": 9,
   "id": "16ab8314",
   "metadata": {},
   "outputs": [
    {
     "name": "stdout",
     "output_type": "stream",
     "text": [
      "\u001b[38;5;91;40m\n",
      "\n",
      "+=========================================================================================+\n",
      "|        [ WARNING ] you are specifying that you WANT to allow self-signed SSL            |\n",
      "|        certificates to be acceptable for connections.  This may be useful for           |\n",
      "|        working in a development environment or on systems that host public              |\n",
      "|        data.  BEST SECURITY PRACTICES ARE THAT IF YOU ARE WORKING WITH SENSITIVE        |\n",
      "|        DATA THEN ALL SSL CERTS BY THOSE EVIRONMENTS SHOULD NOT BE SELF-SIGNED.          |\n",
      "+=========================================================================================+\n",
      "\u001b[39;49m\n",
      "+--------------------------------------+------------------------------------------------------+\n",
      "|  Resource UUID                       |  Resource Name                                       |\n",
      "+--------------------------------------+------------------------------------------------------+\n",
      "| 02e23f52-f354-4e8b-992c-d37c8b9ba140 |                                                      |\n",
      "| 70c837be-5ffc-11eb-ae93-0242ac130002 |                                                      |\n",
      "+--------------------------------------+------------------------------------------------------+\n"
     ]
    }
   ],
   "source": [
    "client = PicSureClient.Client()\n",
    "connection = client.connect(PICSURE_network_URL, my_token, True)\n",
    "adapter = PicSureBdcAdapter.Adapter(connection)\n",
    "resource = adapter.useResource(resource_id)"
   ]
  },
  {
   "cell_type": "markdown",
   "id": "2379a553",
   "metadata": {},
   "source": [
    "### Save all variables in PIC-SURE Authorized Access to DataFrame"
   ]
  },
  {
   "cell_type": "code",
   "execution_count": 10,
   "id": "abcd7051",
   "metadata": {},
   "outputs": [],
   "source": [
    "fullVariableDict = resource.dictionary().find().DataFrame()\n",
    "#fullVariableDict\n",
    "multiindex = get_multiIndex_variablesDict(fullVariableDict)"
   ]
  },
  {
   "cell_type": "code",
   "execution_count": null,
   "id": "a73c4fbf",
   "metadata": {},
   "outputs": [],
   "source": [
    "multiindex # potentially explore categoryValues"
   ]
  },
  {
   "cell_type": "markdown",
   "id": "28155cae",
   "metadata": {},
   "source": [
    "### Identify stigmatizing variables using `simplified_name`\n",
    "\n",
    "There are two functions to identify stigmatizing variables: `check_simplified_name` and `regex_filter_out`. "
   ]
  },
  {
   "cell_type": "markdown",
   "id": "5ecf24d5",
   "metadata": {},
   "source": [
    "`check_simplified_name` selects all variables from the `multiindex` dataframe where the `simplified_name` contains any of the terms in the given list. It also takes an optional argument `exclude_vars` that removes variable with specified `simplified_name` variables.\n",
    "\n",
    "For example, \n",
    "\n",
    "`check_simplified_name(['bio', 'data', 'catalyst'], multiindex, ['biology variable'])`\n",
    "\n",
    "would find all variables where the `simplified_name` contains 'bio', 'data', and/or 'catalyst' but excludes `simplified_name`s equal to 'biology variable' (ignoring capitalization)."
   ]
  },
  {
   "cell_type": "markdown",
   "id": "7191c2d2",
   "metadata": {},
   "source": [
    "`regex_filter_out` uses the list of potentially stigmatizing variables and filters out any `simplified_name` variables containing the given list of terms. Unlike `check_simplified_name` where excluded variables must match the `simplified_name` completely, this function excludes the variable if the term is *contained* by the `simplified_name`. \n",
    "\n",
    "For example,\n",
    "\n",
    "`regex_filter_out(['biodata catalyst', 'terra', 'heliobacter pylori'], ['ter'])`\n",
    "\n",
    "would exclude all variables containing '*ter*'. In this case, '*ter*ra' and 'heliobac*ter* pylori' would be removed."
   ]
  },
  {
   "cell_type": "markdown",
   "id": "8f402eb3",
   "metadata": {},
   "source": [
    "| Function | Arguments / Input | Output|\n",
    "|--------|-------------------|-------|\n",
    "| check_simplified_name() | (1) list of search terms, (2) multiindex dataframe, (3) optional: variables to exclude | (1) list of potentially stigmatizing variables, (2) variables excluded using provided criteria|\n",
    "| regex_filter_out() | (1) list of stigmatizing variables, (2) list of terms to filter | list of stigmatizing variables that do not contain any of terms to filter |"
   ]
  },
  {
   "cell_type": "markdown",
   "id": "ea8bb1a3",
   "metadata": {},
   "source": [
    "#### Sex history filtering\n",
    "The following terms are used to filter out sex history variables:\n",
    "\n",
    "<table border=\"0\">\n",
    "    <tr>\n",
    "        <td>sex</td>\n",
    "        <td>sex history</td>\n",
    "    </tr>\n",
    "    <tr>\n",
    "        <td>sexual</td>\n",
    "        <td>sexually</td>\n",
    "    </tr>\n",
    "    <tr>\n",
    "        <td>intercourse</td>\n",
    "        <td>coitus</td>\n",
    "    </tr>\n",
    "    <tr>\n",
    "        <td>copulation</td>\n",
    "        <td>pareunia</td>\n",
    "    </tr>\n",
    "    <tr>\n",
    "        <td>futunio</td>\n",
    "        <td>venery</td>\n",
    "    </tr>\n",
    "</table>\n",
    "\n",
    "The following `simplified_name` variables are excluded:\n",
    "<table border=\"0\">\n",
    "    <tr>\n",
    "        <td>sex</td>\n",
    "    </tr>\n",
    "    <tr>\n",
    "        <td>sex of participant</td>\n",
    "    </tr>\n",
    "</table>\n",
    "\n",
    "`simplified_name` variables containing the following terms are excluded:\n",
    "<table border=\"0\">\n",
    "    <tr>\n",
    "        <td>race and sex adjusted</td>\n",
    "    </tr>\n",
    "</table>"
   ]
  },
  {
   "cell_type": "code",
   "execution_count": 11,
   "id": "77859312",
   "metadata": {},
   "outputs": [],
   "source": [
    "sex_history_terms = ['sex', 'sex history', 'sexual', 'sexually', 'intercourse', \n",
    "                     'coitus', 'copulation', 'pareunia', 'futunio', 'venery']\n",
    "sex_remove = ['sex', 'sex of participant']\n",
    "terms_to_filter = ['race and sex adjusted']"
   ]
  },
  {
   "cell_type": "code",
   "execution_count": 12,
   "id": "d28d6ed4",
   "metadata": {},
   "outputs": [],
   "source": [
    "sex_stig_vars, ex_sex_vars = check_simplified_name(sex_history_terms, multiindex, exclude_vars=sex_remove)"
   ]
  },
  {
   "cell_type": "code",
   "execution_count": 13,
   "id": "5ce95e6a",
   "metadata": {},
   "outputs": [],
   "source": [
    "final_sex_vars = regex_filter_out(sex_stig_vars, terms_to_filter)"
   ]
  },
  {
   "cell_type": "code",
   "execution_count": 14,
   "id": "7bc50d8d",
   "metadata": {},
   "outputs": [
    {
     "name": "stdout",
     "output_type": "stream",
     "text": [
      "Total number of sex vars 35\n",
      "After filtering 33\n"
     ]
    }
   ],
   "source": [
    "print(\"Total number of sex vars\", len(sex_stig_vars))\n",
    "print(\"After filtering\", len(final_sex_vars))"
   ]
  },
  {
   "cell_type": "markdown",
   "id": "c670c6c6",
   "metadata": {},
   "source": [
    "#### Sexually transmitted disease diagnosis/history/treatment filtering\n",
    "The following terms are used to filter out variables related to sexually transmitted disease:\n",
    "\n",
    "<table border=\"0\">\n",
    "    <tr>\n",
    "        <td>chlamydia</td>\n",
    "        <td>genital</td>\n",
    "    </tr>\n",
    "    <tr>\n",
    "        <td>herpes</td>\n",
    "        <td>gonorrhea</td>\n",
    "    </tr>\n",
    "    <tr>\n",
    "        <td>HIV</td>\n",
    "        <td>AIDS</td>\n",
    "    </tr>\n",
    "    <tr>\n",
    "        <td>pubic lice</td>\n",
    "        <td>syphilis</td>\n",
    "    </tr>\n",
    "    <tr>\n",
    "        <td>trichomoniasis</td>\n",
    "        <td>vagina</td>\n",
    "    </tr>\n",
    "    <tr>\n",
    "        <td>progesterone</td>\n",
    "        <td>estrogen</td>\n",
    "    </tr>\n",
    "</table>\n",
    "\n",
    "`simplified_name` variables containing the following terms are excluded:\n",
    "<table border=\"0\">\n",
    "    <tr>\n",
    "        <td>hives</td>\n",
    "        <td>health aids</td>\n",
    "    </tr>\n",
    "    <tr>\n",
    "        <td>nsaids</td>\n",
    "        <td>herpes zoster</td>\n",
    "    </tr>\n",
    "    <tr>\n",
    "        <td>chlamydia pneumoniae</td>\n",
    "        <td>heart disease</td>\n",
    "    </tr>\n",
    "    <tr>\n",
    "        <td>walking aid</td>\n",
    "        <td>archive</td>\n",
    "    </tr>\n",
    "    <tr>\n",
    "        <td>shiver</td>\n",
    "    </tr>\n",
    "</table>"
   ]
  },
  {
   "cell_type": "code",
   "execution_count": null,
   "id": "8a6c683c",
   "metadata": {},
   "outputs": [],
   "source": [
    "sex_disease_terms = ['chlamydia', 'genital', 'herpes', 'gonorrhea', 'hiv', \n",
    "                     'aids', 'hpv', 'pubic lice', 'syphilis', 'trichomoniasis', \n",
    "                     'estrogen', 'vagina', 'progesterone', \"venereal\", \"penis\", \n",
    "                     \"vagina\", \"antiviral\"]\n",
    "terms_to_filter = ['hives', 'health aids', 'nsaids', 'herpes zoster', 'chlamydia pneumoniae', \n",
    "                   'heart disease', 'walking aid', 'archive', 'shiver']"
   ]
  },
  {
   "cell_type": "code",
   "execution_count": null,
   "id": "577f63f5",
   "metadata": {},
   "outputs": [],
   "source": [
    "sex_disease_stig_vars, ex_sex_disease_vars = check_simplified_name(sex_disease_terms, multiindex)"
   ]
  },
  {
   "cell_type": "code",
   "execution_count": null,
   "id": "8241a74f",
   "metadata": {},
   "outputs": [],
   "source": [
    "final_sex_disease_vars = regex_filter_out(sex_disease_stig_vars, terms_to_filter)"
   ]
  },
  {
   "cell_type": "code",
   "execution_count": null,
   "id": "fd101c16",
   "metadata": {},
   "outputs": [],
   "source": [
    "print(\"Total number of sex disease vars\", len(sex_disease_stig_vars))\n",
    "print(\"After filtering\", len(final_sex_disease_vars))"
   ]
  },
  {
   "cell_type": "markdown",
   "id": "c2f8e4ab",
   "metadata": {},
   "source": [
    "#### Mental health diagnoses/history/treatment filtering\n",
    "The following terms are used to filter out variables related to mental health:\n",
    "\n",
    "<table border=\"0\">\n",
    "    <tr>\n",
    "        <td>depression</td>\n",
    "        <td>depressive</td>\n",
    "    </tr>\n",
    "    <tr>\n",
    "        <td>anxiety</td>\n",
    "        <td>panic</td>\n",
    "    </tr>\n",
    "    <tr>\n",
    "        <td>phobia</td>\n",
    "        <td>schizophrenia</td>\n",
    "    </tr>\n",
    "    <tr>\n",
    "        <td>mental</td>\n",
    "        <td>mental health</td>\n",
    "    </tr>\n",
    "    <tr>\n",
    "        <td>psycho</td>\n",
    "        <td>psychological</td>\n",
    "    </tr>\n",
    "    <tr>\n",
    "        <td>emotional health</td>\n",
    "        <td></td>\n",
    "    </tr>\n",
    "</table>\n",
    "\n",
    "`simplified_name` variables containing the following terms are excluded:\n",
    "<table border=\"0\">\n",
    "    <tr>\n",
    "        <td>hispanic</td>\n",
    "        <td>electrocardiograph</td>\n",
    "    </tr>\n",
    "    <tr>\n",
    "        <td>minn code</td>\n",
    "        <td>minnesota code</td>\n",
    "    </tr>\n",
    "    <tr>\n",
    "        <td>ecg</td>\n",
    "        <td>environmental</td>\n",
    "    </tr>\n",
    "    <tr>\n",
    "        <td>instrumental</td>\n",
    "        <td>mini-mental state exam</td>\n",
    "    </tr>\n",
    "    <tr><td>supplemental</td><td></td></tr>\n",
    "</table>"
   ]
  },
  {
   "cell_type": "code",
   "execution_count": null,
   "id": "099e9995",
   "metadata": {},
   "outputs": [],
   "source": [
    "mental_health_terms = ['depression', 'depressive', 'anxiety', 'panic', 'phobias', 'schizophrenia',\n",
    "                       'mental', 'mental health', 'psycho', 'psychological', 'emotional health']\n",
    "terms_to_filter = ['hispanic', 'electrocardiograph', 'minn code', 'minnesota code', \n",
    "                   'ecg', 'environmental', 'instrumental', 'supplemental', 'mini-mental state exam']"
   ]
  },
  {
   "cell_type": "code",
   "execution_count": null,
   "id": "4acd2ecf",
   "metadata": {},
   "outputs": [],
   "source": [
    "mental_health_stig_vars, ex_mental_health_vars = check_simplified_name(mental_health_terms, multiindex)"
   ]
  },
  {
   "cell_type": "code",
   "execution_count": null,
   "id": "4943266d",
   "metadata": {},
   "outputs": [],
   "source": [
    "final_mental_health_vars = regex_filter_out(mental_health_stig_vars, terms_to_filter)"
   ]
  },
  {
   "cell_type": "code",
   "execution_count": null,
   "id": "5274acef",
   "metadata": {},
   "outputs": [],
   "source": [
    "print(\"Total number of mental health vars\", len(mental_health_stig_vars))\n",
    "print(\"After filtering\", len(final_mental_health_vars))"
   ]
  },
  {
   "cell_type": "markdown",
   "id": "e0ebfb2f",
   "metadata": {},
   "source": [
    "#### Illicit drug use history filtering\n",
    "The following terms are used to filter out variables related to illicit drug use:\n",
    "\n",
    "<table border=\"0\">\n",
    "    <tr>\n",
    "        <td>illicit</td>\n",
    "        <td>street drug</td>\n",
    "        <td>rohypnol</td>\n",
    "    </tr>\n",
    "    <tr>\n",
    "        <td>abuse</td>\n",
    "        <td>illegal</td>\n",
    "        <td>roofies</td>\n",
    "    </tr>\n",
    "    <tr>\n",
    "        <td>fentanyl</td>\n",
    "        <td>cocaine</td>\n",
    "        <td>ketamine hydrochloride</td>\n",
    "    </tr>\n",
    "    <tr>\n",
    "        <td>ecstasy</td>\n",
    "        <td>LSD</td>\n",
    "        <td>psilocybin</td>\n",
    "    </tr>\n",
    "    <tr>\n",
    "        <td>methamphetamine</td>\n",
    "        <td>heroin</td>\n",
    "        <td>mushroom</td>\n",
    "    </tr>\n",
    "    <tr>\n",
    "        <td>phencyclidine</td>\n",
    "        <td>angel dust</td>\n",
    "        <td>krokodil</td>\n",
    "    </tr>\n",
    "    <tr>\n",
    "        <td>mushroom</td>\n",
    "        <td>salvia</td>\n",
    "        <td>bath salts</td>\n",
    "    </tr>\n",
    "    <tr>\n",
    "        <td>flakka</td>\n",
    "        <td>ayahuasca</td>\n",
    "        <td>DMT</td>\n",
    "    </tr>\n",
    "    <tr>\n",
    "        <td>central nervous system depressant</td>\n",
    "        <td>hallucinogen</td>\n",
    "        <td>inhalant</td>\n",
    "    </tr>\n",
    "    <tr>\n",
    "        <td>khat</td>\n",
    "        <td>kratom</td>\n",
    "        <td>mescaline</td>\n",
    "    </tr>\n",
    "    <tr>\n",
    "        <td>loperamide</td>\n",
    "        <td>dextromethorphan</td>\n",
    "        <td>opioid</td>\n",
    "    </tr>\n",
    "    <tr>\n",
    "        <td>stimulant</td>\n",
    "        <td>cannabinoid</td>\n",
    "        <td>gamma hydroxybutyrate</td>\n",
    "    </tr>\n",
    "</table>\n",
    "\n",
    "`simplified_name` variables containing the following terms are excluded:\n",
    "<table border=\"0\">\n",
    "    <tr>\n",
    "        <td>coffee or tea</td>\n",
    "    </tr>\n",
    "</table>"
   ]
  },
  {
   "cell_type": "code",
   "execution_count": null,
   "id": "437ca692",
   "metadata": {},
   "outputs": [],
   "source": [
    "illicit_drug_terms = ['illicit', 'street drug', 'abuse', 'illegal', 'fentanyl', \n",
    "                      'cocaine', 'ecstasy', 'lsd', 'methamphetamine', 'heroin', \n",
    "                      'phencyclidine', 'angel dust', 'rohypnol', 'roofies', \n",
    "                      'ketamine hydrochloride', 'psilocybin', 'mushroom', 'krokodil', \n",
    "                      'marijuana', 'salvia','bath salts', 'flakka', 'ayahuasca', 'dmt', \n",
    "                      'central nervous system depressant', 'hallucinogen', 'inhalant', 'khat', \n",
    "                      'kratom', 'mescaline', 'loperamide', 'dextromethorphan','opioid', \n",
    "                      'stimulant', 'cannabinoid', 'gamma hydroxybutyrate', 'depressants']\n",
    "terms_to_filter = ['coffee or tea']"
   ]
  },
  {
   "cell_type": "code",
   "execution_count": null,
   "id": "d6878a52",
   "metadata": {},
   "outputs": [],
   "source": [
    "illicit_drug_stig_vars, ex_illicit_drug_vars = check_simplified_name(illicit_drug_terms, multiindex)"
   ]
  },
  {
   "cell_type": "code",
   "execution_count": null,
   "id": "4464a2a8",
   "metadata": {},
   "outputs": [],
   "source": [
    "final_illicit_drug_vars = regex_filter_out(illicit_drug_stig_vars, terms_to_filter)"
   ]
  },
  {
   "cell_type": "code",
   "execution_count": null,
   "id": "8f2ea918",
   "metadata": {},
   "outputs": [],
   "source": [
    "print(\"Total number of illicit drug vars\", len(illicit_drug_stig_vars))\n",
    "print(\"After filtering\", len(final_illicit_drug_vars))"
   ]
  },
  {
   "cell_type": "markdown",
   "id": "e44c904c",
   "metadata": {},
   "source": [
    "#### Intellectual achievement/ability/educational attainment filtering\n",
    "The following terms are used to filter out variables related to intellectual achievement:\n",
    "(Note from Rui: no genetics IQ outcomes)\n",
    "\n",
    "<table border=\"0\">\n",
    "    <tr>\n",
    "        <td>bachelor</td>\n",
    "        <td>master</td>\n",
    "    </tr>\n",
    "    <tr>\n",
    "        <td>phd</td>\n",
    "        <td>quotient</td>\n",
    "    </tr>\n",
    "    <tr>\n",
    "        <td>intellectual</td>\n",
    "        <td>intelligence</td>\n",
    "    </tr>\n",
    "    <tr>\n",
    "        <td>acheivement</td>\n",
    "        <td>disability</td>\n",
    "    </tr>\n",
    "    <tr>\n",
    "        <td>ability</td>\n",
    "        <td>attainment</td>\n",
    "    </tr>\n",
    "    <tr>\n",
    "        <td>education</td>\n",
    "        <td>genetic iq</td>\n",
    "    </tr>\n",
    "    <tr>\n",
    "        <td>school</td>\n",
    "        <td></td>\n",
    "    </tr>\n",
    "</table>\n",
    "\n",
    "`simplified_name` variables containing the following terms are excluded:\n",
    "<table border=\"0\">\n",
    "    <tr>\n",
    "        <td>change in ability to</td>\n",
    "        <td>how ability to</td>\n",
    "    </tr>\n",
    "    <tr>\n",
    "        <td>ability to</td>\n",
    "        <td>variability</td>\n",
    "    </tr>\n",
    "    <tr>\n",
    "        <td>gradability</td>\n",
    "        <td>reliability</td>\n",
    "    </tr>\n",
    "    <tr>\n",
    "        <td>acceptability</td>\n",
    "        <td>irritability</td>\n",
    "    </tr>\n",
    "    <tr>\n",
    "        <td>leg ability</td>\n",
    "        <td>physical ability</td>\n",
    "    </tr>\n",
    "</table>"
   ]
  },
  {
   "cell_type": "code",
   "execution_count": null,
   "id": "7cd952ac",
   "metadata": {},
   "outputs": [],
   "source": [
    "intell_ability_terms = ['bachelor', 'master', 'phd', 'quotient', 'intellectual', 'intelligence',\n",
    "                        'achievement', 'disability', 'ability', 'attainment', 'education', 'genetic iq', 'school']\n",
    "terms_to_filter = ['change in ability to', 'how ability to', 'ability to', \n",
    "                   'variability', 'gradability', 'reliability', 'acceptability', \n",
    "                   'irritability', 'leg ability', 'physical ability']"
   ]
  },
  {
   "cell_type": "code",
   "execution_count": null,
   "id": "4fb9c52d",
   "metadata": {},
   "outputs": [],
   "source": [
    "intell_ability_stig_vars, ex_intell_ability_vars = check_simplified_name(intell_ability_terms, multiindex)"
   ]
  },
  {
   "cell_type": "code",
   "execution_count": null,
   "id": "6ac72d6a",
   "metadata": {},
   "outputs": [],
   "source": [
    "final_intell_ability_vars = regex_filter_out(intell_ability_stig_vars, terms_to_filter)"
   ]
  },
  {
   "cell_type": "code",
   "execution_count": null,
   "id": "3b84b6e5",
   "metadata": {},
   "outputs": [],
   "source": [
    "print(\"Total number of intellectual vars\", len(intell_ability_stig_vars))\n",
    "print(\"After filtering\", len(final_intell_ability_vars))"
   ]
  },
  {
   "cell_type": "markdown",
   "id": "499f323e",
   "metadata": {},
   "source": [
    "#### Direct or surrogate identifiers of legal status filtering\n",
    "The following terms are used to filter out variables related to legal status:\n",
    "\n",
    "<table border=\"0\">\n",
    "    <tr>\n",
    "        <td>villainage</td>\n",
    "        <td>villeinage</td>\n",
    "    </tr>\n",
    "    <tr>\n",
    "        <td>citizenship</td>\n",
    "        <td>marital</td>\n",
    "    </tr>\n",
    "    <tr>\n",
    "        <td>married</td>\n",
    "        <td>unmarried</td>\n",
    "    </tr>\n",
    "    <tr>\n",
    "        <td>single</td>\n",
    "        <td>divorces</td>\n",
    "    </tr>\n",
    "    <tr>\n",
    "        <td>widowed</td>\n",
    "        <td>minority</td>\n",
    "    </tr>\n",
    "    <tr>\n",
    "        <td>nonage</td>\n",
    "        <td>marriage</td>\n",
    "    </tr>\n",
    "    <tr>\n",
    "        <td>matrimony</td>\n",
    "        <td>spousal</td>\n",
    "    </tr>\n",
    "    <tr>\n",
    "        <td>civil union</td>\n",
    "        <td>wedlock</td>\n",
    "    </tr>\n",
    "    <tr>\n",
    "        <td>bachelorhood</td>\n",
    "        <td>spinsterhood</td>\n",
    "    </tr>\n",
    "    <tr>\n",
    "        <td>widowhood</td>\n",
    "        <td>ethnicity</td>\n",
    "    </tr>\n",
    "    <tr>\n",
    "        <td>nationality</td>\n",
    "        <td>race</td>\n",
    "    </tr>\n",
    "    <tr>\n",
    "        <td>death</td>\n",
    "        <td>identifier</td>\n",
    "    </tr>\n",
    "    <tr>\n",
    "        <td>identity</td>\n",
    "        <td>surrogate</td>\n",
    "    </tr>\n",
    "    <tr>\n",
    "        <td>legal status</td>\n",
    "        <td></td>\n",
    "    </tr>\n",
    "</table>\n",
    "\n",
    "`simplified_name` variables containing the following terms are excluded:\n",
    "<table border=\"0\">\n",
    "    <tr>\n",
    "        <td>single tennis</td>\n",
    "        <td>single ventricular</td>\n",
    "    </tr>\n",
    "    <tr>\n",
    "        <td>single nodule</td>\n",
    "        <td>urinalysis: albumin</td>\n",
    "    </tr>\n",
    "    <tr>\n",
    "        <td>brace</td>\n",
    "        <td>contraceptive</td>\n",
    "    </tr>\n",
    "    <tr>\n",
    "        <td>race and sex adjusted</td>\n",
    "        <td>single sup</td>\n",
    "    </tr>\n",
    "</table>"
   ]
  },
  {
   "cell_type": "code",
   "execution_count": null,
   "id": "01ca8b7b",
   "metadata": {},
   "outputs": [],
   "source": [
    "legal_status_terms = ['villainage', 'villeinage', 'citizenship', 'marital', \n",
    "                      'married', 'unmarried', 'single', 'divorced', 'widowed', \n",
    "                      'minority', 'nonage', 'marriage', 'matrimony', 'spousal',  \n",
    "                      'civil union', 'wedlock', 'bachelorhood', 'spinsterhood',\n",
    "                      'widowhood', 'ethnicity', 'nationality', 'race', 'death', \n",
    "                      'identifier', 'identity', 'surrogate', 'legal status']\n",
    "#legal_status_remove = ['subject identifier']\n",
    "terms_to_filter = ['single tennis', 'single ventricular', 'single nodule', \n",
    "                   'urinalysis: albumin', 'brace', 'contraceptive', \n",
    "                   'race and sex adjusted', 'single sup']"
   ]
  },
  {
   "cell_type": "code",
   "execution_count": null,
   "id": "61249689",
   "metadata": {},
   "outputs": [],
   "source": [
    "legal_status_stig_vars, ex_legal_status_vars = check_simplified_name(legal_status_terms, multiindex)"
   ]
  },
  {
   "cell_type": "code",
   "execution_count": null,
   "id": "0a9a06ab",
   "metadata": {},
   "outputs": [],
   "source": [
    "final_legal_status_vars = regex_filter_out(legal_status_stig_vars, terms_to_filter)"
   ]
  },
  {
   "cell_type": "code",
   "execution_count": null,
   "id": "c24c8ecc",
   "metadata": {},
   "outputs": [],
   "source": [
    "print(\"Total number of legal status vars\", len(legal_status_stig_vars))\n",
    "print(\"After filtering\", len(final_legal_status_vars))"
   ]
  },
  {
   "cell_type": "markdown",
   "id": "cee7cc5a",
   "metadata": {},
   "source": [
    "### Manual review of potentially stigmatizing variables"
   ]
  },
  {
   "cell_type": "markdown",
   "id": "75dbffa3",
   "metadata": {},
   "source": [
    "`manual_check` provides an interactive way to record whether filtered variables are indeed stigmatizing. It uses the list of stigmatizing variables and also takes an optional argument `ex_vars` that provides a manual review of the excluded terms. A dataframe of the stigmatizing variables with recorded responses and (if applicable) a dataframe of excluded variables and recorded responses are returned.\n",
    "\n",
    "To use this function, simply call it on the list of filtered variables (and excluded variables if needed) and follow the interactive instructions."
   ]
  },
  {
   "cell_type": "code",
   "execution_count": 16,
   "id": "679f727d",
   "metadata": {
    "scrolled": true
   },
   "outputs": [
    {
     "name": "stdout",
     "output_type": "stream",
     "text": [
      "Continue to review of 33 variables?\n",
      "y/n: y\n",
      "Is the following variable stigmatizing?  1 of 33\n",
      "\n",
      ">>>> bl_sex <<<<\n",
      "\n",
      "Type \"y\" or \"n\". To display full variable, type \"more\":\n",
      "more\n",
      "\n",
      ">>>> \\COVID19-ORCHID ( phs002299 )\\bl_sex\\ <<<<\n",
      "\n",
      "Type \"y\" or \"n\": \n",
      "n\n",
      "Is the following variable stigmatizing?  2 of 33\n",
      "\n",
      ">>>> d_male_sex <<<<\n",
      "\n",
      "Type \"y\" or \"n\". To display full variable, type \"more\":\n",
      "more\n",
      "\n",
      ">>>> \\COVID19-ORCHID ( phs002299 )\\d_male_sex\\ <<<<\n",
      "\n",
      "Type \"y\" or \"n\": \n",
      "n\n",
      "Is the following variable stigmatizing?  3 of 33\n",
      "\n",
      ">>>> Can you have sexual relations <<<<\n",
      "\n",
      "Type \"y\" or \"n\". To display full variable, type \"more\":\n",
      "more\n",
      "\n",
      ">>>> \\Cardiovascular Health Study (CHS) Cohort: an NHLBI-funded observational study of risk factors for cardiovascular disease in adults 65 years or older ( phs000287 )\\Data contain extensive medical history information, describing general physical and psychological health of participating subjects (all > 65 years of age)\\Can you have sexual relations\\ <<<<\n",
      "\n",
      "Type \"y\" or \"n\": \n",
      "y\n",
      "Is the following variable stigmatizing?  4 of 33\n",
      "\n",
      ">>>> SEXUAL DISORDER <<<<\n",
      "\n",
      "Type \"y\" or \"n\". To display full variable, type \"more\":\n",
      "y\n",
      "Already identified > SEXUAL DISORDER <, recording result 5 of 33\n",
      "Is the following variable stigmatizing?  6 of 33\n",
      "\n",
      ">>>> Subject sex  as recorded by the study. <<<<\n",
      "\n",
      "Type \"y\" or \"n\". To display full variable, type \"more\":\n",
      "back\n",
      "Is the following variable stigmatizing?  5 of 33\n",
      "\n",
      ">>>> SEXUAL DISORDER <<<<\n",
      "\n",
      "Type \"y\" or \"n\". To display full variable, type \"more\":\n",
      "y\n",
      "Is the following variable stigmatizing?  6 of 33\n",
      "\n",
      ">>>> Subject sex  as recorded by the study. <<<<\n",
      "\n"
     ]
    },
    {
     "ename": "KeyboardInterrupt",
     "evalue": "Interrupted by user",
     "output_type": "error",
     "traceback": [
      "\u001b[0;31m---------------------------------------------------------------------------\u001b[0m",
      "\u001b[0;31mKeyboardInterrupt\u001b[0m                         Traceback (most recent call last)",
      "\u001b[0;32m<ipython-input-16-2712bbd071ff>\u001b[0m in \u001b[0;36m<module>\u001b[0;34m\u001b[0m\n\u001b[0;32m----> 1\u001b[0;31m \u001b[0msex_stigs\u001b[0m\u001b[0;34m,\u001b[0m \u001b[0mex_sex_stigs\u001b[0m \u001b[0;34m=\u001b[0m \u001b[0mmanual_check\u001b[0m\u001b[0;34m(\u001b[0m\u001b[0mfinal_sex_vars\u001b[0m\u001b[0;34m)\u001b[0m\u001b[0;34m\u001b[0m\u001b[0;34m\u001b[0m\u001b[0m\n\u001b[0m",
      "\u001b[0;32m~/SageMaker/biodata_catalyst_stigmatizing_variables/python_lib/stig_utils.py\u001b[0m in \u001b[0;36mmanual_check\u001b[0;34m(final_vars, ex_vars)\u001b[0m\n\u001b[1;32m     31\u001b[0m     \u001b[0mstatus\u001b[0m \u001b[0;34m=\u001b[0m \u001b[0minput\u001b[0m\u001b[0;34m(\u001b[0m\u001b[0;34m\"y/n: \"\u001b[0m\u001b[0;34m)\u001b[0m\u001b[0;34m\u001b[0m\u001b[0;34m\u001b[0m\u001b[0m\n\u001b[1;32m     32\u001b[0m     \u001b[0;32mif\u001b[0m \u001b[0mstatus\u001b[0m \u001b[0;34m==\u001b[0m \u001b[0;34m\"y\"\u001b[0m\u001b[0;34m:\u001b[0m\u001b[0;34m\u001b[0m\u001b[0;34m\u001b[0m\u001b[0m\n\u001b[0;32m---> 33\u001b[0;31m         \u001b[0mstig_vars_df\u001b[0m \u001b[0;34m=\u001b[0m \u001b[0mgo_through_df\u001b[0m\u001b[0;34m(\u001b[0m\u001b[0mfinal_vars\u001b[0m\u001b[0;34m)\u001b[0m\u001b[0;34m\u001b[0m\u001b[0;34m\u001b[0m\u001b[0m\n\u001b[0m\u001b[1;32m     34\u001b[0m     \u001b[0;32melse\u001b[0m\u001b[0;34m:\u001b[0m\u001b[0;34m\u001b[0m\u001b[0;34m\u001b[0m\u001b[0m\n\u001b[1;32m     35\u001b[0m         \u001b[0mstig_vars_df\u001b[0m \u001b[0;34m=\u001b[0m \u001b[0;32mNone\u001b[0m\u001b[0;34m\u001b[0m\u001b[0;34m\u001b[0m\u001b[0m\n",
      "\u001b[0;32m~/SageMaker/biodata_catalyst_stigmatizing_variables/python_lib/stig_utils.py\u001b[0m in \u001b[0;36mgo_through_df\u001b[0;34m(var_list)\u001b[0m\n\u001b[1;32m     70\u001b[0m             \u001b[0mdf\u001b[0m\u001b[0;34m[\u001b[0m\u001b[0;34m'simple name'\u001b[0m\u001b[0;34m]\u001b[0m\u001b[0;34m[\u001b[0m\u001b[0mi\u001b[0m\u001b[0;34m-\u001b[0m\u001b[0;36m1\u001b[0m\u001b[0;34m]\u001b[0m \u001b[0;34m=\u001b[0m \u001b[0mresult\u001b[0m\u001b[0;34m[\u001b[0m\u001b[0;36m1\u001b[0m\u001b[0;34m]\u001b[0m\u001b[0;34m\u001b[0m\u001b[0;34m\u001b[0m\u001b[0m\n\u001b[1;32m     71\u001b[0m             \u001b[0mdf\u001b[0m\u001b[0;34m[\u001b[0m\u001b[0;34m'stigmatizing'\u001b[0m\u001b[0;34m]\u001b[0m\u001b[0;34m[\u001b[0m\u001b[0mi\u001b[0m\u001b[0;34m-\u001b[0m\u001b[0;36m1\u001b[0m\u001b[0;34m]\u001b[0m \u001b[0;34m=\u001b[0m \u001b[0mresult\u001b[0m\u001b[0;34m[\u001b[0m\u001b[0;36m0\u001b[0m\u001b[0;34m]\u001b[0m\u001b[0;34m\u001b[0m\u001b[0;34m\u001b[0m\u001b[0m\n\u001b[0;32m---> 72\u001b[0;31m             \u001b[0mresult\u001b[0m \u001b[0;34m=\u001b[0m \u001b[0minfo_loop\u001b[0m\u001b[0;34m(\u001b[0m\u001b[0mi\u001b[0m\u001b[0;34m,\u001b[0m \u001b[0mdf\u001b[0m\u001b[0;34m,\u001b[0m \u001b[0mtotal\u001b[0m\u001b[0;34m)\u001b[0m\u001b[0;34m\u001b[0m\u001b[0;34m\u001b[0m\u001b[0m\n\u001b[0m\u001b[1;32m     73\u001b[0m         \u001b[0mdf\u001b[0m\u001b[0;34m[\u001b[0m\u001b[0;34m'simple name'\u001b[0m\u001b[0;34m]\u001b[0m\u001b[0;34m[\u001b[0m\u001b[0mi\u001b[0m\u001b[0;34m]\u001b[0m \u001b[0;34m=\u001b[0m \u001b[0mresult\u001b[0m\u001b[0;34m[\u001b[0m\u001b[0;36m1\u001b[0m\u001b[0;34m]\u001b[0m\u001b[0;34m\u001b[0m\u001b[0;34m\u001b[0m\u001b[0m\n\u001b[1;32m     74\u001b[0m         \u001b[0mdf\u001b[0m\u001b[0;34m[\u001b[0m\u001b[0;34m'stigmatizing'\u001b[0m\u001b[0;34m]\u001b[0m\u001b[0;34m[\u001b[0m\u001b[0mi\u001b[0m\u001b[0;34m]\u001b[0m \u001b[0;34m=\u001b[0m \u001b[0mresult\u001b[0m\u001b[0;34m[\u001b[0m\u001b[0;36m0\u001b[0m\u001b[0;34m]\u001b[0m\u001b[0;34m\u001b[0m\u001b[0;34m\u001b[0m\u001b[0m\n",
      "\u001b[0;32m~/SageMaker/biodata_catalyst_stigmatizing_variables/python_lib/stig_utils.py\u001b[0m in \u001b[0;36minfo_loop\u001b[0;34m(i, df, total)\u001b[0m\n\u001b[1;32m    104\u001b[0m     \u001b[0msimple_var\u001b[0m \u001b[0;34m=\u001b[0m \u001b[0mdf\u001b[0m\u001b[0;34m[\u001b[0m\u001b[0;34m'full name'\u001b[0m\u001b[0;34m]\u001b[0m\u001b[0;34m[\u001b[0m\u001b[0mi\u001b[0m\u001b[0;34m]\u001b[0m\u001b[0;34m.\u001b[0m\u001b[0mstrip\u001b[0m\u001b[0;34m(\u001b[0m\u001b[0;34m'\\\\'\u001b[0m\u001b[0;34m)\u001b[0m\u001b[0;34m.\u001b[0m\u001b[0msplit\u001b[0m\u001b[0;34m(\u001b[0m\u001b[0;34m'\\\\'\u001b[0m\u001b[0;34m)\u001b[0m\u001b[0;34m[\u001b[0m\u001b[0;34m-\u001b[0m\u001b[0;36m1\u001b[0m\u001b[0;34m]\u001b[0m\u001b[0;34m\u001b[0m\u001b[0;34m\u001b[0m\u001b[0m\n\u001b[1;32m    105\u001b[0m     \u001b[0mprint\u001b[0m\u001b[0;34m(\u001b[0m\u001b[0;34m\"\\n>>>>\"\u001b[0m\u001b[0;34m,\u001b[0m \u001b[0msimple_var\u001b[0m\u001b[0;34m,\u001b[0m \u001b[0;34m\"<<<<\\n\"\u001b[0m\u001b[0;34m)\u001b[0m\u001b[0;34m\u001b[0m\u001b[0;34m\u001b[0m\u001b[0m\n\u001b[0;32m--> 106\u001b[0;31m     \u001b[0mstatus\u001b[0m \u001b[0;34m=\u001b[0m \u001b[0minput\u001b[0m\u001b[0;34m(\u001b[0m\u001b[0;34m'Type \"y\" or \"n\". To display full variable, type \"more\":\\n'\u001b[0m\u001b[0;34m)\u001b[0m\u001b[0;34m\u001b[0m\u001b[0;34m\u001b[0m\u001b[0m\n\u001b[0m\u001b[1;32m    107\u001b[0m     \u001b[0;32mif\u001b[0m \u001b[0mstatus\u001b[0m \u001b[0;34m==\u001b[0m \u001b[0;34m'back'\u001b[0m\u001b[0;34m:\u001b[0m\u001b[0;34m\u001b[0m\u001b[0;34m\u001b[0m\u001b[0m\n\u001b[1;32m    108\u001b[0m         \u001b[0;32mreturn\u001b[0m \u001b[0;34m[\u001b[0m\u001b[0mstatus\u001b[0m\u001b[0;34m]\u001b[0m\u001b[0;34m\u001b[0m\u001b[0;34m\u001b[0m\u001b[0m\n",
      "\u001b[0;32m~/anaconda3/envs/python3/lib/python3.6/site-packages/ipykernel/kernelbase.py\u001b[0m in \u001b[0;36mraw_input\u001b[0;34m(self, prompt)\u001b[0m\n\u001b[1;32m    849\u001b[0m             \u001b[0mself\u001b[0m\u001b[0;34m.\u001b[0m\u001b[0m_parent_ident\u001b[0m\u001b[0;34m,\u001b[0m\u001b[0;34m\u001b[0m\u001b[0;34m\u001b[0m\u001b[0m\n\u001b[1;32m    850\u001b[0m             \u001b[0mself\u001b[0m\u001b[0;34m.\u001b[0m\u001b[0m_parent_header\u001b[0m\u001b[0;34m,\u001b[0m\u001b[0;34m\u001b[0m\u001b[0;34m\u001b[0m\u001b[0m\n\u001b[0;32m--> 851\u001b[0;31m             \u001b[0mpassword\u001b[0m\u001b[0;34m=\u001b[0m\u001b[0;32mFalse\u001b[0m\u001b[0;34m,\u001b[0m\u001b[0;34m\u001b[0m\u001b[0;34m\u001b[0m\u001b[0m\n\u001b[0m\u001b[1;32m    852\u001b[0m         )\n\u001b[1;32m    853\u001b[0m \u001b[0;34m\u001b[0m\u001b[0m\n",
      "\u001b[0;32m~/anaconda3/envs/python3/lib/python3.6/site-packages/ipykernel/kernelbase.py\u001b[0m in \u001b[0;36m_input_request\u001b[0;34m(self, prompt, ident, parent, password)\u001b[0m\n\u001b[1;32m    890\u001b[0m             \u001b[0;32mexcept\u001b[0m \u001b[0mKeyboardInterrupt\u001b[0m\u001b[0;34m:\u001b[0m\u001b[0;34m\u001b[0m\u001b[0;34m\u001b[0m\u001b[0m\n\u001b[1;32m    891\u001b[0m                 \u001b[0;31m# re-raise KeyboardInterrupt, to truncate traceback\u001b[0m\u001b[0;34m\u001b[0m\u001b[0;34m\u001b[0m\u001b[0;34m\u001b[0m\u001b[0m\n\u001b[0;32m--> 892\u001b[0;31m                 \u001b[0;32mraise\u001b[0m \u001b[0mKeyboardInterrupt\u001b[0m\u001b[0;34m(\u001b[0m\u001b[0;34m\"Interrupted by user\"\u001b[0m\u001b[0;34m)\u001b[0m \u001b[0;32mfrom\u001b[0m \u001b[0;32mNone\u001b[0m\u001b[0;34m\u001b[0m\u001b[0;34m\u001b[0m\u001b[0m\n\u001b[0m\u001b[1;32m    893\u001b[0m             \u001b[0;32mexcept\u001b[0m \u001b[0mException\u001b[0m \u001b[0;32mas\u001b[0m \u001b[0me\u001b[0m\u001b[0;34m:\u001b[0m\u001b[0;34m\u001b[0m\u001b[0;34m\u001b[0m\u001b[0m\n\u001b[1;32m    894\u001b[0m                 \u001b[0mself\u001b[0m\u001b[0;34m.\u001b[0m\u001b[0mlog\u001b[0m\u001b[0;34m.\u001b[0m\u001b[0mwarning\u001b[0m\u001b[0;34m(\u001b[0m\u001b[0;34m\"Invalid Message:\"\u001b[0m\u001b[0;34m,\u001b[0m \u001b[0mexc_info\u001b[0m\u001b[0;34m=\u001b[0m\u001b[0;32mTrue\u001b[0m\u001b[0;34m)\u001b[0m\u001b[0;34m\u001b[0m\u001b[0;34m\u001b[0m\u001b[0m\n",
      "\u001b[0;31mKeyboardInterrupt\u001b[0m: Interrupted by user"
     ]
    }
   ],
   "source": [
    "sex_stigs, ex_sex_stigs = manual_check(final_sex_vars)"
   ]
  },
  {
   "cell_type": "code",
   "execution_count": null,
   "id": "4f87647e",
   "metadata": {},
   "outputs": [],
   "source": [
    "sex_stigs.to_csv(\"sexual_health_stig_vars.tsv\", sep='\\t')\n",
    "# Put the saving of the at the end of the function, print where it will be saved\n",
    "# Check if file already exists AT BEGINNING, if yes ask user if they are sure they want to save it there/write file - ask at beginning\n",
    "# output=no or yes"
   ]
  },
  {
   "cell_type": "code",
   "execution_count": null,
   "id": "391941c6",
   "metadata": {
    "scrolled": true
   },
   "outputs": [],
   "source": [
    "sex_disease_stigs, ex_sex_disease_stigs = manual_check(final_sex_disease_vars)"
   ]
  },
  {
   "cell_type": "code",
   "execution_count": null,
   "id": "cc6d13d1",
   "metadata": {
    "scrolled": true
   },
   "outputs": [],
   "source": [
    "mental_health_stigs, ex_mental_health_stigs = manual_check(final_mental_health_vars)"
   ]
  },
  {
   "cell_type": "code",
   "execution_count": null,
   "id": "caf70c6c",
   "metadata": {},
   "outputs": [],
   "source": [
    "illicit_drug_stigs, ex_illicit_drug_stigs = manual_check(final_illicit_drug_vars)"
   ]
  },
  {
   "cell_type": "code",
   "execution_count": null,
   "id": "9d267e7e",
   "metadata": {},
   "outputs": [],
   "source": [
    "intell_ability_drug_stigs, ex_intell_ability_stigs = manual_check(final_intell_ability_vars)"
   ]
  },
  {
   "cell_type": "code",
   "execution_count": null,
   "id": "18090b80",
   "metadata": {},
   "outputs": [],
   "source": [
    "legal_status_stigs, ex_legal_status_stigs = manual_check(final_legal_status_vars)"
   ]
  },
  {
   "cell_type": "markdown",
   "id": "ba9f9c8d",
   "metadata": {},
   "source": [
    "### Export potentially stigmatizing variables"
   ]
  },
  {
   "cell_type": "code",
   "execution_count": null,
   "id": "952a0f7e",
   "metadata": {},
   "outputs": [],
   "source": [
    "sex_disease_stigs.to_csv(\"sexual_disease_stig_vars.tsv\", sep='\\t')"
   ]
  },
  {
   "cell_type": "code",
   "execution_count": null,
   "id": "a9ea77a7",
   "metadata": {},
   "outputs": [],
   "source": [
    "mental_health_stigs.to_csv(\"mental_health_stig_vars.tsv\", sep='\\t')"
   ]
  },
  {
   "cell_type": "code",
   "execution_count": null,
   "id": "6df1d392",
   "metadata": {},
   "outputs": [],
   "source": [
    "illicit_drug_stigs.to_csv(\"illicit_drug_stig_vars.tsv\", sep='\\t')"
   ]
  },
  {
   "cell_type": "code",
   "execution_count": null,
   "id": "39b8c1f8",
   "metadata": {},
   "outputs": [],
   "source": [
    "intell_ability_drug_stigs.to_csv(\"intell_ability_stig_vars.tsv\", sep='\\t')"
   ]
  },
  {
   "cell_type": "code",
   "execution_count": null,
   "id": "6a88f5b0",
   "metadata": {},
   "outputs": [],
   "source": [
    "legal_status_stigs.to_csv(\"legal_status_stig_vars.tsv\", sep='\\t')"
   ]
  },
  {
   "cell_type": "code",
   "execution_count": null,
   "id": "bf19e84c",
   "metadata": {},
   "outputs": [],
   "source": []
  }
 ],
 "metadata": {
  "kernelspec": {
   "display_name": "conda_python3",
   "language": "python",
   "name": "conda_python3"
  },
  "language_info": {
   "codemirror_mode": {
    "name": "ipython",
    "version": 3
   },
   "file_extension": ".py",
   "mimetype": "text/x-python",
   "name": "python",
   "nbconvert_exporter": "python",
   "pygments_lexer": "ipython3",
   "version": "3.6.13"
  }
 },
 "nbformat": 4,
 "nbformat_minor": 5
}
