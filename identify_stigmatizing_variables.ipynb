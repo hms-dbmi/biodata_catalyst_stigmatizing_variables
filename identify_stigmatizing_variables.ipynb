{
 "cells": [
  {
   "cell_type": "markdown",
   "id": "ca931346",
   "metadata": {},
   "source": [
    "# BioData Catalyst Powered by PIC-SURE: Identify stigmatizing variables\n",
    "\n",
    "The purpose of this notebook is to identify stigmatizing variables in [BioData Catalyst Powered by PIC-SURE](https://picsure.biodatacatalyst.nhlbi.nih.gov/). Specifically, stigmatizing variables will be identified in PIC-SURE Authorized Access and removed for PIC-SURE Open Access.\n",
    "\n",
    "For more information about stigmatizing variables, please view the [README.md](https://github.com/hms-dbmi/biodata_catalyst_stigmatizing_variables#biodata_catalyst_stigmatizing_variables)."
   ]
  },
  {
   "cell_type": "markdown",
   "id": "c40dee70",
   "metadata": {},
   "source": [
    "### Install packages"
   ]
  },
  {
   "cell_type": "code",
   "execution_count": null,
   "id": "c74342b8",
   "metadata": {},
   "outputs": [],
   "source": [
    "import pandas as pd\n",
    "import matplotlib.pyplot as plt\n",
    "import numpy as np\n",
    "import re\n",
    "from collections import Counter\n",
    "from pprint import pprint\n",
    "import json"
   ]
  },
  {
   "cell_type": "code",
   "execution_count": null,
   "id": "40af0409",
   "metadata": {
    "scrolled": true
   },
   "outputs": [],
   "source": [
    "import sys\n",
    "!{sys.executable} -m pip install --upgrade --force-reinstall git+https://github.com/hms-dbmi/pic-sure-python-client.git\n",
    "!{sys.executable} -m pip install --upgrade --force-reinstall git+https://github.com/hms-dbmi/pic-sure-python-adapter-hpds.git\n",
    "!{sys.executable} -m pip install --upgrade --force-reinstall git+https://github.com/hms-dbmi/pic-sure-biodatacatalyst-python-adapter-hpds.git"
   ]
  },
  {
   "cell_type": "code",
   "execution_count": null,
   "id": "e42833c6",
   "metadata": {},
   "outputs": [],
   "source": [
    "import PicSureClient\n",
    "import PicSureBdcAdapter\n",
    "from python_lib.utils import get_multiIndex_variablesDict, joining_variablesDict_onCol"
   ]
  },
  {
   "cell_type": "markdown",
   "id": "a0693e29",
   "metadata": {},
   "source": [
    "### Connect to PIC-SURE"
   ]
  },
  {
   "cell_type": "code",
   "execution_count": null,
   "id": "f24891b6",
   "metadata": {},
   "outputs": [],
   "source": [
    "PICSURE_network_URL = \"https://picsure.biodatacatalyst.nhlbi.nih.gov/picsure\"\n",
    "resource_id = \"02e23f52-f354-4e8b-992c-d37c8b9ba140\" # Be sure to use Authorized Access resource ID\n",
    "token_file = \"token.txt\" # Be sure to use developer token to get all variables"
   ]
  },
  {
   "cell_type": "code",
   "execution_count": null,
   "id": "4457ba09",
   "metadata": {},
   "outputs": [],
   "source": [
    "with open(token_file, \"r\") as f:\n",
    "    my_token = f.read()"
   ]
  },
  {
   "cell_type": "code",
   "execution_count": null,
   "id": "34b285a6",
   "metadata": {},
   "outputs": [],
   "source": [
    "client = PicSureClient.Client()\n",
    "connection = client.connect(PICSURE_network_URL, my_token, True)\n",
    "adapter = PicSureBdcAdapter.Adapter(connection)\n",
    "resource = adapter.useResource(resource_id)"
   ]
  },
  {
   "cell_type": "markdown",
   "id": "a98000bc",
   "metadata": {},
   "source": [
    "### Save all variables in PIC-SURE Authorized Access to DataFrame"
   ]
  },
  {
   "cell_type": "code",
   "execution_count": null,
   "id": "e7923839",
   "metadata": {},
   "outputs": [],
   "source": [
    "fullVariableDict = resource.dictionary().find().DataFrame()\n",
    "#fullVariableDict\n",
    "multiindex = get_multiIndex_variablesDict(fullVariableDict)"
   ]
  },
  {
   "cell_type": "code",
   "execution_count": null,
   "id": "1eaaf0f1",
   "metadata": {},
   "outputs": [],
   "source": [
    "multiindex # potentially explore categoryValues"
   ]
  },
  {
   "cell_type": "markdown",
   "id": "bc0382bb",
   "metadata": {},
   "source": [
    "### Stigmatizing variables using `simplified_name`"
   ]
  },
  {
   "cell_type": "code",
   "execution_count": null,
   "id": "a91a6d29",
   "metadata": {},
   "outputs": [],
   "source": [
    "def check_simplified_name(varlist, multiindex_df, exclude_vars=[]):\n",
    "    stig_var_list = []\n",
    "    excluded_var_list = []\n",
    "    for i in range(1, len(multiindex_df[\"simplified_name\"])):\n",
    "        for var in varlist:\n",
    "            if re.search(var, multiindex_df['simplified_name'][i], re.IGNORECASE):\n",
    "                for ex in exclude_vars:\n",
    "                    if multiindex_df['simplified_name'][i].lower() == ex:\n",
    "                        if multiindex_df['simplified_name'][i] not in excluded_var_list:\n",
    "                            excluded_var_list.append(multiindex_df['name'][i])\n",
    "                if multiindex_df['name'][i] not in excluded_var_list:\n",
    "                    if multiindex_df['name'][i] not in stig_var_list:\n",
    "                        stig_var_list.append(multiindex_df['name'][i])\n",
    "    return stig_var_list, excluded_var_list"
   ]
  },
  {
   "cell_type": "code",
   "execution_count": null,
   "id": "9d2233cb",
   "metadata": {},
   "outputs": [],
   "source": [
    "def regex_filter_out(stig_vars, terms_to_filter):\n",
    "    filter_out = []\n",
    "    for i in stig_vars:\n",
    "        simple_var = i.strip('\\\\').split('\\\\')[-1]\n",
    "        for term in terms_to_filter:\n",
    "            if re.search(term, simple_var, re.IGNORECASE):\n",
    "                filter_out.append(i)\n",
    "    list_difference = [item for item in stig_vars if item not in filter_out]\n",
    "    return list_difference"
   ]
  },
  {
   "cell_type": "markdown",
   "id": "057cfd93",
   "metadata": {},
   "source": [
    "#### Sex history filtering\n",
    "The following terms are used to filter out sex history variables:\n",
    "- sex\n",
    "- sex history\n",
    "- sexual\n",
    "- sexually\n",
    "- intercourse\n",
    "- coitus\n",
    "- copulation\n",
    "- pareunia\n",
    "- futunio\n",
    "- venery"
   ]
  },
  {
   "cell_type": "code",
   "execution_count": null,
   "id": "b516c0ea",
   "metadata": {},
   "outputs": [],
   "source": [
    "sex_history_terms = ['sex', 'sex history', 'sexual', 'sexually', 'intercourse', \n",
    "                     'coitus', 'copulation', 'pareunia', 'futunio', 'venery']\n",
    "sex_remove = ['sex', 'sex of participant']\n",
    "terms_to_filter = ['race and sex adjusted']"
   ]
  },
  {
   "cell_type": "code",
   "execution_count": null,
   "id": "0df685bd",
   "metadata": {},
   "outputs": [],
   "source": [
    "sex_stig_vars, ex_sex_vars = check_simplified_name(sex_history_terms, multiindex, exclude_vars=sex_remove)"
   ]
  },
  {
   "cell_type": "code",
   "execution_count": null,
   "id": "f506a03f",
   "metadata": {},
   "outputs": [],
   "source": [
    "final_sex_vars = regex_filter_out(sex_stig_vars, terms_to_filter)"
   ]
  },
  {
   "cell_type": "code",
   "execution_count": null,
   "id": "b48bee70",
   "metadata": {},
   "outputs": [],
   "source": [
    "print(len(sex_stig_vars))\n",
    "print(len(final_sex_vars))"
   ]
  },
  {
   "cell_type": "markdown",
   "id": "03f02497",
   "metadata": {},
   "source": [
    "#### Sexually transmitted disease diagnosis/history/treatment filtering\n",
    "The following terms are used to filter out variables related to sexually transmitted disease:\n",
    "- chlamydia\n",
    "- genital\n",
    "- herpes\n",
    "- gonorrhea\n",
    "- HIV\n",
    "- AIDS\n",
    "- HPV\n",
    "- pubic lice\n",
    "- syphilis\n",
    "- trichomoniasis\n",
    "- estrogens\n",
    "- vagina\n",
    "- progesterone"
   ]
  },
  {
   "cell_type": "code",
   "execution_count": null,
   "id": "7ac6e9d5",
   "metadata": {},
   "outputs": [],
   "source": [
    "sex_disease_terms = ['chlamydia', 'genital', 'herpes', 'gonorrhea', 'hiv', \n",
    "                     'aids', 'hpv', 'pubic lice', 'syphilis', 'trichomoniasis', \n",
    "                     'estrogens', 'vagina', 'progesterone', \"venereal\", \"penis\", \n",
    "                     \"vagina\", \"antiviral\"]\n",
    "terms_to_filter = ['hives', 'health aids', 'nsaids', 'herpes zoster', 'chlamydia pneumoniae', 'heart disease']"
   ]
  },
  {
   "cell_type": "code",
   "execution_count": null,
   "id": "d2c92bb0",
   "metadata": {},
   "outputs": [],
   "source": [
    "sex_disease_stig_vars, _ = check_simplified_name(sex_disease_terms, multiindex)"
   ]
  },
  {
   "cell_type": "code",
   "execution_count": null,
   "id": "9b4d5e05",
   "metadata": {},
   "outputs": [],
   "source": [
    "len(sex_disease_stig_vars)"
   ]
  },
  {
   "cell_type": "code",
   "execution_count": null,
   "id": "2aeab1d5",
   "metadata": {},
   "outputs": [],
   "source": [
    "final = regex_filter_out(sex_disease_stig_vars, terms_to_filter)"
   ]
  },
  {
   "cell_type": "code",
   "execution_count": null,
   "id": "b591ac33",
   "metadata": {},
   "outputs": [],
   "source": [
    "len(final)"
   ]
  },
  {
   "cell_type": "markdown",
   "id": "c8ee3c2c",
   "metadata": {},
   "source": [
    "#### Mental health diagnoses/history/treatment filtering\n",
    "The following terms are used to filter out variables related to mental health:\n",
    "- depression\n",
    "- depressive\n",
    "- anxiety\n",
    "- panic\n",
    "- phobia\n",
    "- schizophrenia\n",
    "- mental (and NOT supplemental/instrumental/environmental etc)\n",
    "- mental health\n",
    "- psycho\n",
    "- psychological\n",
    "- emotional health"
   ]
  },
  {
   "cell_type": "code",
   "execution_count": null,
   "id": "068567e0",
   "metadata": {},
   "outputs": [],
   "source": [
    "mental_disease_terms = ['depression', 'depressive', 'anxiety', 'panic', 'phobias', 'schizophrenia',\n",
    "                       'mental', 'mental health', 'psycho', 'psychological', 'emotional health']\n",
    "terms_to_filter = ['hispanic', 'electrocardiograph', 'minn code', 'minnesota code', \n",
    "                   'ecg', 'environmental', 'instrumental', 'mini-mental state exam']"
   ]
  },
  {
   "cell_type": "code",
   "execution_count": null,
   "id": "b04076ca",
   "metadata": {},
   "outputs": [],
   "source": [
    "mental_disease_stig_vars, _ = check_simplified_name(mental_disease_terms, multiindex)"
   ]
  },
  {
   "cell_type": "code",
   "execution_count": null,
   "id": "795c14f9",
   "metadata": {},
   "outputs": [],
   "source": [
    "final = regex_filter_out(mental_disease_stig_vars, terms_to_filter)"
   ]
  },
  {
   "cell_type": "code",
   "execution_count": null,
   "id": "a38b51d9",
   "metadata": {},
   "outputs": [],
   "source": [
    "print(len(mental_disease_stig_vars))\n",
    "print(len(final))"
   ]
  },
  {
   "cell_type": "markdown",
   "id": "05444bac",
   "metadata": {},
   "source": [
    "#### Illicit drug use history filtering\n",
    "The following terms are used to filter out variables related to illicit drug use:\n",
    "- illicit\n",
    "- street drug\n",
    "- abuse\n",
    "- illegal\n",
    "- fentanyl\n",
    "- cocaine\n",
    "- ecstasy\n",
    "- LSD\n",
    "- methamphetamine\n",
    "- heroin\n",
    "- phencyclidine\n",
    "- angel dust\n",
    "- rohypnol\n",
    "- roofies\n",
    "- ketamine hydrochloride\n",
    "- psilocybin\n",
    "- mushroom\n",
    "- krokodil\n",
    "- marijuana\n",
    "- salvia\n",
    "- bath salts\n",
    "- flakka\n",
    "- ayahuasca\n",
    "- DMT\n",
    "- central nervous system depressant\n",
    "- hallucinogen\n",
    "- inhalant\n",
    "- khat\n",
    "- kratom\n",
    "- mescaline\n",
    "- loperamide\n",
    "- dextromethorphan\n",
    "- opioid\n",
    "- stimulant\n",
    "- cannabinoid\n",
    "- gamma hydroxybutyrate\n",
    "- alcohol\n",
    "- steroid\n",
    "- tobacco\n",
    "- nicotine"
   ]
  },
  {
   "cell_type": "code",
   "execution_count": null,
   "id": "d8c08f29",
   "metadata": {},
   "outputs": [],
   "source": [
    "illicit_drug_terms = ['illicit', 'street drug', 'abuse', 'illegal', 'fentanyl', \n",
    "                      'cocaine', 'ecstasy', 'lsd', 'methamphetamine', 'heroin', \n",
    "                      'phencyclidine', 'angel dust', 'rohypnol', 'roofies', \n",
    "                      'ketamine hydrochloride', 'psilocybin', 'mushroom', 'krokodil', \n",
    "                      'marijuana', 'salvia','bath salts', 'flakka', 'ayahuasca', 'dmt', \n",
    "                      'central nervous system depressant', 'hallucinogen', 'inhalant', 'khat', \n",
    "                      'kratom', 'mescaline', 'loperamide', 'dextromethorphan','opioid', \n",
    "                      'stimulant', 'cannabinoid', 'gamma hydroxybutyrate', 'depressants']#, \n",
    "                      #'alcohol', 'steroid', 'tobacco', 'nicotine']"
   ]
  },
  {
   "cell_type": "code",
   "execution_count": null,
   "id": "41459bd9",
   "metadata": {},
   "outputs": [],
   "source": [
    "illicit_drug_stig_vars = check_simplified_name(illicit_drug_terms, multiindex)"
   ]
  },
  {
   "cell_type": "markdown",
   "id": "2e57e18a",
   "metadata": {},
   "source": [
    "#### Intellectual achievement/ability/educational attainment filtering\n",
    "The following terms are used to filter out variables related to intellectual achievement:\n",
    "(Note from Rui: no genetics IQ outcomes)\n",
    "- bachelor\n",
    "- master\n",
    "- phd\n",
    "- quotient\n",
    "- intellectual\n",
    "- intelligence\n",
    "- achievement\n",
    "- disability\n",
    "- ability - maybe\n",
    "- attainment\n",
    "- education\n",
    "- genetic iq\n",
    "- school"
   ]
  },
  {
   "cell_type": "code",
   "execution_count": null,
   "id": "91d326c7",
   "metadata": {},
   "outputs": [],
   "source": [
    "intell_ability_terms = ['bachelor', 'master', 'phd', 'quotient', 'intellectual', 'intelligence',\n",
    "                        'achievement', 'disability', 'ability', 'attainment', 'education', 'genetic iq', 'school']"
   ]
  },
  {
   "cell_type": "code",
   "execution_count": null,
   "id": "21adb4e9",
   "metadata": {},
   "outputs": [],
   "source": [
    "intell_ability_stig_vars = check_simplified_name(intell_ability_terms, multiindex)"
   ]
  },
  {
   "cell_type": "markdown",
   "id": "f78dca8d",
   "metadata": {},
   "source": [
    "#### Direct or surrogate identifiers of legal status filtering\n",
    "The following terms are used to filter out variables related to legal status:\n",
    "- villainage\n",
    "- villeinage\n",
    "- citizenship\n",
    "- marital\n",
    "- married\n",
    "- unmarried\n",
    "- single\n",
    "- divorced\n",
    "- widowed\n",
    "- minority\n",
    "- nonage\n",
    "- marriage\n",
    "- matrimony\n",
    "- spousal\n",
    "- civil union\n",
    "- wedlock\n",
    "- bachelorhood\n",
    "- spinsterhood\n",
    "- widowhood\n",
    "- ethnicity\n",
    "- nationality\n",
    "- race\n",
    "- death"
   ]
  },
  {
   "cell_type": "code",
   "execution_count": null,
   "id": "1b09eb10",
   "metadata": {},
   "outputs": [],
   "source": [
    "legal_status_terms = ['villainage', 'villeinage', 'citizenship', 'marital', \n",
    "                      'married', 'unmarried', 'single', 'divorced', 'widowed', \n",
    "                      'minority', 'nonage', 'marriage', 'matrimony', 'spousal',  \n",
    "                      'civil union', 'wedlock', 'bachelorhood', 'spinsterhood',\n",
    "                      'widowhood', 'ethnicity', 'nationality', 'race', 'death', \n",
    "                      'identifier', 'identity', ' no.', 'surrogate', 'legal status', \n",
    "                      'ethnicity', 'race', 'nationality', 'death']"
   ]
  },
  {
   "cell_type": "code",
   "execution_count": null,
   "id": "b3ed418e",
   "metadata": {},
   "outputs": [],
   "source": [
    "legal_status_stig_vars = check_simplified_name(legal_status_terms, multiindex)"
   ]
  },
  {
   "cell_type": "markdown",
   "id": "6968b082",
   "metadata": {},
   "source": [
    "### Export potentially stigmatizing variables"
   ]
  },
  {
   "cell_type": "code",
   "execution_count": null,
   "id": "f96fa998",
   "metadata": {},
   "outputs": [],
   "source": [
    "def final_export(sex, sex_disease, mental_disease, illicit_drug, intell_ability, legal_status):\n",
    "    labels = {'***SEX STIG VARS***': sex, '***SEX DISEASE STIG VARS***': sex_disease, \n",
    "              '***MENTAL STIG VARS***': mental_disease, '***ILLICIT DRUG STIG VARS***': illicit_drug, \n",
    "              '***INTELL ABILITY STIG VARS***': illicit_drug, '***LEGAL STATUS STIG VARS***': legal_status}\n",
    "    final = []\n",
    "    for i in labels:\n",
    "        final.append(i)\n",
    "        for j in labels[i]:\n",
    "            if j not in final:\n",
    "                final.append(j)\n",
    "    pd.DataFrame(final).to_csv(\"stig_vars.tsv\", sep='\\t')\n",
    "    return(\"Finished.\")"
   ]
  },
  {
   "cell_type": "code",
   "execution_count": null,
   "id": "65fadec1",
   "metadata": {},
   "outputs": [],
   "source": [
    "final_export(sex_stig_vars, sex_disease_stig_vars, mental_disease_stig_vars, \n",
    "             illicit_drug_stig_vars, intell_ability_stig_vars, legal_status_stig_vars)"
   ]
  },
  {
   "cell_type": "code",
   "execution_count": null,
   "id": "9f136a9d",
   "metadata": {},
   "outputs": [],
   "source": [
    "test[67]"
   ]
  },
  {
   "cell_type": "code",
   "execution_count": null,
   "id": "f4512d34",
   "metadata": {},
   "outputs": [],
   "source": [
    "sex_stig_vars[67]"
   ]
  },
  {
   "cell_type": "code",
   "execution_count": null,
   "id": "b9ead78a",
   "metadata": {},
   "outputs": [],
   "source": []
  }
 ],
 "metadata": {
  "kernelspec": {
   "display_name": "conda_python3",
   "language": "python",
   "name": "conda_python3"
  },
  "language_info": {
   "codemirror_mode": {
    "name": "ipython",
    "version": 3
   },
   "file_extension": ".py",
   "mimetype": "text/x-python",
   "name": "python",
   "nbconvert_exporter": "python",
   "pygments_lexer": "ipython3",
   "version": "3.6.13"
  }
 },
 "nbformat": 4,
 "nbformat_minor": 5
}
