{
 "cells": [
  {
   "cell_type": "markdown",
   "id": "d6665e6e",
   "metadata": {},
   "source": [
    "# BioData Catalyst Powered by PIC-SURE: Validate stigmatizing variables\n",
    "\n",
    "The purpose of this notebook is to validate stigmatizing variables in [BioData Catalyst Powered by PIC-SURE](https://picsure.biodatacatalyst.nhlbi.nih.gov/). Specifically, this notebook will ensure the stigmatizing variables identified were removed from PIC-SURE Open Access.\n",
    "\n",
    "For more information about stigmatizing variables, please view the [README.md](https://github.com/hms-dbmi/biodata_catalyst_stigmatizing_variables#biodata_catalyst_stigmatizing_variables)."
   ]
  },
  {
   "cell_type": "markdown",
   "id": "7d7b2fbf",
   "metadata": {},
   "source": [
    "### Install packages"
   ]
  },
  {
   "cell_type": "code",
   "execution_count": 1,
   "id": "f06b9919",
   "metadata": {},
   "outputs": [
    {
     "name": "stdout",
     "output_type": "stream",
     "text": [
      "Collecting git+https://github.com/hms-dbmi/pic-sure-python-client.git\n",
      "  Cloning https://github.com/hms-dbmi/pic-sure-python-client.git to /tmp/pip-req-build-ct92ey60\n",
      "  Running command git clone -q https://github.com/hms-dbmi/pic-sure-python-client.git /tmp/pip-req-build-ct92ey60\n",
      "Building wheels for collected packages: PicSureClient\n",
      "  Building wheel for PicSureClient (setup.py) ... \u001b[?25ldone\n",
      "\u001b[?25h  Created wheel for PicSureClient: filename=PicSureClient-0.1.0-py2.py3-none-any.whl size=10300 sha256=e171b7a8c09b55005bd8bab51e960e5b176377cc5adc3ded98ff494ccd75aa42\n",
      "  Stored in directory: /tmp/pip-ephem-wheel-cache-dxq3j1ik/wheels/31/ef/21/e362bba8de04e0072fafec9f77bd1abdf7e166213d27e98729\n",
      "Successfully built PicSureClient\n",
      "Installing collected packages: PicSureClient\n",
      "Successfully installed PicSureClient-0.1.0\n",
      "Collecting git+https://github.com/hms-dbmi/pic-sure-python-adapter-hpds.git\n",
      "  Cloning https://github.com/hms-dbmi/pic-sure-python-adapter-hpds.git to /tmp/pip-req-build-i_u1fyps\n",
      "  Running command git clone -q https://github.com/hms-dbmi/pic-sure-python-adapter-hpds.git /tmp/pip-req-build-i_u1fyps\n",
      "Collecting httplib2\n",
      "  Downloading httplib2-0.19.1-py3-none-any.whl (95 kB)\n",
      "\u001b[K     |████████████████████████████████| 95 kB 4.8 MB/s  eta 0:00:01\n",
      "\u001b[?25hCollecting pyparsing<3,>=2.4.2\n",
      "  Downloading pyparsing-2.4.7-py2.py3-none-any.whl (67 kB)\n",
      "\u001b[K     |████████████████████████████████| 67 kB 1.4 MB/s  eta 0:00:01\n",
      "\u001b[?25hBuilding wheels for collected packages: PicSureHpdsLib\n",
      "  Building wheel for PicSureHpdsLib (setup.py) ... \u001b[?25ldone\n",
      "\u001b[?25h  Created wheel for PicSureHpdsLib: filename=PicSureHpdsLib-0.9.0-py2.py3-none-any.whl size=22051 sha256=e41a276e6c89d4cb3d7cd7edbca402c5a3bff71ee3cc9febfd2e88cb02fa91ac\n",
      "  Stored in directory: /tmp/pip-ephem-wheel-cache-lmzjaar6/wheels/ae/d9/1a/c8c0ac8151b575c845efddc061fe014d86c51d1fd2c408907c\n",
      "Successfully built PicSureHpdsLib\n",
      "Installing collected packages: pyparsing, httplib2, PicSureHpdsLib\n",
      "  Attempting uninstall: pyparsing\n",
      "    Found existing installation: pyparsing 2.4.7\n",
      "    Uninstalling pyparsing-2.4.7:\n",
      "      Successfully uninstalled pyparsing-2.4.7\n",
      "Successfully installed PicSureHpdsLib-0.9.0 httplib2-0.19.1 pyparsing-2.4.7\n",
      "Collecting git+https://github.com/hms-dbmi/pic-sure-biodatacatalyst-python-adapter-hpds.git\n",
      "  Cloning https://github.com/hms-dbmi/pic-sure-biodatacatalyst-python-adapter-hpds.git to /tmp/pip-req-build-bfeaolog\n",
      "  Running command git clone -q https://github.com/hms-dbmi/pic-sure-biodatacatalyst-python-adapter-hpds.git /tmp/pip-req-build-bfeaolog\n",
      "Collecting httplib2\n",
      "  Using cached httplib2-0.19.1-py3-none-any.whl (95 kB)\n",
      "Collecting pyparsing<3,>=2.4.2\n",
      "  Using cached pyparsing-2.4.7-py2.py3-none-any.whl (67 kB)\n",
      "Building wheels for collected packages: PicSureBdcAdapter\n",
      "  Building wheel for PicSureBdcAdapter (setup.py) ... \u001b[?25ldone\n",
      "\u001b[?25h  Created wheel for PicSureBdcAdapter: filename=PicSureBdcAdapter-1.0.0-py3-none-any.whl size=8605 sha256=919d79324b2a6e5114b3924e346b067bbb138a7096e02d7286448c96375aa20d\n",
      "  Stored in directory: /tmp/pip-ephem-wheel-cache-19koqb2w/wheels/20/c3/f6/72bb8b68322e9bb56152181e827c51c09df269e5f84ed7311b\n",
      "Successfully built PicSureBdcAdapter\n",
      "Installing collected packages: pyparsing, httplib2, PicSureBdcAdapter\n",
      "  Attempting uninstall: pyparsing\n",
      "    Found existing installation: pyparsing 2.4.7\n",
      "    Uninstalling pyparsing-2.4.7:\n",
      "      Successfully uninstalled pyparsing-2.4.7\n",
      "  Attempting uninstall: httplib2\n",
      "    Found existing installation: httplib2 0.19.1\n",
      "    Uninstalling httplib2-0.19.1:\n",
      "      Successfully uninstalled httplib2-0.19.1\n",
      "Successfully installed PicSureBdcAdapter-1.0.0 httplib2-0.19.1 pyparsing-2.4.7\n"
     ]
    }
   ],
   "source": [
    "import sys\n",
    "!{sys.executable} -m pip install --upgrade --force-reinstall git+https://github.com/hms-dbmi/pic-sure-python-client.git\n",
    "!{sys.executable} -m pip install --upgrade --force-reinstall git+https://github.com/hms-dbmi/pic-sure-python-adapter-hpds.git\n",
    "!{sys.executable} -m pip install --upgrade --force-reinstall git+https://github.com/hms-dbmi/pic-sure-biodatacatalyst-python-adapter-hpds.git"
   ]
  },
  {
   "cell_type": "code",
   "execution_count": 2,
   "id": "cccb647c",
   "metadata": {},
   "outputs": [],
   "source": [
    "import PicSureClient\n",
    "import PicSureBdcAdapter\n",
    "from python_lib.utils import get_multiIndex_variablesDict, joining_variablesDict_onCol"
   ]
  },
  {
   "cell_type": "code",
   "execution_count": null,
   "id": "f18f3437",
   "metadata": {},
   "outputs": [],
   "source": []
  }
 ],
 "metadata": {
  "kernelspec": {
   "display_name": "conda_python3",
   "language": "python",
   "name": "conda_python3"
  },
  "language_info": {
   "codemirror_mode": {
    "name": "ipython",
    "version": 3
   },
   "file_extension": ".py",
   "mimetype": "text/x-python",
   "name": "python",
   "nbconvert_exporter": "python",
   "pygments_lexer": "ipython3",
   "version": "3.6.13"
  }
 },
 "nbformat": 4,
 "nbformat_minor": 5
}
