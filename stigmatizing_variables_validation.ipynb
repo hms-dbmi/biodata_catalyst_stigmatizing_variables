{
 "cells": [
  {
   "cell_type": "markdown",
   "id": "cd063143",
   "metadata": {},
   "source": [
    "# BioData Catalyst Powered by PIC-SURE: Validate stigmatizing variables\n",
    "\n",
    "The purpose of this notebook is to validate stigmatizing variables in [BioData Catalyst Powered by PIC-SURE](https://picsure.biodatacatalyst.nhlbi.nih.gov/). Specifically, this notebook will ensure the stigmatizing variables identified were removed from PIC-SURE Open Access.\n",
    "\n",
    "For more information about stigmatizing variables, please view the [README.md](https://github.com/hms-dbmi/biodata_catalyst_stigmatizing_variables#biodata_catalyst_stigmatizing_variables)."
   ]
  },
  {
   "cell_type": "markdown",
   "id": "39249165",
   "metadata": {},
   "source": [
    "### Install packages"
   ]
  },
  {
   "cell_type": "code",
   "execution_count": null,
   "id": "bdc2ad4d",
   "metadata": {},
   "outputs": [],
   "source": [
    "import PicSureClient\n",
    "import PicSureBdcAdapter\n",
    "from python_lib.utils import get_multiIndex_variablesDict, joining_variablesDict_onCol\n",
    "from python_lib.stig_utils import validate_stig_vars"
   ]
  },
  {
   "cell_type": "code",
   "execution_count": null,
   "id": "74a32a68",
   "metadata": {},
   "outputs": [],
   "source": [
    "import sys\n",
    "!{sys.executable} -m pip install --upgrade --force-reinstall git+https://github.com/hms-dbmi/pic-sure-python-client.git\n",
    "!{sys.executable} -m pip install --upgrade --force-reinstall git+https://github.com/hms-dbmi/pic-sure-python-adapter-hpds.git\n",
    "!{sys.executable} -m pip install --upgrade --force-reinstall git+https://github.com/hms-dbmi/pic-sure-biodatacatalyst-python-adapter-hpds.git"
   ]
  },
  {
   "cell_type": "code",
   "execution_count": null,
   "id": "a49bebfb",
   "metadata": {},
   "outputs": [],
   "source": [
    "import pandas as pd"
   ]
  },
  {
   "cell_type": "markdown",
   "id": "36a900c9",
   "metadata": {},
   "source": [
    "### Connect to PIC-SURE"
   ]
  },
  {
   "cell_type": "code",
   "execution_count": null,
   "id": "aa553900",
   "metadata": {},
   "outputs": [],
   "source": [
    "# Should integration environment be used?\n",
    "PICSURE_network_URL = \"https://biodatacatalyst.integration.hms.harvard.edu/picsure\" \n",
    "resource_id = \"70c837be-5ffc-11eb-ae93-0242ac130002\" # Be sure to use Open Access resource id\n",
    "token_file = \"token.txt\""
   ]
  },
  {
   "cell_type": "code",
   "execution_count": null,
   "id": "7b9b2cae",
   "metadata": {},
   "outputs": [],
   "source": [
    "with open(token_file, \"r\") as f:\n",
    "    my_token = f.read()"
   ]
  },
  {
   "cell_type": "code",
   "execution_count": null,
   "id": "70e71d29",
   "metadata": {},
   "outputs": [],
   "source": [
    "client = PicSureClient.Client()\n",
    "connection = client.connect(PICSURE_network_URL, my_token, True)\n",
    "adapter = PicSureBdcAdapter.Adapter(connection)\n",
    "resource = adapter.useResource(resource_id)"
   ]
  },
  {
   "cell_type": "markdown",
   "id": "2495a40f",
   "metadata": {},
   "source": [
    "### Get concept paths from PIC-SURE Open Access and list of stigmatizing variables"
   ]
  },
  {
   "cell_type": "code",
   "execution_count": null,
   "id": "79d61125",
   "metadata": {},
   "outputs": [],
   "source": [
    "fullVariableDict = resource.dictionary().find().keys()\n",
    "fullVariableDict"
   ]
  },
  {
   "cell_type": "code",
   "execution_count": null,
   "id": "f1d68fe4",
   "metadata": {},
   "outputs": [],
   "source": [
    "#stigvar = pd.read_csv('./NAME OF STIGVARS.CSV HERE', header=None).values.tolist()"
   ]
  },
  {
   "cell_type": "markdown",
   "id": "c8628dc5",
   "metadata": {},
   "source": [
    "### Validation testing"
   ]
  },
  {
   "cell_type": "code",
   "execution_count": null,
   "id": "3c2e4411",
   "metadata": {},
   "outputs": [],
   "source": [
    "test = ['\\\\Multi-Ethnic Study of Atherosclerosis (MESA) SHARe ( phs000209 )\\\\MESA Lung Ancillary Study Air New Recruit Dataset: This dataset provides Lung CT scan data for MESA Air New Recruit participants enrolled in the MESA Lung Ancillary Study.\\\\LEFT LUNG: DEFINITION OF EMPHYSEMA CUTOFF VALUE (HU) VALUES LESS THAN THIS ARE CONSIDERED EMPHYSEMA\\\\',\n",
    " '\\\\Framingham Cohort ( phs000007 )\\\\Lab Work\\\\Blood\\\\Hematologic\\\\NEUROLOGICAL FINDINGS: LOCALIZED MUSCLE WEAKNESS\\\\',\n",
    " '\\\\Cardiovascular Health Study (CHS) Cohort: an NHLBI-funded observational study of risk factors for cardiovascular disease in adults 65 years or older ( phs000287 )\\\\Data contain extensive medical history information of subjects (all > 65 years of age)\\\\2 HR INSULIN (IU/ml)\\\\',\n",
    " '\\\\Framingham Cohort ( phs000007 )\\\\Tests\\\\X-ray\\\\ECG: SUPRAVENTRICULAR-TACHYCARDIA\\\\',\n",
    " '\\\\NHLBI Atherosclerosis Risk in Communities (ARIC) Candidate Gene Association Resource (CARe) ( phs000280 )\\\\Cohort Event Eligibility Form\\\\Hospital discharge dx or procedure codes Q10c\\\\',\n",
    " '\\\\Framingham Cohort ( phs000007 )\\\\Tests\\\\Bone Study\\\\Baseline exam: length of first hand (Left-Right unknown) middle phalanx 5 (pinkie)\\\\',\n",
    " '\\\\NHLBI Atherosclerosis Risk in Communities (ARIC) Candidate Gene Association Resource (CARe) ( phs000280 )\\\\Anthropometry Form, Visit 5\\\\Q2a. Self report. Self reported weight [Anthropometry Form]\\\\',\n",
    " '\\\\Framingham Cohort ( phs000007 )\\\\Tests\\\\Bone Study\\\\X-RAY: AFTER, GENERALIZED CARDIAC ENLARGEMENT\\\\',\n",
    " '\\\\NHLBI Atherosclerosis Risk in Communities (ARIC) Candidate Gene Association Resource (CARe) ( phs000280 )\\\\Cohort Event Eligibility Form\\\\Hospital discharge dx or procedure codes Q10h\\\\']"
   ]
  },
  {
   "cell_type": "code",
   "execution_count": null,
   "id": "1f2e99fa",
   "metadata": {},
   "outputs": [],
   "source": [
    "test1 = ['\\\\lets see what\\\\we can find here\\\\shall we?']"
   ]
  },
  {
   "cell_type": "code",
   "execution_count": null,
   "id": "a4af803e",
   "metadata": {},
   "outputs": [],
   "source": [
    "test_results = validate_stig_vars(fullVariableDict, test1)\n",
    "test_results"
   ]
  },
  {
   "cell_type": "code",
   "execution_count": null,
   "id": "1f586a31",
   "metadata": {},
   "outputs": [],
   "source": [
    "fullvar = pd.DataFrame(fullVariableDict, columns=['Key'])\n",
    "fullvar"
   ]
  },
  {
   "cell_type": "code",
   "execution_count": null,
   "id": "4bdb663f",
   "metadata": {},
   "outputs": [],
   "source": []
  }
 ],
 "metadata": {
  "kernelspec": {
   "display_name": "conda_python3",
   "language": "python",
   "name": "conda_python3"
  },
  "language_info": {
   "codemirror_mode": {
    "name": "ipython",
    "version": 3
   },
   "file_extension": ".py",
   "mimetype": "text/x-python",
   "name": "python",
   "nbconvert_exporter": "python",
   "pygments_lexer": "ipython3",
   "version": "3.6.13"
  }
 },
 "nbformat": 4,
 "nbformat_minor": 5
}
